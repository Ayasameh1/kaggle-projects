{
 "cells": [
  {
   "cell_type": "markdown",
   "id": "87cfb138",
   "metadata": {
    "papermill": {
     "duration": 0.004816,
     "end_time": "2022-08-22T09:25:09.559135",
     "exception": false,
     "start_time": "2022-08-22T09:25:09.554319",
     "status": "completed"
    },
    "tags": []
   },
   "source": [
    "**This notebook is an exercise in the [Introduction to Machine Learning](https://www.kaggle.com/learn/intro-to-machine-learning) course.  You can reference the tutorial at [this link](https://www.kaggle.com/dansbecker/underfitting-and-overfitting).**\n",
    "\n",
    "---\n"
   ]
  },
  {
   "cell_type": "markdown",
   "id": "d3fca3a4",
   "metadata": {
    "papermill": {
     "duration": 0.004872,
     "end_time": "2022-08-22T09:25:09.568037",
     "exception": false,
     "start_time": "2022-08-22T09:25:09.563165",
     "status": "completed"
    },
    "tags": []
   },
   "source": [
    "## Recap\n",
    "You've built your first model, and now it's time to optimize the size of the tree to make better predictions. Run this cell to set up your coding environment where the previous step left off."
   ]
  },
  {
   "cell_type": "code",
   "execution_count": 1,
   "id": "fd66e6f1",
   "metadata": {
    "execution": {
     "iopub.execute_input": "2022-08-22T09:25:09.580383Z",
     "iopub.status.busy": "2022-08-22T09:25:09.578964Z",
     "iopub.status.idle": "2022-08-22T09:25:11.290271Z",
     "shell.execute_reply": "2022-08-22T09:25:11.288663Z"
    },
    "papermill": {
     "duration": 1.721708,
     "end_time": "2022-08-22T09:25:11.294661",
     "exception": false,
     "start_time": "2022-08-22T09:25:09.572953",
     "status": "completed"
    },
    "tags": []
   },
   "outputs": [
    {
     "name": "stdout",
     "output_type": "stream",
     "text": [
      "Validation MAE: 29,653\n",
      "\n",
      "Setup complete\n"
     ]
    }
   ],
   "source": [
    "# Code you have previously used to load data\n",
    "import pandas as pd\n",
    "from sklearn.metrics import mean_absolute_error\n",
    "from sklearn.model_selection import train_test_split\n",
    "from sklearn.tree import DecisionTreeRegressor\n",
    "\n",
    "\n",
    "# Path of the file to read\n",
    "iowa_file_path = '../input/home-data-for-ml-course/train.csv'\n",
    "\n",
    "home_data = pd.read_csv(iowa_file_path)\n",
    "# Create target object and call it y\n",
    "y = home_data.SalePrice\n",
    "# Create X\n",
    "features = ['LotArea', 'YearBuilt', '1stFlrSF', '2ndFlrSF', 'FullBath', 'BedroomAbvGr', 'TotRmsAbvGrd']\n",
    "X = home_data[features]\n",
    "\n",
    "# Split into validation and training data\n",
    "train_X, val_X, train_y, val_y = train_test_split(X, y, random_state=1)\n",
    "\n",
    "# Specify Model\n",
    "iowa_model = DecisionTreeRegressor(random_state=1)\n",
    "# Fit Model\n",
    "iowa_model.fit(train_X, train_y)\n",
    "\n",
    "# Make validation predictions and calculate mean absolute error\n",
    "val_predictions = iowa_model.predict(val_X)\n",
    "val_mae = mean_absolute_error(val_predictions, val_y)\n",
    "print(\"Validation MAE: {:,.0f}\".format(val_mae))\n",
    "\n",
    "# Set up code checking\n",
    "from learntools.core import binder\n",
    "binder.bind(globals())\n",
    "from learntools.machine_learning.ex5 import *\n",
    "print(\"\\nSetup complete\")"
   ]
  },
  {
   "cell_type": "markdown",
   "id": "ca138e85",
   "metadata": {
    "papermill": {
     "duration": 0.003448,
     "end_time": "2022-08-22T09:25:11.302425",
     "exception": false,
     "start_time": "2022-08-22T09:25:11.298977",
     "status": "completed"
    },
    "tags": []
   },
   "source": [
    "# Exercises\n",
    "You could write the function `get_mae` yourself. For now, we'll supply it. This is the same function you read about in the previous lesson. Just run the cell below."
   ]
  },
  {
   "cell_type": "code",
   "execution_count": 2,
   "id": "5393a68e",
   "metadata": {
    "execution": {
     "iopub.execute_input": "2022-08-22T09:25:11.312322Z",
     "iopub.status.busy": "2022-08-22T09:25:11.311766Z",
     "iopub.status.idle": "2022-08-22T09:25:11.318304Z",
     "shell.execute_reply": "2022-08-22T09:25:11.317053Z"
    },
    "papermill": {
     "duration": 0.014547,
     "end_time": "2022-08-22T09:25:11.320885",
     "exception": false,
     "start_time": "2022-08-22T09:25:11.306338",
     "status": "completed"
    },
    "tags": []
   },
   "outputs": [],
   "source": [
    "def get_mae(max_leaf_nodes, train_X, val_X, train_y, val_y):\n",
    "    model = DecisionTreeRegressor(max_leaf_nodes=max_leaf_nodes, random_state=0)\n",
    "    model.fit(train_X, train_y)\n",
    "    preds_val = model.predict(val_X)\n",
    "    mae = mean_absolute_error(val_y, preds_val)\n",
    "    return(mae)"
   ]
  },
  {
   "cell_type": "markdown",
   "id": "37f987c7",
   "metadata": {
    "papermill": {
     "duration": 0.003285,
     "end_time": "2022-08-22T09:25:11.327940",
     "exception": false,
     "start_time": "2022-08-22T09:25:11.324655",
     "status": "completed"
    },
    "tags": []
   },
   "source": [
    "## Step 1: Compare Different Tree Sizes\n",
    "Write a loop that tries the following values for *max_leaf_nodes* from a set of possible values.\n",
    "\n",
    "Call the *get_mae* function on each value of max_leaf_nodes. Store the output in some way that allows you to select the value of `max_leaf_nodes` that gives the most accurate model on your data."
   ]
  },
  {
   "cell_type": "code",
   "execution_count": 3,
   "id": "c5d9d712",
   "metadata": {
    "execution": {
     "iopub.execute_input": "2022-08-22T09:25:11.337298Z",
     "iopub.status.busy": "2022-08-22T09:25:11.336517Z",
     "iopub.status.idle": "2022-08-22T09:25:11.388926Z",
     "shell.execute_reply": "2022-08-22T09:25:11.387720Z"
    },
    "papermill": {
     "duration": 0.060508,
     "end_time": "2022-08-22T09:25:11.392041",
     "exception": false,
     "start_time": "2022-08-22T09:25:11.331533",
     "status": "completed"
    },
    "tags": []
   },
   "outputs": [
    {
     "name": "stdout",
     "output_type": "stream",
     "text": [
      "Max leaf nodes: 5  \t\t Mean Absolute Error:  35044\n",
      "Max leaf nodes: 25  \t\t Mean Absolute Error:  29016\n",
      "Max leaf nodes: 50  \t\t Mean Absolute Error:  27405\n",
      "Max leaf nodes: 100  \t\t Mean Absolute Error:  27282\n",
      "Max leaf nodes: 250  \t\t Mean Absolute Error:  27893\n",
      "Max leaf nodes: 500  \t\t Mean Absolute Error:  29454\n"
     ]
    },
    {
     "data": {
      "application/javascript": [
       "parent.postMessage({\"jupyterEvent\": \"custom.exercise_interaction\", \"data\": {\"outcomeType\": 1, \"valueTowardsCompletion\": 0.5, \"interactionType\": 1, \"questionType\": 1, \"questionId\": \"1_BestTreeSize\", \"learnToolsVersion\": \"0.3.4\", \"failureMessage\": \"\", \"exceptionClass\": \"\", \"trace\": \"\"}}, \"*\")"
      ],
      "text/plain": [
       "<IPython.core.display.Javascript object>"
      ]
     },
     "metadata": {},
     "output_type": "display_data"
    },
    {
     "data": {
      "text/markdown": [
       "<span style=\"color:#33cc33\">Correct</span>"
      ],
      "text/plain": [
       "Correct"
      ]
     },
     "metadata": {},
     "output_type": "display_data"
    }
   ],
   "source": [
    "for candidate_max_leaf_nodes in [5, 25, 50, 100, 250, 500]:\n",
    "# Write loop to find the ideal tree size from candidate_max_leaf_nodes\n",
    "\n",
    "     my_mae = get_mae(candidate_max_leaf_nodes, train_X, val_X, train_y, val_y)\n",
    "     print(\"Max leaf nodes: %d  \\t\\t Mean Absolute Error:  %d\" %(candidate_max_leaf_nodes, my_mae))\n",
    "\n",
    "# Store the best value of max_leaf_nodes (it will be either 5, 25, 50, 100, 250 or 500)\n",
    "best_tree_size = 100\n",
    "\n",
    "# Check your answer\n",
    "step_1.check()"
   ]
  },
  {
   "cell_type": "code",
   "execution_count": 4,
   "id": "850ed82c",
   "metadata": {
    "execution": {
     "iopub.execute_input": "2022-08-22T09:25:11.403054Z",
     "iopub.status.busy": "2022-08-22T09:25:11.402625Z",
     "iopub.status.idle": "2022-08-22T09:25:11.408104Z",
     "shell.execute_reply": "2022-08-22T09:25:11.406494Z"
    },
    "papermill": {
     "duration": 0.013948,
     "end_time": "2022-08-22T09:25:11.410690",
     "exception": false,
     "start_time": "2022-08-22T09:25:11.396742",
     "status": "completed"
    },
    "tags": []
   },
   "outputs": [],
   "source": [
    "# The lines below will show you a hint or the solution.\n",
    "# step_1.hint() \n",
    "# step_1.solution()"
   ]
  },
  {
   "cell_type": "markdown",
   "id": "cd4f8106",
   "metadata": {
    "papermill": {
     "duration": 0.003724,
     "end_time": "2022-08-22T09:25:11.418586",
     "exception": false,
     "start_time": "2022-08-22T09:25:11.414862",
     "status": "completed"
    },
    "tags": []
   },
   "source": [
    "## Step 2: Fit Model Using All Data\n",
    "You know the best tree size. If you were going to deploy this model in practice, you would make it even more accurate by using all of the data and keeping that tree size.  That is, you don't need to hold out the validation data now that you've made all your modeling decisions."
   ]
  },
  {
   "cell_type": "code",
   "execution_count": 5,
   "id": "565e8b1d",
   "metadata": {
    "execution": {
     "iopub.execute_input": "2022-08-22T09:25:11.429951Z",
     "iopub.status.busy": "2022-08-22T09:25:11.428742Z",
     "iopub.status.idle": "2022-08-22T09:25:11.448756Z",
     "shell.execute_reply": "2022-08-22T09:25:11.447760Z"
    },
    "papermill": {
     "duration": 0.027975,
     "end_time": "2022-08-22T09:25:11.450996",
     "exception": false,
     "start_time": "2022-08-22T09:25:11.423021",
     "status": "completed"
    },
    "tags": []
   },
   "outputs": [
    {
     "data": {
      "application/javascript": [
       "parent.postMessage({\"jupyterEvent\": \"custom.exercise_interaction\", \"data\": {\"outcomeType\": 1, \"valueTowardsCompletion\": 0.5, \"interactionType\": 1, \"questionType\": 2, \"questionId\": \"2_FitModelWithAllData\", \"learnToolsVersion\": \"0.3.4\", \"failureMessage\": \"\", \"exceptionClass\": \"\", \"trace\": \"\"}}, \"*\")"
      ],
      "text/plain": [
       "<IPython.core.display.Javascript object>"
      ]
     },
     "metadata": {},
     "output_type": "display_data"
    },
    {
     "data": {
      "text/markdown": [
       "<span style=\"color:#33cc33\">Correct</span>"
      ],
      "text/plain": [
       "Correct"
      ]
     },
     "metadata": {},
     "output_type": "display_data"
    }
   ],
   "source": [
    "# Fill in argument to make optimal size and uncomment\n",
    "final_model = DecisionTreeRegressor(max_leaf_nodes=best_tree_size, random_state=0)\n",
    "\n",
    "# fit the final model and uncomment the next two lines\n",
    "final_model.fit(X, y)\n",
    "\n",
    "# Check your answer\n",
    "step_2.check()"
   ]
  },
  {
   "cell_type": "code",
   "execution_count": 6,
   "id": "c15d2ddf",
   "metadata": {
    "execution": {
     "iopub.execute_input": "2022-08-22T09:25:11.462030Z",
     "iopub.status.busy": "2022-08-22T09:25:11.461430Z",
     "iopub.status.idle": "2022-08-22T09:25:11.465689Z",
     "shell.execute_reply": "2022-08-22T09:25:11.464576Z"
    },
    "papermill": {
     "duration": 0.012615,
     "end_time": "2022-08-22T09:25:11.468044",
     "exception": false,
     "start_time": "2022-08-22T09:25:11.455429",
     "status": "completed"
    },
    "tags": []
   },
   "outputs": [],
   "source": [
    "# step_2.hint()\n",
    "#step_2.solution()"
   ]
  },
  {
   "cell_type": "markdown",
   "id": "f95be22f",
   "metadata": {
    "papermill": {
     "duration": 0.004301,
     "end_time": "2022-08-22T09:25:11.477076",
     "exception": false,
     "start_time": "2022-08-22T09:25:11.472775",
     "status": "completed"
    },
    "tags": []
   },
   "source": [
    "You've tuned this model and improved your results. But we are still using Decision Tree models, which are not very sophisticated by modern machine learning standards. In the next step you will learn to use Random Forests to improve your models even more.\n",
    "\n",
    "# Keep Going\n",
    "\n",
    "You are ready for **[Random Forests](https://www.kaggle.com/dansbecker/random-forests).**\n"
   ]
  },
  {
   "cell_type": "markdown",
   "id": "46d22c90",
   "metadata": {
    "papermill": {
     "duration": 0.004115,
     "end_time": "2022-08-22T09:25:11.485756",
     "exception": false,
     "start_time": "2022-08-22T09:25:11.481641",
     "status": "completed"
    },
    "tags": []
   },
   "source": [
    "---\n",
    "\n",
    "\n",
    "\n",
    "\n",
    "*Have questions or comments? Visit the [course discussion forum](https://www.kaggle.com/learn/intro-to-machine-learning/discussion) to chat with other learners.*"
   ]
  }
 ],
 "metadata": {
  "kernelspec": {
   "display_name": "Python 3",
   "language": "python",
   "name": "python3"
  },
  "language_info": {
   "codemirror_mode": {
    "name": "ipython",
    "version": 3
   },
   "file_extension": ".py",
   "mimetype": "text/x-python",
   "name": "python",
   "nbconvert_exporter": "python",
   "pygments_lexer": "ipython3",
   "version": "3.7.12"
  },
  "papermill": {
   "default_parameters": {},
   "duration": 13.335584,
   "end_time": "2022-08-22T09:25:12.415911",
   "environment_variables": {},
   "exception": null,
   "input_path": "__notebook__.ipynb",
   "output_path": "__notebook__.ipynb",
   "parameters": {},
   "start_time": "2022-08-22T09:24:59.080327",
   "version": "2.3.4"
  }
 },
 "nbformat": 4,
 "nbformat_minor": 5
}
