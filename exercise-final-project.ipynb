{
 "cells": [
  {
   "cell_type": "markdown",
   "id": "77bfd9f8",
   "metadata": {
    "papermill": {
     "duration": 0.005156,
     "end_time": "2022-08-15T16:58:18.679424",
     "exception": false,
     "start_time": "2022-08-15T16:58:18.674268",
     "status": "completed"
    },
    "tags": []
   },
   "source": [
    "**This notebook is an exercise in the [Data Visualization](https://www.kaggle.com/learn/data-visualization) course.  You can reference the tutorial at [this link](https://www.kaggle.com/alexisbcook/final-project).**\n",
    "\n",
    "---\n"
   ]
  },
  {
   "cell_type": "markdown",
   "id": "7960df11",
   "metadata": {
    "papermill": {
     "duration": 0.003695,
     "end_time": "2022-08-15T16:58:18.687344",
     "exception": false,
     "start_time": "2022-08-15T16:58:18.683649",
     "status": "completed"
    },
    "tags": []
   },
   "source": [
    "Now it's time for you to demonstrate your new skills with a project of your own!\n",
    "\n",
    "In this exercise, you will work with a dataset of your choosing.  Once you've selected a dataset, you'll design and create your own plot to tell interesting stories behind the data!\n",
    "\n",
    "## Setup\n",
    "\n",
    "Run the next cell to import and configure the Python libraries that you need to complete the exercise."
   ]
  },
  {
   "cell_type": "code",
   "execution_count": 1,
   "id": "8f803bf2",
   "metadata": {
    "execution": {
     "iopub.execute_input": "2022-08-15T16:58:18.697431Z",
     "iopub.status.busy": "2022-08-15T16:58:18.696721Z",
     "iopub.status.idle": "2022-08-15T16:58:19.910407Z",
     "shell.execute_reply": "2022-08-15T16:58:19.908811Z"
    },
    "papermill": {
     "duration": 1.22296,
     "end_time": "2022-08-15T16:58:19.914203",
     "exception": false,
     "start_time": "2022-08-15T16:58:18.691243",
     "status": "completed"
    },
    "tags": []
   },
   "outputs": [
    {
     "name": "stdout",
     "output_type": "stream",
     "text": [
      "Setup Complete\n"
     ]
    }
   ],
   "source": [
    "import pandas as pd\n",
    "pd.plotting.register_matplotlib_converters()\n",
    "import matplotlib.pyplot as plt\n",
    "%matplotlib inline\n",
    "import seaborn as sns\n",
    "print(\"Setup Complete\")"
   ]
  },
  {
   "cell_type": "markdown",
   "id": "e5c24fa3",
   "metadata": {
    "papermill": {
     "duration": 0.004038,
     "end_time": "2022-08-15T16:58:19.923161",
     "exception": false,
     "start_time": "2022-08-15T16:58:19.919123",
     "status": "completed"
    },
    "tags": []
   },
   "source": [
    "The questions below will give you feedback on your work. Run the following cell to set up the feedback system."
   ]
  },
  {
   "cell_type": "code",
   "execution_count": 2,
   "id": "5026e768",
   "metadata": {
    "execution": {
     "iopub.execute_input": "2022-08-15T16:58:19.932860Z",
     "iopub.status.busy": "2022-08-15T16:58:19.932488Z",
     "iopub.status.idle": "2022-08-15T16:58:19.980968Z",
     "shell.execute_reply": "2022-08-15T16:58:19.979585Z"
    },
    "papermill": {
     "duration": 0.056007,
     "end_time": "2022-08-15T16:58:19.983382",
     "exception": false,
     "start_time": "2022-08-15T16:58:19.927375",
     "status": "completed"
    },
    "tags": []
   },
   "outputs": [
    {
     "name": "stdout",
     "output_type": "stream",
     "text": [
      "Setup Complete\n"
     ]
    }
   ],
   "source": [
    "# Set up code checking\n",
    "from learntools.core import binder\n",
    "binder.bind(globals())\n",
    "from learntools.data_viz_to_coder.ex7 import *\n",
    "print(\"Setup Complete\")"
   ]
  },
  {
   "cell_type": "markdown",
   "id": "f649705b",
   "metadata": {
    "papermill": {
     "duration": 0.004376,
     "end_time": "2022-08-15T16:58:19.992297",
     "exception": false,
     "start_time": "2022-08-15T16:58:19.987921",
     "status": "completed"
    },
    "tags": []
   },
   "source": [
    "## Step 1: Attach a dataset to the notebook\n",
    "\n",
    "Begin by selecting a CSV dataset from [Kaggle Datasets](https://www.kaggle.com/datasets).  If you're unsure how to do this, please revisit the instructions in the previous tutorial.\n",
    "\n",
    "Once you have selected a dataset, click on the **[+ Add data]** option in the top right corner.  This will generate a pop-up window that you can use to search for your chosen dataset.  \n",
    "\n",
    "![ex6_search_dataset](https://i.imgur.com/cIIWPUS.png)\n",
    "\n",
    "Once you have found the dataset, click on the **[Add]** button to attach it to the notebook.  You can check that it was successful by looking at the **Data** dropdown menu to the right of the notebook -- look for an **input** folder containing a subfolder that matches the name of the dataset.\n",
    "\n",
    "<center>\n",
    "<img src=\"https://i.imgur.com/nMYc1Nu.png\" width=30%><br/>\n",
    "</center>\n",
    "\n",
    "You can click on the carat to the left of the name of the dataset to double-check that it contains a CSV file.  For instance, the image below shows that the example dataset contains two CSV files: (1) **dc-wikia-data.csv**, and (2) **marvel-wikia-data.csv**.\n",
    "\n",
    "<center>\n",
    "<img src=\"https://i.imgur.com/B4sJkVA.png\" width=30%><br/>\n",
    "</center>\n",
    "\n",
    "Once you've uploaded a dataset with a CSV file, run the code cell below **without changes** to receive credit for your work!"
   ]
  },
  {
   "cell_type": "code",
   "execution_count": 3,
   "id": "870fd625",
   "metadata": {
    "execution": {
     "iopub.execute_input": "2022-08-15T16:58:20.003262Z",
     "iopub.status.busy": "2022-08-15T16:58:20.002097Z",
     "iopub.status.idle": "2022-08-15T16:58:20.017783Z",
     "shell.execute_reply": "2022-08-15T16:58:20.016615Z"
    },
    "papermill": {
     "duration": 0.023389,
     "end_time": "2022-08-15T16:58:20.019964",
     "exception": false,
     "start_time": "2022-08-15T16:58:19.996575",
     "status": "completed"
    },
    "tags": []
   },
   "outputs": [
    {
     "data": {
      "application/javascript": [
       "parent.postMessage({\"jupyterEvent\": \"custom.exercise_interaction\", \"data\": {\"outcomeType\": 1, \"valueTowardsCompletion\": 0.25, \"interactionType\": 1, \"questionType\": 2, \"questionId\": \"1_AttachData\", \"learnToolsVersion\": \"0.3.4\", \"failureMessage\": \"\", \"exceptionClass\": \"\", \"trace\": \"\"}}, \"*\")"
      ],
      "text/plain": [
       "<IPython.core.display.Javascript object>"
      ]
     },
     "metadata": {},
     "output_type": "display_data"
    },
    {
     "data": {
      "text/markdown": [
       "<span style=\"color:#33cc33\">Correct:</span> \n",
       "\n"
      ],
      "text/plain": [
       "Correct: \n"
      ]
     },
     "metadata": {},
     "output_type": "display_data"
    }
   ],
   "source": [
    "# Check for a dataset with a CSV file\n",
    "step_1.check()"
   ]
  },
  {
   "cell_type": "markdown",
   "id": "ece0845f",
   "metadata": {
    "papermill": {
     "duration": 0.004169,
     "end_time": "2022-08-15T16:58:20.028742",
     "exception": false,
     "start_time": "2022-08-15T16:58:20.024573",
     "status": "completed"
    },
    "tags": []
   },
   "source": [
    "## Step 2: Specify the filepath\n",
    "\n",
    "Now that the dataset is attached to the notebook, you can find its filepath.  To do this, begin by clicking on the CSV file you'd like to use.  This will open the CSV file in a tab below the notebook.  You can find the filepath towards the top of this new tab.  \n",
    "\n",
    "![ex6_filepath](https://i.imgur.com/fgXQV47.png)\n",
    "\n",
    "After you find the filepath corresponding to your dataset, fill it in as the value for `my_filepath` in the code cell below, and run the code cell to check that you've provided a valid filepath.  For instance, in the case of this example dataset, we would set\n",
    "```\n",
    "my_filepath = \"../input/fivethirtyeight-comic-characters-dataset/dc-wikia-data.csv\"\n",
    "```  \n",
    "Note that **you must enclose the filepath in quotation marks**; otherwise, the code will return an error.\n",
    "\n",
    "Once you've entered the filepath, you can close the tab below the notebook by clicking on the **[X]** at the top of the tab."
   ]
  },
  {
   "cell_type": "code",
   "execution_count": 4,
   "id": "4a5c31ab",
   "metadata": {
    "execution": {
     "iopub.execute_input": "2022-08-15T16:58:20.039583Z",
     "iopub.status.busy": "2022-08-15T16:58:20.038631Z",
     "iopub.status.idle": "2022-08-15T16:58:20.047025Z",
     "shell.execute_reply": "2022-08-15T16:58:20.046030Z"
    },
    "papermill": {
     "duration": 0.01608,
     "end_time": "2022-08-15T16:58:20.049111",
     "exception": false,
     "start_time": "2022-08-15T16:58:20.033031",
     "status": "completed"
    },
    "tags": []
   },
   "outputs": [
    {
     "data": {
      "application/javascript": [
       "parent.postMessage({\"jupyterEvent\": \"custom.exercise_interaction\", \"data\": {\"outcomeType\": 1, \"valueTowardsCompletion\": 0.25, \"interactionType\": 1, \"questionType\": 2, \"questionId\": \"2_Filepath\", \"learnToolsVersion\": \"0.3.4\", \"failureMessage\": \"\", \"exceptionClass\": \"\", \"trace\": \"\"}}, \"*\")"
      ],
      "text/plain": [
       "<IPython.core.display.Javascript object>"
      ]
     },
     "metadata": {},
     "output_type": "display_data"
    },
    {
     "data": {
      "text/markdown": [
       "<span style=\"color:#33cc33\">Correct:</span> \n",
       "\n"
      ],
      "text/plain": [
       "Correct: \n"
      ]
     },
     "metadata": {},
     "output_type": "display_data"
    }
   ],
   "source": [
    "# Fill in the line below: Specify the path of the CSV file to read\n",
    "my_filepath = \"../input/data-science-job-salaries/ds_salaries.csv\"\n",
    "\n",
    "# Check for a valid filepath to a CSV file in a dataset\n",
    "step_2.check()"
   ]
  },
  {
   "cell_type": "markdown",
   "id": "4a7eb308",
   "metadata": {
    "papermill": {
     "duration": 0.004479,
     "end_time": "2022-08-15T16:58:20.058295",
     "exception": false,
     "start_time": "2022-08-15T16:58:20.053816",
     "status": "completed"
    },
    "tags": []
   },
   "source": [
    "## Step 3: Load the data\n",
    "\n",
    "Use the next code cell to load your data file into `my_data`.  Use the filepath that you specified in the previous step."
   ]
  },
  {
   "cell_type": "code",
   "execution_count": 5,
   "id": "f09290b3",
   "metadata": {
    "execution": {
     "iopub.execute_input": "2022-08-15T16:58:20.069610Z",
     "iopub.status.busy": "2022-08-15T16:58:20.068938Z",
     "iopub.status.idle": "2022-08-15T16:58:20.088999Z",
     "shell.execute_reply": "2022-08-15T16:58:20.087981Z"
    },
    "papermill": {
     "duration": 0.02831,
     "end_time": "2022-08-15T16:58:20.091154",
     "exception": false,
     "start_time": "2022-08-15T16:58:20.062844",
     "status": "completed"
    },
    "tags": []
   },
   "outputs": [
    {
     "data": {
      "application/javascript": [
       "parent.postMessage({\"jupyterEvent\": \"custom.exercise_interaction\", \"data\": {\"outcomeType\": 1, \"valueTowardsCompletion\": 0.25, \"interactionType\": 1, \"questionType\": 2, \"questionId\": \"3_LoadData\", \"learnToolsVersion\": \"0.3.4\", \"failureMessage\": \"\", \"exceptionClass\": \"\", \"trace\": \"\"}}, \"*\")"
      ],
      "text/plain": [
       "<IPython.core.display.Javascript object>"
      ]
     },
     "metadata": {},
     "output_type": "display_data"
    },
    {
     "data": {
      "text/markdown": [
       "<span style=\"color:#33cc33\">Correct:</span> \n",
       "\n"
      ],
      "text/plain": [
       "Correct: \n"
      ]
     },
     "metadata": {},
     "output_type": "display_data"
    }
   ],
   "source": [
    "# Fill in the line below: Read the file into a variable my_data\n",
    "my_data = pd.read_csv(my_filepath)\n",
    "\n",
    "# Check that a dataset has been uploaded into my_data\n",
    "step_3.check()"
   ]
  },
  {
   "cell_type": "markdown",
   "id": "a7729c96",
   "metadata": {
    "papermill": {
     "duration": 0.00501,
     "end_time": "2022-08-15T16:58:20.101229",
     "exception": false,
     "start_time": "2022-08-15T16:58:20.096219",
     "status": "completed"
    },
    "tags": []
   },
   "source": [
    "**_After the code cell above is marked correct_**, run the code cell below without changes to view the first five rows of the data."
   ]
  },
  {
   "cell_type": "code",
   "execution_count": 6,
   "id": "e307ef69",
   "metadata": {
    "execution": {
     "iopub.execute_input": "2022-08-15T16:58:20.115794Z",
     "iopub.status.busy": "2022-08-15T16:58:20.115062Z",
     "iopub.status.idle": "2022-08-15T16:58:20.144417Z",
     "shell.execute_reply": "2022-08-15T16:58:20.143542Z"
    },
    "papermill": {
     "duration": 0.040357,
     "end_time": "2022-08-15T16:58:20.146554",
     "exception": false,
     "start_time": "2022-08-15T16:58:20.106197",
     "status": "completed"
    },
    "tags": []
   },
   "outputs": [
    {
     "data": {
      "text/html": [
       "<div>\n",
       "<style scoped>\n",
       "    .dataframe tbody tr th:only-of-type {\n",
       "        vertical-align: middle;\n",
       "    }\n",
       "\n",
       "    .dataframe tbody tr th {\n",
       "        vertical-align: top;\n",
       "    }\n",
       "\n",
       "    .dataframe thead th {\n",
       "        text-align: right;\n",
       "    }\n",
       "</style>\n",
       "<table border=\"1\" class=\"dataframe\">\n",
       "  <thead>\n",
       "    <tr style=\"text-align: right;\">\n",
       "      <th></th>\n",
       "      <th>Unnamed: 0</th>\n",
       "      <th>work_year</th>\n",
       "      <th>experience_level</th>\n",
       "      <th>employment_type</th>\n",
       "      <th>job_title</th>\n",
       "      <th>salary</th>\n",
       "      <th>salary_currency</th>\n",
       "      <th>salary_in_usd</th>\n",
       "      <th>employee_residence</th>\n",
       "      <th>remote_ratio</th>\n",
       "      <th>company_location</th>\n",
       "      <th>company_size</th>\n",
       "    </tr>\n",
       "  </thead>\n",
       "  <tbody>\n",
       "    <tr>\n",
       "      <th>0</th>\n",
       "      <td>0</td>\n",
       "      <td>2020</td>\n",
       "      <td>MI</td>\n",
       "      <td>FT</td>\n",
       "      <td>Data Scientist</td>\n",
       "      <td>70000</td>\n",
       "      <td>EUR</td>\n",
       "      <td>79833</td>\n",
       "      <td>DE</td>\n",
       "      <td>0</td>\n",
       "      <td>DE</td>\n",
       "      <td>L</td>\n",
       "    </tr>\n",
       "    <tr>\n",
       "      <th>1</th>\n",
       "      <td>1</td>\n",
       "      <td>2020</td>\n",
       "      <td>SE</td>\n",
       "      <td>FT</td>\n",
       "      <td>Machine Learning Scientist</td>\n",
       "      <td>260000</td>\n",
       "      <td>USD</td>\n",
       "      <td>260000</td>\n",
       "      <td>JP</td>\n",
       "      <td>0</td>\n",
       "      <td>JP</td>\n",
       "      <td>S</td>\n",
       "    </tr>\n",
       "    <tr>\n",
       "      <th>2</th>\n",
       "      <td>2</td>\n",
       "      <td>2020</td>\n",
       "      <td>SE</td>\n",
       "      <td>FT</td>\n",
       "      <td>Big Data Engineer</td>\n",
       "      <td>85000</td>\n",
       "      <td>GBP</td>\n",
       "      <td>109024</td>\n",
       "      <td>GB</td>\n",
       "      <td>50</td>\n",
       "      <td>GB</td>\n",
       "      <td>M</td>\n",
       "    </tr>\n",
       "    <tr>\n",
       "      <th>3</th>\n",
       "      <td>3</td>\n",
       "      <td>2020</td>\n",
       "      <td>MI</td>\n",
       "      <td>FT</td>\n",
       "      <td>Product Data Analyst</td>\n",
       "      <td>20000</td>\n",
       "      <td>USD</td>\n",
       "      <td>20000</td>\n",
       "      <td>HN</td>\n",
       "      <td>0</td>\n",
       "      <td>HN</td>\n",
       "      <td>S</td>\n",
       "    </tr>\n",
       "    <tr>\n",
       "      <th>4</th>\n",
       "      <td>4</td>\n",
       "      <td>2020</td>\n",
       "      <td>SE</td>\n",
       "      <td>FT</td>\n",
       "      <td>Machine Learning Engineer</td>\n",
       "      <td>150000</td>\n",
       "      <td>USD</td>\n",
       "      <td>150000</td>\n",
       "      <td>US</td>\n",
       "      <td>50</td>\n",
       "      <td>US</td>\n",
       "      <td>L</td>\n",
       "    </tr>\n",
       "  </tbody>\n",
       "</table>\n",
       "</div>"
      ],
      "text/plain": [
       "   Unnamed: 0  work_year experience_level employment_type  \\\n",
       "0           0       2020               MI              FT   \n",
       "1           1       2020               SE              FT   \n",
       "2           2       2020               SE              FT   \n",
       "3           3       2020               MI              FT   \n",
       "4           4       2020               SE              FT   \n",
       "\n",
       "                    job_title  salary salary_currency  salary_in_usd  \\\n",
       "0              Data Scientist   70000             EUR          79833   \n",
       "1  Machine Learning Scientist  260000             USD         260000   \n",
       "2           Big Data Engineer   85000             GBP         109024   \n",
       "3        Product Data Analyst   20000             USD          20000   \n",
       "4   Machine Learning Engineer  150000             USD         150000   \n",
       "\n",
       "  employee_residence  remote_ratio company_location company_size  \n",
       "0                 DE             0               DE            L  \n",
       "1                 JP             0               JP            S  \n",
       "2                 GB            50               GB            M  \n",
       "3                 HN             0               HN            S  \n",
       "4                 US            50               US            L  "
      ]
     },
     "execution_count": 6,
     "metadata": {},
     "output_type": "execute_result"
    }
   ],
   "source": [
    "# Print the first five rows of the data\n",
    "my_data.head()"
   ]
  },
  {
   "cell_type": "markdown",
   "id": "86449410",
   "metadata": {
    "papermill": {
     "duration": 0.005365,
     "end_time": "2022-08-15T16:58:20.157724",
     "exception": false,
     "start_time": "2022-08-15T16:58:20.152359",
     "status": "completed"
    },
    "tags": []
   },
   "source": [
    "## Step 4: Visualize the data\n",
    "\n",
    "Use the next code cell to create a figure that tells a story behind your dataset.  You can use any chart type (_line chart, bar chart, heatmap, etc_) of your choosing!"
   ]
  },
  {
   "cell_type": "code",
   "execution_count": 7,
   "id": "25040bf0",
   "metadata": {
    "execution": {
     "iopub.execute_input": "2022-08-15T16:58:20.177588Z",
     "iopub.status.busy": "2022-08-15T16:58:20.176221Z",
     "iopub.status.idle": "2022-08-15T16:58:46.075126Z",
     "shell.execute_reply": "2022-08-15T16:58:46.073872Z"
    },
    "papermill": {
     "duration": 25.911211,
     "end_time": "2022-08-15T16:58:46.077658",
     "exception": false,
     "start_time": "2022-08-15T16:58:20.166447",
     "status": "completed"
    },
    "tags": []
   },
   "outputs": [
    {
     "data": {
      "application/javascript": [
       "parent.postMessage({\"jupyterEvent\": \"custom.exercise_interaction\", \"data\": {\"outcomeType\": 1, \"valueTowardsCompletion\": 0.25, \"interactionType\": 1, \"questionType\": 2, \"questionId\": \"4_CreatePlot\", \"learnToolsVersion\": \"0.3.4\", \"failureMessage\": \"\", \"exceptionClass\": \"\", \"trace\": \"\"}}, \"*\")"
      ],
      "text/plain": [
       "<IPython.core.display.Javascript object>"
      ]
     },
     "metadata": {},
     "output_type": "display_data"
    },
    {
     "data": {
      "text/markdown": [
       "<span style=\"color:#33cc33\">Correct:</span> \n",
       "\n"
      ],
      "text/plain": [
       "Correct: \n"
      ]
     },
     "metadata": {},
     "output_type": "display_data"
    },
    {
     "data": {
      "image/png": "[encoded data removed]",
      "text/plain": [
       "<Figure size 432x288 with 1 Axes>"
      ]
     },
     "metadata": {
      "needs_background": "light"
     },
     "output_type": "display_data"
    }
   ],
   "source": [
    "# Create a plot\n",
    "____ # Your code here\n",
    "sns.histplot(my_data)\n",
    "# Check that a figure appears below\n",
    "step_4.check()"
   ]
  },
  {
   "cell_type": "markdown",
   "id": "58fd213e",
   "metadata": {
    "papermill": {
     "duration": 0.005407,
     "end_time": "2022-08-15T16:58:46.088855",
     "exception": false,
     "start_time": "2022-08-15T16:58:46.083448",
     "status": "completed"
    },
    "tags": []
   },
   "source": [
    "## Keep going\n",
    "\n",
    "Learn how to use your skills after completing the micro-course to create data visualizations in a **[final tutorial](https://www.kaggle.com/alexisbcook/creating-your-own-notebooks)**."
   ]
  },
  {
   "cell_type": "markdown",
   "id": "046a025f",
   "metadata": {
    "papermill": {
     "duration": 0.005154,
     "end_time": "2022-08-15T16:58:46.099384",
     "exception": false,
     "start_time": "2022-08-15T16:58:46.094230",
     "status": "completed"
    },
    "tags": []
   },
   "source": [
    "---\n",
    "\n",
    "\n",
    "\n",
    "\n",
    "*Have questions or comments? Visit the [course discussion forum](https://www.kaggle.com/learn/data-visualization/discussion) to chat with other learners.*"
   ]
  }
 ],
 "metadata": {
  "kernelspec": {
   "display_name": "Python 3",
   "language": "python",
   "name": "python3"
  },
  "language_info": {
   "codemirror_mode": {
    "name": "ipython",
    "version": 3
   },
   "file_extension": ".py",
   "mimetype": "text/x-python",
   "name": "python",
   "nbconvert_exporter": "python",
   "pygments_lexer": "ipython3",
   "version": "3.7.12"
  },
  "papermill": {
   "default_parameters": {},
   "duration": 37.832171,
   "end_time": "2022-08-15T16:58:47.229359",
   "environment_variables": {},
   "exception": null,
   "input_path": "__notebook__.ipynb",
   "output_path": "__notebook__.ipynb",
   "parameters": {},
   "start_time": "2022-08-15T16:58:09.397188",
   "version": "2.3.4"
  }
 },
 "nbformat": 4,
 "nbformat_minor": 5
}
