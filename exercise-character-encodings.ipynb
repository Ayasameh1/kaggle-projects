{
 "cells": [
  {
   "cell_type": "markdown",
   "id": "20cdb458",
   "metadata": {
    "papermill": {
     "duration": 0.00576,
     "end_time": "2022-08-15T17:04:52.645926",
     "exception": false,
     "start_time": "2022-08-15T17:04:52.640166",
     "status": "completed"
    },
    "tags": []
   },
   "source": [
    "**This notebook is an exercise in the [Data Cleaning](https://www.kaggle.com/learn/data-cleaning) course.  You can reference the tutorial at [this link](https://www.kaggle.com/alexisbcook/character-encodings).**\n",
    "\n",
    "---\n"
   ]
  },
  {
   "cell_type": "markdown",
   "id": "df6d7129",
   "metadata": {
    "papermill": {
     "duration": 0.004219,
     "end_time": "2022-08-15T17:04:52.654965",
     "exception": false,
     "start_time": "2022-08-15T17:04:52.650746",
     "status": "completed"
    },
    "tags": []
   },
   "source": [
    "In this exercise, you'll apply what you learned in the **Character encodings** tutorial.\n",
    "\n",
    "# Setup\n",
    "\n",
    "The questions below will give you feedback on your work. Run the following cell to set up the feedback system."
   ]
  },
  {
   "cell_type": "code",
   "execution_count": 1,
   "id": "b581c257",
   "metadata": {
    "execution": {
     "iopub.execute_input": "2022-08-15T17:04:52.665883Z",
     "iopub.status.busy": "2022-08-15T17:04:52.665430Z",
     "iopub.status.idle": "2022-08-15T17:04:52.745859Z",
     "shell.execute_reply": "2022-08-15T17:04:52.744627Z"
    },
    "papermill": {
     "duration": 0.08921,
     "end_time": "2022-08-15T17:04:52.748778",
     "exception": false,
     "start_time": "2022-08-15T17:04:52.659568",
     "status": "completed"
    },
    "tags": []
   },
   "outputs": [
    {
     "name": "stdout",
     "output_type": "stream",
     "text": [
      "Setup Complete\n"
     ]
    }
   ],
   "source": [
    "from learntools.core import binder\n",
    "binder.bind(globals())\n",
    "from learntools.data_cleaning.ex4 import *\n",
    "print(\"Setup Complete\")"
   ]
  },
  {
   "cell_type": "markdown",
   "id": "192af2c7",
   "metadata": {
    "papermill": {
     "duration": 0.00428,
     "end_time": "2022-08-15T17:04:52.757683",
     "exception": false,
     "start_time": "2022-08-15T17:04:52.753403",
     "status": "completed"
    },
    "tags": []
   },
   "source": [
    "# Get our environment set up\n",
    "\n",
    "The first thing we'll need to do is load in the libraries we'll be using."
   ]
  },
  {
   "cell_type": "code",
   "execution_count": 2,
   "id": "95777ac6",
   "metadata": {
    "execution": {
     "iopub.execute_input": "2022-08-15T17:04:52.768568Z",
     "iopub.status.busy": "2022-08-15T17:04:52.768160Z",
     "iopub.status.idle": "2022-08-15T17:04:52.773449Z",
     "shell.execute_reply": "2022-08-15T17:04:52.772367Z"
    },
    "papermill": {
     "duration": 0.013553,
     "end_time": "2022-08-15T17:04:52.775713",
     "exception": false,
     "start_time": "2022-08-15T17:04:52.762160",
     "status": "completed"
    },
    "tags": []
   },
   "outputs": [],
   "source": [
    "# modules we'll use\n",
    "import pandas as pd\n",
    "import numpy as np\n",
    "\n",
    "# helpful character encoding module\n",
    "import chardet\n",
    "\n",
    "# set seed for reproducibility\n",
    "np.random.seed(0)"
   ]
  },
  {
   "cell_type": "markdown",
   "id": "b220edc6",
   "metadata": {
    "papermill": {
     "duration": 0.004216,
     "end_time": "2022-08-15T17:04:52.784458",
     "exception": false,
     "start_time": "2022-08-15T17:04:52.780242",
     "status": "completed"
    },
    "tags": []
   },
   "source": [
    "# 1) What are encodings?\n",
    "\n",
    "You're working with a dataset composed of bytes.  Run the code cell below to print a sample entry."
   ]
  },
  {
   "cell_type": "code",
   "execution_count": 3,
   "id": "32054b2a",
   "metadata": {
    "execution": {
     "iopub.execute_input": "2022-08-15T17:04:52.795332Z",
     "iopub.status.busy": "2022-08-15T17:04:52.794926Z",
     "iopub.status.idle": "2022-08-15T17:04:52.800860Z",
     "shell.execute_reply": "2022-08-15T17:04:52.799686Z"
    },
    "papermill": {
     "duration": 0.014259,
     "end_time": "2022-08-15T17:04:52.803157",
     "exception": false,
     "start_time": "2022-08-15T17:04:52.788898",
     "status": "completed"
    },
    "tags": []
   },
   "outputs": [
    {
     "name": "stdout",
     "output_type": "stream",
     "text": [
      "b'\\xa7A\\xa6n'\n",
      "data type: <class 'bytes'>\n"
     ]
    }
   ],
   "source": [
    "sample_entry = b'\\xa7A\\xa6n'\n",
    "print(sample_entry)\n",
    "print('data type:', type(sample_entry))"
   ]
  },
  {
   "cell_type": "markdown",
   "id": "01acf0b5",
   "metadata": {
    "papermill": {
     "duration": 0.004229,
     "end_time": "2022-08-15T17:04:52.811876",
     "exception": false,
     "start_time": "2022-08-15T17:04:52.807647",
     "status": "completed"
    },
    "tags": []
   },
   "source": [
    "You notice that it doesn't use the standard UTF-8 encoding. \n",
    "\n",
    "Use the next code cell to create a variable `new_entry` that changes the encoding from `\"big5-tw\"` to `\"utf-8\"`.  `new_entry` should have the bytes datatype."
   ]
  },
  {
   "cell_type": "code",
   "execution_count": 4,
   "id": "3586bb7e",
   "metadata": {
    "execution": {
     "iopub.execute_input": "2022-08-15T17:04:52.826329Z",
     "iopub.status.busy": "2022-08-15T17:04:52.825857Z",
     "iopub.status.idle": "2022-08-15T17:04:52.839914Z",
     "shell.execute_reply": "2022-08-15T17:04:52.838442Z"
    },
    "papermill": {
     "duration": 0.023987,
     "end_time": "2022-08-15T17:04:52.842155",
     "exception": false,
     "start_time": "2022-08-15T17:04:52.818168",
     "status": "completed"
    },
    "tags": []
   },
   "outputs": [
    {
     "data": {
      "application/javascript": [
       "parent.postMessage({\"jupyterEvent\": \"custom.exercise_interaction\", \"data\": {\"outcomeType\": 1, \"valueTowardsCompletion\": 0.3333333333333333, \"interactionType\": 1, \"questionType\": 1, \"questionId\": \"1_EncodingsIntro\", \"learnToolsVersion\": \"0.3.4\", \"failureMessage\": \"\", \"exceptionClass\": \"\", \"trace\": \"\"}}, \"*\")"
      ],
      "text/plain": [
       "<IPython.core.display.Javascript object>"
      ]
     },
     "metadata": {},
     "output_type": "display_data"
    },
    {
     "data": {
      "text/markdown": [
       "<span style=\"color:#33cc33\">Correct</span>"
      ],
      "text/plain": [
       "Correct"
      ]
     },
     "metadata": {},
     "output_type": "display_data"
    }
   ],
   "source": [
    "x= sample_entry.decode(\"big5-tw\", errors=\"replace\")\n",
    "new_entry  = x.encode(\"utf-8\", errors=\"replace\")\n",
    "# Check your answer\n",
    "q1.check()"
   ]
  },
  {
   "cell_type": "code",
   "execution_count": 5,
   "id": "d382d51f",
   "metadata": {
    "execution": {
     "iopub.execute_input": "2022-08-15T17:04:52.855005Z",
     "iopub.status.busy": "2022-08-15T17:04:52.854230Z",
     "iopub.status.idle": "2022-08-15T17:04:52.859984Z",
     "shell.execute_reply": "2022-08-15T17:04:52.858666Z"
    },
    "papermill": {
     "duration": 0.014675,
     "end_time": "2022-08-15T17:04:52.862525",
     "exception": false,
     "start_time": "2022-08-15T17:04:52.847850",
     "status": "completed"
    },
    "tags": []
   },
   "outputs": [],
   "source": [
    "# Lines below will give you a hint or solution code\n",
    "#q1.hint()\n",
    "#q1.solution()"
   ]
  },
  {
   "cell_type": "markdown",
   "id": "fcf00340",
   "metadata": {
    "papermill": {
     "duration": 0.005297,
     "end_time": "2022-08-15T17:04:52.873276",
     "exception": false,
     "start_time": "2022-08-15T17:04:52.867979",
     "status": "completed"
    },
    "tags": []
   },
   "source": [
    "# 2) Reading in files with encoding problems\n",
    "\n",
    "Use the code cell below to read in this file at path `\"../input/fatal-police-shootings-in-the-us/PoliceKillingsUS.csv\"`.  \n",
    "\n",
    "Figure out what the correct encoding should be and read in the file to a DataFrame `police_killings`."
   ]
  },
  {
   "cell_type": "code",
   "execution_count": 6,
   "id": "49510199",
   "metadata": {
    "execution": {
     "iopub.execute_input": "2022-08-15T17:04:52.885220Z",
     "iopub.status.busy": "2022-08-15T17:04:52.884789Z",
     "iopub.status.idle": "2022-08-15T17:04:56.086955Z",
     "shell.execute_reply": "2022-08-15T17:04:56.085693Z"
    },
    "papermill": {
     "duration": 3.210988,
     "end_time": "2022-08-15T17:04:56.089278",
     "exception": false,
     "start_time": "2022-08-15T17:04:52.878290",
     "status": "completed"
    },
    "tags": []
   },
   "outputs": [
    {
     "data": {
      "application/javascript": [
       "parent.postMessage({\"jupyterEvent\": \"custom.exercise_interaction\", \"data\": {\"outcomeType\": 1, \"valueTowardsCompletion\": 0.3333333333333333, \"interactionType\": 1, \"questionType\": 1, \"questionId\": \"2_ReadIn\", \"learnToolsVersion\": \"0.3.4\", \"failureMessage\": \"\", \"exceptionClass\": \"\", \"trace\": \"\"}}, \"*\")"
      ],
      "text/plain": [
       "<IPython.core.display.Javascript object>"
      ]
     },
     "metadata": {},
     "output_type": "display_data"
    },
    {
     "data": {
      "text/markdown": [
       "<span style=\"color:#33cc33\">Correct</span>"
      ],
      "text/plain": [
       "Correct"
      ]
     },
     "metadata": {},
     "output_type": "display_data"
    }
   ],
   "source": [
    "with open(\"../input/fatal-police-shootings-in-the-us/PoliceKillingsUS.csv\", 'rb') as rawdata:\n",
    "    result = chardet.detect(rawdata.read(1000000))\n",
    "    \n",
    "police_killings = pd.read_csv(\"../input/fatal-police-shootings-in-the-us/PoliceKillingsUS.csv\", encoding='Windows-1252')\n",
    "# Check your answer\n",
    "q2.check()"
   ]
  },
  {
   "cell_type": "markdown",
   "id": "854f7949",
   "metadata": {
    "papermill": {
     "duration": 0.004797,
     "end_time": "2022-08-15T17:04:56.099363",
     "exception": false,
     "start_time": "2022-08-15T17:04:56.094566",
     "status": "completed"
    },
    "tags": []
   },
   "source": [
    "Feel free to use any additional code cells for supplemental work.  To get credit for finishing this question, you'll need to run `q2.check()` and get a result of **Correct**."
   ]
  },
  {
   "cell_type": "code",
   "execution_count": 7,
   "id": "d3395fd9",
   "metadata": {
    "execution": {
     "iopub.execute_input": "2022-08-15T17:04:56.112430Z",
     "iopub.status.busy": "2022-08-15T17:04:56.110427Z",
     "iopub.status.idle": "2022-08-15T17:04:56.116402Z",
     "shell.execute_reply": "2022-08-15T17:04:56.115376Z"
    },
    "papermill": {
     "duration": 0.014464,
     "end_time": "2022-08-15T17:04:56.118739",
     "exception": false,
     "start_time": "2022-08-15T17:04:56.104275",
     "status": "completed"
    },
    "tags": []
   },
   "outputs": [],
   "source": [
    "# (Optional) Use this code cell for any additional work."
   ]
  },
  {
   "cell_type": "code",
   "execution_count": 8,
   "id": "bd09e364",
   "metadata": {
    "execution": {
     "iopub.execute_input": "2022-08-15T17:04:56.131065Z",
     "iopub.status.busy": "2022-08-15T17:04:56.130459Z",
     "iopub.status.idle": "2022-08-15T17:04:56.139417Z",
     "shell.execute_reply": "2022-08-15T17:04:56.138206Z"
    },
    "papermill": {
     "duration": 0.017718,
     "end_time": "2022-08-15T17:04:56.141593",
     "exception": false,
     "start_time": "2022-08-15T17:04:56.123875",
     "status": "completed"
    },
    "tags": []
   },
   "outputs": [
    {
     "data": {
      "application/javascript": [
       "parent.postMessage({\"jupyterEvent\": \"custom.exercise_interaction\", \"data\": {\"interactionType\": 2, \"questionType\": 1, \"questionId\": \"2_ReadIn\", \"learnToolsVersion\": \"0.3.4\", \"valueTowardsCompletion\": 0.0, \"failureMessage\": \"\", \"exceptionClass\": \"\", \"trace\": \"\", \"outcomeType\": 4}}, \"*\")"
      ],
      "text/plain": [
       "<IPython.core.display.Javascript object>"
      ]
     },
     "metadata": {},
     "output_type": "display_data"
    },
    {
     "data": {
      "text/markdown": [
       "<span style=\"color:#3366cc\">Hint:</span> If you try to guess the encoding with the first 10,000 bytes of the file, it might give you the wrong answer.  Try using 100,000 or more lines of the file."
      ],
      "text/plain": [
       "Hint: If you try to guess the encoding with the first 10,000 bytes of the file, it might give you the wrong answer.  Try using 100,000 or more lines of the file."
      ]
     },
     "metadata": {},
     "output_type": "display_data"
    }
   ],
   "source": [
    "# Lines below will give you a hint or solution code\n",
    "q2.hint()\n",
    "#q2.solution()"
   ]
  },
  {
   "cell_type": "markdown",
   "id": "af74b337",
   "metadata": {
    "papermill": {
     "duration": 0.005081,
     "end_time": "2022-08-15T17:04:56.151921",
     "exception": false,
     "start_time": "2022-08-15T17:04:56.146840",
     "status": "completed"
    },
    "tags": []
   },
   "source": [
    "# 3) Saving your files with UTF-8 encoding\n",
    "\n",
    "Save a version of the police killings dataset to CSV with UTF-8 encoding.  Your answer will be marked correct after saving this file.  \n",
    "\n",
    "Note: When using the `to_csv()` method, supply only the name of the file (e.g., `\"my_file.csv\"`).  This saves the file at the filepath `\"/kaggle/working/my_file.csv\"`."
   ]
  },
  {
   "cell_type": "code",
   "execution_count": 9,
   "id": "2234ef10",
   "metadata": {
    "execution": {
     "iopub.execute_input": "2022-08-15T17:04:56.164383Z",
     "iopub.status.busy": "2022-08-15T17:04:56.163642Z",
     "iopub.status.idle": "2022-08-15T17:04:56.195719Z",
     "shell.execute_reply": "2022-08-15T17:04:56.194553Z"
    },
    "papermill": {
     "duration": 0.041234,
     "end_time": "2022-08-15T17:04:56.198373",
     "exception": false,
     "start_time": "2022-08-15T17:04:56.157139",
     "status": "completed"
    },
    "tags": []
   },
   "outputs": [
    {
     "data": {
      "application/javascript": [
       "parent.postMessage({\"jupyterEvent\": \"custom.exercise_interaction\", \"data\": {\"outcomeType\": 1, \"valueTowardsCompletion\": 0.3333333333333333, \"interactionType\": 1, \"questionType\": 2, \"questionId\": \"3_SaveCSV\", \"learnToolsVersion\": \"0.3.4\", \"failureMessage\": \"\", \"exceptionClass\": \"\", \"trace\": \"\"}}, \"*\")"
      ],
      "text/plain": [
       "<IPython.core.display.Javascript object>"
      ]
     },
     "metadata": {},
     "output_type": "display_data"
    },
    {
     "data": {
      "text/markdown": [
       "<span style=\"color:#33cc33\">Correct</span>"
      ],
      "text/plain": [
       "Correct"
      ]
     },
     "metadata": {},
     "output_type": "display_data"
    }
   ],
   "source": [
    "# TODO: Save the police killings dataset to CSV\n",
    "police_killings.to_csv(\"PoliceKillingsUS-utf8.csv\")\n",
    "\n",
    "# Check your answer\n",
    "q3.check()"
   ]
  },
  {
   "cell_type": "code",
   "execution_count": 10,
   "id": "b5c25a7a",
   "metadata": {
    "execution": {
     "iopub.execute_input": "2022-08-15T17:04:56.212726Z",
     "iopub.status.busy": "2022-08-15T17:04:56.211842Z",
     "iopub.status.idle": "2022-08-15T17:04:56.216243Z",
     "shell.execute_reply": "2022-08-15T17:04:56.215258Z"
    },
    "papermill": {
     "duration": 0.013411,
     "end_time": "2022-08-15T17:04:56.218292",
     "exception": false,
     "start_time": "2022-08-15T17:04:56.204881",
     "status": "completed"
    },
    "tags": []
   },
   "outputs": [],
   "source": [
    "# Lines below will give you a hint or solution code\n",
    "#q3.hint()\n",
    "#q3.solution()"
   ]
  },
  {
   "cell_type": "markdown",
   "id": "b3cf7f2f",
   "metadata": {
    "papermill": {
     "duration": 0.0054,
     "end_time": "2022-08-15T17:04:56.229577",
     "exception": false,
     "start_time": "2022-08-15T17:04:56.224177",
     "status": "completed"
    },
    "tags": []
   },
   "source": [
    "# (Optional) More practice\n",
    "\n",
    "Check out [this dataset of files in different character encodings](https://www.kaggle.com/rtatman/character-encoding-examples). Can you read in all the files with their original encodings and them save them out as UTF-8 files?\n",
    "\n",
    "If you have a file that's in UTF-8 but has just a couple of weird-looking characters in it, you can try out the [ftfy module](https://ftfy.readthedocs.io/en/latest/#) and see if it helps. \n",
    "\n",
    "# Keep going\n",
    "\n",
    "In the final lesson, learn how to [**clean up inconsistent text entries**](https://www.kaggle.com/alexisbcook/inconsistent-data-entry) in your dataset."
   ]
  },
  {
   "cell_type": "markdown",
   "id": "a6463df1",
   "metadata": {
    "papermill": {
     "duration": 0.005392,
     "end_time": "2022-08-15T17:04:56.240533",
     "exception": false,
     "start_time": "2022-08-15T17:04:56.235141",
     "status": "completed"
    },
    "tags": []
   },
   "source": [
    "---\n",
    "\n",
    "\n",
    "\n",
    "\n",
    "*Have questions or comments? Visit the [course discussion forum](https://www.kaggle.com/learn/data-cleaning/discussion) to chat with other learners.*"
   ]
  }
 ],
 "metadata": {
  "kernelspec": {
   "display_name": "Python 3",
   "language": "python",
   "name": "python3"
  },
  "language_info": {
   "codemirror_mode": {
    "name": "ipython",
    "version": 3
   },
   "file_extension": ".py",
   "mimetype": "text/x-python",
   "name": "python",
   "nbconvert_exporter": "python",
   "pygments_lexer": "ipython3",
   "version": "3.7.12"
  },
  "papermill": {
   "default_parameters": {},
   "duration": 13.62058,
   "end_time": "2022-08-15T17:04:56.866281",
   "environment_variables": {},
   "exception": null,
   "input_path": "__notebook__.ipynb",
   "output_path": "__notebook__.ipynb",
   "parameters": {},
   "start_time": "2022-08-15T17:04:43.245701",
   "version": "2.3.4"
  }
 },
 "nbformat": 4,
 "nbformat_minor": 5
}
