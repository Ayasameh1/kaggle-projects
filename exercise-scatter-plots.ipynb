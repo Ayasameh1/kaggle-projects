{
 "cells": [
  {
   "cell_type": "markdown",
   "id": "0fdd112c",
   "metadata": {
    "papermill": {
     "duration": 0.009959,
     "end_time": "2022-08-15T17:11:15.689096",
     "exception": false,
     "start_time": "2022-08-15T17:11:15.679137",
     "status": "completed"
    },
    "tags": []
   },
   "source": [
    "**This notebook is an exercise in the [Data Visualization](https://www.kaggle.com/learn/data-visualization) course.  You can reference the tutorial at [this link](https://www.kaggle.com/alexisbcook/scatter-plots).**\n",
    "\n",
    "---\n"
   ]
  },
  {
   "cell_type": "markdown",
   "id": "0e38bcfc",
   "metadata": {
    "papermill": {
     "duration": 0.007961,
     "end_time": "2022-08-15T17:11:15.705636",
     "exception": false,
     "start_time": "2022-08-15T17:11:15.697675",
     "status": "completed"
    },
    "tags": []
   },
   "source": [
    "In this exercise, you will use your new knowledge to propose a solution to a real-world scenario.  To succeed, you will need to import data into Python, answer questions using the data, and generate **scatter plots** to understand patterns in the data.\n",
    "\n",
    "## Scenario\n",
    "\n",
    "You work for a major candy producer, and your goal is to write a report that your company can use to guide the design of its next product.  Soon after starting your research, you stumble across this [very interesting dataset](https://fivethirtyeight.com/features/the-ultimate-halloween-candy-power-ranking/) containing results from a fun survey to crowdsource favorite candies.\n",
    "\n",
    "## Setup\n",
    "\n",
    "Run the next cell to import and configure the Python libraries that you need to complete the exercise."
   ]
  },
  {
   "cell_type": "code",
   "execution_count": 1,
   "id": "1f4ef1c6",
   "metadata": {
    "execution": {
     "iopub.execute_input": "2022-08-15T17:11:15.725578Z",
     "iopub.status.busy": "2022-08-15T17:11:15.724633Z",
     "iopub.status.idle": "2022-08-15T17:11:17.026959Z",
     "shell.execute_reply": "2022-08-15T17:11:17.025664Z"
    },
    "papermill": {
     "duration": 1.315639,
     "end_time": "2022-08-15T17:11:17.029830",
     "exception": false,
     "start_time": "2022-08-15T17:11:15.714191",
     "status": "completed"
    },
    "tags": []
   },
   "outputs": [
    {
     "name": "stdout",
     "output_type": "stream",
     "text": [
      "Setup Complete\n"
     ]
    }
   ],
   "source": [
    "import pandas as pd\n",
    "pd.plotting.register_matplotlib_converters()\n",
    "import matplotlib.pyplot as plt\n",
    "%matplotlib inline\n",
    "import seaborn as sns\n",
    "print(\"Setup Complete\")"
   ]
  },
  {
   "cell_type": "markdown",
   "id": "6261caa5",
   "metadata": {
    "papermill": {
     "duration": 0.008315,
     "end_time": "2022-08-15T17:11:17.047373",
     "exception": false,
     "start_time": "2022-08-15T17:11:17.039058",
     "status": "completed"
    },
    "tags": []
   },
   "source": [
    "The questions below will give you feedback on your work. Run the following cell to set up our feedback system."
   ]
  },
  {
   "cell_type": "code",
   "execution_count": 2,
   "id": "eaf46489",
   "metadata": {
    "execution": {
     "iopub.execute_input": "2022-08-15T17:11:17.067781Z",
     "iopub.status.busy": "2022-08-15T17:11:17.066694Z",
     "iopub.status.idle": "2022-08-15T17:11:17.134040Z",
     "shell.execute_reply": "2022-08-15T17:11:17.132663Z"
    },
    "papermill": {
     "duration": 0.081453,
     "end_time": "2022-08-15T17:11:17.137529",
     "exception": false,
     "start_time": "2022-08-15T17:11:17.056076",
     "status": "completed"
    },
    "tags": []
   },
   "outputs": [
    {
     "name": "stdout",
     "output_type": "stream",
     "text": [
      "Setup Complete\n"
     ]
    }
   ],
   "source": [
    "# Set up code checking\n",
    "import os\n",
    "if not os.path.exists(\"../input/candy.csv\"):\n",
    "    os.symlink(\"../input/data-for-datavis/candy.csv\", \"../input/candy.csv\") \n",
    "from learntools.core import binder\n",
    "binder.bind(globals())\n",
    "from learntools.data_viz_to_coder.ex4 import *\n",
    "print(\"Setup Complete\")"
   ]
  },
  {
   "cell_type": "markdown",
   "id": "a0d6a4e9",
   "metadata": {
    "papermill": {
     "duration": 0.00831,
     "end_time": "2022-08-15T17:11:17.154873",
     "exception": false,
     "start_time": "2022-08-15T17:11:17.146563",
     "status": "completed"
    },
    "tags": []
   },
   "source": [
    "## Step 1: Load the Data\n",
    "\n",
    "Read the candy data file into `candy_data`.  Use the `\"id\"` column to label the rows."
   ]
  },
  {
   "cell_type": "code",
   "execution_count": 3,
   "id": "2bffe6bf",
   "metadata": {
    "execution": {
     "iopub.execute_input": "2022-08-15T17:11:17.174431Z",
     "iopub.status.busy": "2022-08-15T17:11:17.173958Z",
     "iopub.status.idle": "2022-08-15T17:11:17.190986Z",
     "shell.execute_reply": "2022-08-15T17:11:17.190129Z"
    },
    "papermill": {
     "duration": 0.029439,
     "end_time": "2022-08-15T17:11:17.193261",
     "exception": false,
     "start_time": "2022-08-15T17:11:17.163822",
     "status": "completed"
    },
    "tags": []
   },
   "outputs": [
    {
     "data": {
      "application/javascript": [
       "parent.postMessage({\"jupyterEvent\": \"custom.exercise_interaction\", \"data\": {\"outcomeType\": 1, \"valueTowardsCompletion\": 0.3333333333333333, \"interactionType\": 1, \"questionType\": 1, \"questionId\": \"1_LoadData\", \"learnToolsVersion\": \"0.3.4\", \"failureMessage\": \"\", \"exceptionClass\": \"\", \"trace\": \"\"}}, \"*\")"
      ],
      "text/plain": [
       "<IPython.core.display.Javascript object>"
      ]
     },
     "metadata": {},
     "output_type": "display_data"
    },
    {
     "data": {
      "text/markdown": [
       "<span style=\"color:#33cc33\">Correct</span>"
      ],
      "text/plain": [
       "Correct"
      ]
     },
     "metadata": {},
     "output_type": "display_data"
    }
   ],
   "source": [
    "# Path of the file to read\n",
    "candy_filepath = \"../input/candy.csv\"\n",
    "\n",
    "# Fill in the line below to read the file into a variable candy_data\n",
    "candy_data = pd.read_csv(candy_filepath , index_col =\"id\")\n",
    "\n",
    "# Run the line below with no changes to check that you've loaded the data correctly\n",
    "step_1.check()"
   ]
  },
  {
   "cell_type": "code",
   "execution_count": 4,
   "id": "f47ee840",
   "metadata": {
    "execution": {
     "iopub.execute_input": "2022-08-15T17:11:17.215653Z",
     "iopub.status.busy": "2022-08-15T17:11:17.214734Z",
     "iopub.status.idle": "2022-08-15T17:11:17.219409Z",
     "shell.execute_reply": "2022-08-15T17:11:17.218534Z"
    },
    "papermill": {
     "duration": 0.018196,
     "end_time": "2022-08-15T17:11:17.221581",
     "exception": false,
     "start_time": "2022-08-15T17:11:17.203385",
     "status": "completed"
    },
    "tags": []
   },
   "outputs": [],
   "source": [
    "# Lines below will give you a hint or solution code\n",
    "#step_1.hint()\n",
    "#step_1.solution()"
   ]
  },
  {
   "cell_type": "markdown",
   "id": "f38f5e1f",
   "metadata": {
    "papermill": {
     "duration": 0.00853,
     "end_time": "2022-08-15T17:11:17.239162",
     "exception": false,
     "start_time": "2022-08-15T17:11:17.230632",
     "status": "completed"
    },
    "tags": []
   },
   "source": [
    "## Step 2: Review the data\n",
    "\n",
    "Use a Python command to print the first five rows of the data."
   ]
  },
  {
   "cell_type": "code",
   "execution_count": 5,
   "id": "4f386046",
   "metadata": {
    "execution": {
     "iopub.execute_input": "2022-08-15T17:11:17.259773Z",
     "iopub.status.busy": "2022-08-15T17:11:17.258869Z",
     "iopub.status.idle": "2022-08-15T17:11:17.284105Z",
     "shell.execute_reply": "2022-08-15T17:11:17.282754Z"
    },
    "papermill": {
     "duration": 0.038712,
     "end_time": "2022-08-15T17:11:17.286898",
     "exception": false,
     "start_time": "2022-08-15T17:11:17.248186",
     "status": "completed"
    },
    "tags": []
   },
   "outputs": [
    {
     "data": {
      "text/html": [
       "<div>\n",
       "<style scoped>\n",
       "    .dataframe tbody tr th:only-of-type {\n",
       "        vertical-align: middle;\n",
       "    }\n",
       "\n",
       "    .dataframe tbody tr th {\n",
       "        vertical-align: top;\n",
       "    }\n",
       "\n",
       "    .dataframe thead th {\n",
       "        text-align: right;\n",
       "    }\n",
       "</style>\n",
       "<table border=\"1\" class=\"dataframe\">\n",
       "  <thead>\n",
       "    <tr style=\"text-align: right;\">\n",
       "      <th></th>\n",
       "      <th>competitorname</th>\n",
       "      <th>chocolate</th>\n",
       "      <th>fruity</th>\n",
       "      <th>caramel</th>\n",
       "      <th>peanutyalmondy</th>\n",
       "      <th>nougat</th>\n",
       "      <th>crispedricewafer</th>\n",
       "      <th>hard</th>\n",
       "      <th>bar</th>\n",
       "      <th>pluribus</th>\n",
       "      <th>sugarpercent</th>\n",
       "      <th>pricepercent</th>\n",
       "      <th>winpercent</th>\n",
       "    </tr>\n",
       "    <tr>\n",
       "      <th>id</th>\n",
       "      <th></th>\n",
       "      <th></th>\n",
       "      <th></th>\n",
       "      <th></th>\n",
       "      <th></th>\n",
       "      <th></th>\n",
       "      <th></th>\n",
       "      <th></th>\n",
       "      <th></th>\n",
       "      <th></th>\n",
       "      <th></th>\n",
       "      <th></th>\n",
       "      <th></th>\n",
       "    </tr>\n",
       "  </thead>\n",
       "  <tbody>\n",
       "    <tr>\n",
       "      <th>0</th>\n",
       "      <td>100 Grand</td>\n",
       "      <td>Yes</td>\n",
       "      <td>No</td>\n",
       "      <td>Yes</td>\n",
       "      <td>No</td>\n",
       "      <td>No</td>\n",
       "      <td>Yes</td>\n",
       "      <td>No</td>\n",
       "      <td>Yes</td>\n",
       "      <td>No</td>\n",
       "      <td>0.732</td>\n",
       "      <td>0.860</td>\n",
       "      <td>66.971725</td>\n",
       "    </tr>\n",
       "    <tr>\n",
       "      <th>1</th>\n",
       "      <td>3 Musketeers</td>\n",
       "      <td>Yes</td>\n",
       "      <td>No</td>\n",
       "      <td>No</td>\n",
       "      <td>No</td>\n",
       "      <td>Yes</td>\n",
       "      <td>No</td>\n",
       "      <td>No</td>\n",
       "      <td>Yes</td>\n",
       "      <td>No</td>\n",
       "      <td>0.604</td>\n",
       "      <td>0.511</td>\n",
       "      <td>67.602936</td>\n",
       "    </tr>\n",
       "    <tr>\n",
       "      <th>2</th>\n",
       "      <td>Air Heads</td>\n",
       "      <td>No</td>\n",
       "      <td>Yes</td>\n",
       "      <td>No</td>\n",
       "      <td>No</td>\n",
       "      <td>No</td>\n",
       "      <td>No</td>\n",
       "      <td>No</td>\n",
       "      <td>No</td>\n",
       "      <td>No</td>\n",
       "      <td>0.906</td>\n",
       "      <td>0.511</td>\n",
       "      <td>52.341465</td>\n",
       "    </tr>\n",
       "    <tr>\n",
       "      <th>3</th>\n",
       "      <td>Almond Joy</td>\n",
       "      <td>Yes</td>\n",
       "      <td>No</td>\n",
       "      <td>No</td>\n",
       "      <td>Yes</td>\n",
       "      <td>No</td>\n",
       "      <td>No</td>\n",
       "      <td>No</td>\n",
       "      <td>Yes</td>\n",
       "      <td>No</td>\n",
       "      <td>0.465</td>\n",
       "      <td>0.767</td>\n",
       "      <td>50.347546</td>\n",
       "    </tr>\n",
       "    <tr>\n",
       "      <th>4</th>\n",
       "      <td>Baby Ruth</td>\n",
       "      <td>Yes</td>\n",
       "      <td>No</td>\n",
       "      <td>Yes</td>\n",
       "      <td>Yes</td>\n",
       "      <td>Yes</td>\n",
       "      <td>No</td>\n",
       "      <td>No</td>\n",
       "      <td>Yes</td>\n",
       "      <td>No</td>\n",
       "      <td>0.604</td>\n",
       "      <td>0.767</td>\n",
       "      <td>56.914547</td>\n",
       "    </tr>\n",
       "  </tbody>\n",
       "</table>\n",
       "</div>"
      ],
      "text/plain": [
       "   competitorname chocolate fruity caramel peanutyalmondy nougat  \\\n",
       "id                                                                 \n",
       "0       100 Grand       Yes     No     Yes             No     No   \n",
       "1    3 Musketeers       Yes     No      No             No    Yes   \n",
       "2       Air Heads        No    Yes      No             No     No   \n",
       "3      Almond Joy       Yes     No      No            Yes     No   \n",
       "4       Baby Ruth       Yes     No     Yes            Yes    Yes   \n",
       "\n",
       "   crispedricewafer hard  bar pluribus  sugarpercent  pricepercent  winpercent  \n",
       "id                                                                              \n",
       "0               Yes   No  Yes       No         0.732         0.860   66.971725  \n",
       "1                No   No  Yes       No         0.604         0.511   67.602936  \n",
       "2                No   No   No       No         0.906         0.511   52.341465  \n",
       "3                No   No  Yes       No         0.465         0.767   50.347546  \n",
       "4                No   No  Yes       No         0.604         0.767   56.914547  "
      ]
     },
     "execution_count": 5,
     "metadata": {},
     "output_type": "execute_result"
    }
   ],
   "source": [
    "# Print the first five rows of the data\n",
    "candy_data.head() # Your code here"
   ]
  },
  {
   "cell_type": "markdown",
   "id": "e29942ca",
   "metadata": {
    "papermill": {
     "duration": 0.009301,
     "end_time": "2022-08-15T17:11:17.305776",
     "exception": false,
     "start_time": "2022-08-15T17:11:17.296475",
     "status": "completed"
    },
    "tags": []
   },
   "source": [
    "The dataset contains 83 rows, where each corresponds to a different candy bar.  There are 13 columns:\n",
    "- `'competitorname'` contains the name of the candy bar. \n",
    "- the next **9** columns (from `'chocolate'` to `'pluribus'`) describe the candy.  For instance, rows with chocolate candies have `\"Yes\"` in the `'chocolate'` column (and candies without chocolate have `\"No\"` in the same column).\n",
    "- `'sugarpercent'` provides some indication of the amount of sugar, where higher values signify higher sugar content.\n",
    "- `'pricepercent'` shows the price per unit, relative to the other candies in the dataset.\n",
    "- `'winpercent'` is calculated from the survey results; higher values indicate that the candy was more popular with survey respondents.\n",
    "\n",
    "Use the first five rows of the data to answer the questions below."
   ]
  },
  {
   "cell_type": "code",
   "execution_count": 6,
   "id": "e7129a1e",
   "metadata": {
    "execution": {
     "iopub.execute_input": "2022-08-15T17:11:17.327760Z",
     "iopub.status.busy": "2022-08-15T17:11:17.327231Z",
     "iopub.status.idle": "2022-08-15T17:11:17.336870Z",
     "shell.execute_reply": "2022-08-15T17:11:17.335659Z"
    },
    "papermill": {
     "duration": 0.023316,
     "end_time": "2022-08-15T17:11:17.339449",
     "exception": false,
     "start_time": "2022-08-15T17:11:17.316133",
     "status": "completed"
    },
    "tags": []
   },
   "outputs": [
    {
     "data": {
      "application/javascript": [
       "parent.postMessage({\"jupyterEvent\": \"custom.exercise_interaction\", \"data\": {\"outcomeType\": 1, \"valueTowardsCompletion\": 0.3333333333333333, \"interactionType\": 1, \"questionType\": 1, \"questionId\": \"2_ReviewData\", \"learnToolsVersion\": \"0.3.4\", \"failureMessage\": \"\", \"exceptionClass\": \"\", \"trace\": \"\"}}, \"*\")"
      ],
      "text/plain": [
       "<IPython.core.display.Javascript object>"
      ]
     },
     "metadata": {},
     "output_type": "display_data"
    },
    {
     "data": {
      "text/markdown": [
       "<span style=\"color:#33cc33\">Correct</span>"
      ],
      "text/plain": [
       "Correct"
      ]
     },
     "metadata": {},
     "output_type": "display_data"
    }
   ],
   "source": [
    "# Fill in the line below: Which candy was more popular with survey respondents:\n",
    "# '3 Musketeers' or 'Almond Joy'?  (Please enclose your answer in single quotes.)\n",
    "more_popular = '3 Musketeers'\n",
    "\n",
    "# Fill in the line below: Which candy has higher sugar content: 'Air Heads'\n",
    "# or 'Baby Ruth'? (Please enclose your answer in single quotes.)\n",
    "more_sugar = 'Air Heads'\n",
    "\n",
    "# Check your answers\n",
    "step_2.check()"
   ]
  },
  {
   "cell_type": "code",
   "execution_count": 7,
   "id": "ba8e173e",
   "metadata": {
    "execution": {
     "iopub.execute_input": "2022-08-15T17:11:17.361192Z",
     "iopub.status.busy": "2022-08-15T17:11:17.360297Z",
     "iopub.status.idle": "2022-08-15T17:11:17.364857Z",
     "shell.execute_reply": "2022-08-15T17:11:17.363961Z"
    },
    "papermill": {
     "duration": 0.017916,
     "end_time": "2022-08-15T17:11:17.367081",
     "exception": false,
     "start_time": "2022-08-15T17:11:17.349165",
     "status": "completed"
    },
    "tags": []
   },
   "outputs": [],
   "source": [
    "# Lines below will give you a hint or solution code\n",
    "#step_2.hint()\n",
    "#step_2.solution()"
   ]
  },
  {
   "cell_type": "markdown",
   "id": "6f44309e",
   "metadata": {
    "papermill": {
     "duration": 0.009137,
     "end_time": "2022-08-15T17:11:17.385837",
     "exception": false,
     "start_time": "2022-08-15T17:11:17.376700",
     "status": "completed"
    },
    "tags": []
   },
   "source": [
    "## Step 3: The role of sugar\n",
    "\n",
    "Do people tend to prefer candies with higher sugar content?  \n",
    "\n",
    "#### Part A\n",
    "\n",
    "Create a scatter plot that shows the relationship between `'sugarpercent'` (on the horizontal x-axis) and `'winpercent'` (on the vertical y-axis).  _Don't add a regression line just yet -- you'll do that in the next step!_"
   ]
  },
  {
   "cell_type": "code",
   "execution_count": 8,
   "id": "4c7750ff",
   "metadata": {
    "execution": {
     "iopub.execute_input": "2022-08-15T17:11:17.407543Z",
     "iopub.status.busy": "2022-08-15T17:11:17.407032Z",
     "iopub.status.idle": "2022-08-15T17:11:17.666430Z",
     "shell.execute_reply": "2022-08-15T17:11:17.665082Z"
    },
    "papermill": {
     "duration": 0.273696,
     "end_time": "2022-08-15T17:11:17.669257",
     "exception": false,
     "start_time": "2022-08-15T17:11:17.395561",
     "status": "completed"
    },
    "tags": []
   },
   "outputs": [
    {
     "data": {
      "application/javascript": [
       "parent.postMessage({\"jupyterEvent\": \"custom.exercise_interaction\", \"data\": {\"outcomeType\": 1, \"valueTowardsCompletion\": 0.3333333333333333, \"interactionType\": 1, \"questionType\": 2, \"questionId\": \"3.1_PlotBlueScatter\", \"learnToolsVersion\": \"0.3.4\", \"failureMessage\": \"\", \"exceptionClass\": \"\", \"trace\": \"\"}}, \"*\")"
      ],
      "text/plain": [
       "<IPython.core.display.Javascript object>"
      ]
     },
     "metadata": {},
     "output_type": "display_data"
    },
    {
     "data": {
      "text/markdown": [
       "<span style=\"color:#33cc33\">Correct</span>"
      ],
      "text/plain": [
       "Correct"
      ]
     },
     "metadata": {},
     "output_type": "display_data"
    },
    {
     "data": {
      "image/png": "[encoded data removed]",
      "text/plain": [
       "<Figure size 432x288 with 1 Axes>"
      ]
     },
     "metadata": {
      "needs_background": "light"
     },
     "output_type": "display_data"
    }
   ],
   "source": [
    "# Scatter plot showing the relationship between 'sugarpercent' and 'winpercent'\n",
    "____ # Your code here\n",
    "sns.scatterplot(x=candy_data['sugarpercent'], y=candy_data['winpercent'])\n",
    "# Check your answer\n",
    "step_3.a.check()"
   ]
  },
  {
   "cell_type": "code",
   "execution_count": 9,
   "id": "647f09c2",
   "metadata": {
    "execution": {
     "iopub.execute_input": "2022-08-15T17:11:17.691954Z",
     "iopub.status.busy": "2022-08-15T17:11:17.691433Z",
     "iopub.status.idle": "2022-08-15T17:11:17.696229Z",
     "shell.execute_reply": "2022-08-15T17:11:17.695066Z"
    },
    "papermill": {
     "duration": 0.018945,
     "end_time": "2022-08-15T17:11:17.698531",
     "exception": false,
     "start_time": "2022-08-15T17:11:17.679586",
     "status": "completed"
    },
    "tags": []
   },
   "outputs": [],
   "source": [
    "# Lines below will give you a hint or solution code\n",
    "#step_3.a.hint()\n",
    "#step_3.a.solution_plot()"
   ]
  },
  {
   "cell_type": "markdown",
   "id": "0e2a36b8",
   "metadata": {
    "papermill": {
     "duration": 0.009706,
     "end_time": "2022-08-15T17:11:17.718393",
     "exception": false,
     "start_time": "2022-08-15T17:11:17.708687",
     "status": "completed"
    },
    "tags": []
   },
   "source": [
    "#### Part B\n",
    "\n",
    "Does the scatter plot show a **strong** correlation between the two variables?  If so, are candies with more sugar relatively more or less popular with the survey respondents?"
   ]
  },
  {
   "cell_type": "code",
   "execution_count": 10,
   "id": "e4a10fd6",
   "metadata": {
    "execution": {
     "iopub.execute_input": "2022-08-15T17:11:17.741150Z",
     "iopub.status.busy": "2022-08-15T17:11:17.740278Z",
     "iopub.status.idle": "2022-08-15T17:11:17.745372Z",
     "shell.execute_reply": "2022-08-15T17:11:17.744295Z"
    },
    "papermill": {
     "duration": 0.019119,
     "end_time": "2022-08-15T17:11:17.747648",
     "exception": false,
     "start_time": "2022-08-15T17:11:17.728529",
     "status": "completed"
    },
    "tags": []
   },
   "outputs": [],
   "source": [
    "#step_3.b.hint()"
   ]
  },
  {
   "cell_type": "code",
   "execution_count": 11,
   "id": "99974425",
   "metadata": {
    "execution": {
     "iopub.execute_input": "2022-08-15T17:11:17.769860Z",
     "iopub.status.busy": "2022-08-15T17:11:17.769365Z",
     "iopub.status.idle": "2022-08-15T17:11:17.777645Z",
     "shell.execute_reply": "2022-08-15T17:11:17.776823Z"
    },
    "papermill": {
     "duration": 0.021761,
     "end_time": "2022-08-15T17:11:17.779598",
     "exception": false,
     "start_time": "2022-08-15T17:11:17.757837",
     "status": "completed"
    },
    "tags": []
   },
   "outputs": [
    {
     "data": {
      "application/javascript": [
       "parent.postMessage({\"jupyterEvent\": \"custom.exercise_interaction\", \"data\": {\"interactionType\": 3, \"questionType\": 4, \"questionId\": \"3.2_ThinkBlueScatter\", \"learnToolsVersion\": \"0.3.4\", \"valueTowardsCompletion\": 0.0, \"failureMessage\": \"\", \"exceptionClass\": \"\", \"trace\": \"\", \"outcomeType\": 4}}, \"*\")"
      ],
      "text/plain": [
       "<IPython.core.display.Javascript object>"
      ]
     },
     "metadata": {},
     "output_type": "display_data"
    },
    {
     "data": {
      "text/markdown": [
       "<span style=\"color:#33cc99\">Solution:</span> The scatter plot does not show a strong correlation between the two variables. Since there is no clear relationship between the two variables, this tells us that sugar content does not play a strong role in candy popularity."
      ],
      "text/plain": [
       "Solution: The scatter plot does not show a strong correlation between the two variables. Since there is no clear relationship between the two variables, this tells us that sugar content does not play a strong role in candy popularity."
      ]
     },
     "metadata": {},
     "output_type": "display_data"
    }
   ],
   "source": [
    "# Check your answer (Run this code cell to receive credit!)\n",
    "step_3.b.solution()"
   ]
  },
  {
   "cell_type": "markdown",
   "id": "85e32ab7",
   "metadata": {
    "papermill": {
     "duration": 0.00967,
     "end_time": "2022-08-15T17:11:17.799444",
     "exception": false,
     "start_time": "2022-08-15T17:11:17.789774",
     "status": "completed"
    },
    "tags": []
   },
   "source": [
    "## Step 4: Take a closer look\n",
    "\n",
    "#### Part A\n",
    "\n",
    "Create the same scatter plot you created in **Step 3**, but now with a regression line!"
   ]
  },
  {
   "cell_type": "code",
   "execution_count": 12,
   "id": "cba1e07d",
   "metadata": {
    "execution": {
     "iopub.execute_input": "2022-08-15T17:11:17.822498Z",
     "iopub.status.busy": "2022-08-15T17:11:17.821688Z",
     "iopub.status.idle": "2022-08-15T17:11:18.147104Z",
     "shell.execute_reply": "2022-08-15T17:11:18.145690Z"
    },
    "papermill": {
     "duration": 0.340461,
     "end_time": "2022-08-15T17:11:18.150169",
     "exception": false,
     "start_time": "2022-08-15T17:11:17.809708",
     "status": "completed"
    },
    "tags": []
   },
   "outputs": [
    {
     "data": {
      "application/javascript": [
       "parent.postMessage({\"jupyterEvent\": \"custom.exercise_interaction\", \"data\": {\"outcomeType\": 1, \"valueTowardsCompletion\": 0.3333333333333333, \"interactionType\": 1, \"questionType\": 2, \"questionId\": \"4.1_PlotBlueReg\", \"learnToolsVersion\": \"0.3.4\", \"failureMessage\": \"\", \"exceptionClass\": \"\", \"trace\": \"\"}}, \"*\")"
      ],
      "text/plain": [
       "<IPython.core.display.Javascript object>"
      ]
     },
     "metadata": {},
     "output_type": "display_data"
    },
    {
     "data": {
      "text/markdown": [
       "<span style=\"color:#33cc33\">Correct</span>"
      ],
      "text/plain": [
       "Correct"
      ]
     },
     "metadata": {},
     "output_type": "display_data"
    },
    {
     "data": {
      "image/png": "[encoded data removed]",
      "text/plain": [
       "<Figure size 432x288 with 1 Axes>"
      ]
     },
     "metadata": {
      "needs_background": "light"
     },
     "output_type": "display_data"
    }
   ],
   "source": [
    "# Scatter plot w/ regression line showing the relationship between 'sugarpercent' and 'winpercent'\n",
    "____ # Your code here\n",
    "sns.regplot(x=candy_data['sugarpercent'], y=candy_data['winpercent'])\n",
    "# Check your answer\n",
    "step_4.a.check()"
   ]
  },
  {
   "cell_type": "code",
   "execution_count": 13,
   "id": "5eb506c1",
   "metadata": {
    "execution": {
     "iopub.execute_input": "2022-08-15T17:11:18.174438Z",
     "iopub.status.busy": "2022-08-15T17:11:18.173640Z",
     "iopub.status.idle": "2022-08-15T17:11:18.180919Z",
     "shell.execute_reply": "2022-08-15T17:11:18.179946Z"
    },
    "papermill": {
     "duration": 0.022353,
     "end_time": "2022-08-15T17:11:18.183646",
     "exception": false,
     "start_time": "2022-08-15T17:11:18.161293",
     "status": "completed"
    },
    "tags": []
   },
   "outputs": [],
   "source": [
    "# Lines below will give you a hint or solution code\n",
    "#step_4.a.hint()\n",
    "#step_4.a.solution_plot()"
   ]
  },
  {
   "cell_type": "markdown",
   "id": "a01e37e8",
   "metadata": {
    "papermill": {
     "duration": 0.011274,
     "end_time": "2022-08-15T17:11:18.206742",
     "exception": false,
     "start_time": "2022-08-15T17:11:18.195468",
     "status": "completed"
    },
    "tags": []
   },
   "source": [
    "#### Part B\n",
    "\n",
    "According to the plot above, is there a **slight** correlation between `'winpercent'` and `'sugarpercent'`?  What does this tell you about the candy that people tend to prefer?"
   ]
  },
  {
   "cell_type": "code",
   "execution_count": 14,
   "id": "e0dd91ad",
   "metadata": {
    "execution": {
     "iopub.execute_input": "2022-08-15T17:11:18.232256Z",
     "iopub.status.busy": "2022-08-15T17:11:18.231707Z",
     "iopub.status.idle": "2022-08-15T17:11:18.237462Z",
     "shell.execute_reply": "2022-08-15T17:11:18.236200Z"
    },
    "papermill": {
     "duration": 0.02128,
     "end_time": "2022-08-15T17:11:18.239878",
     "exception": false,
     "start_time": "2022-08-15T17:11:18.218598",
     "status": "completed"
    },
    "tags": []
   },
   "outputs": [],
   "source": [
    "#step_4.b.hint()"
   ]
  },
  {
   "cell_type": "code",
   "execution_count": 15,
   "id": "71b34f94",
   "metadata": {
    "execution": {
     "iopub.execute_input": "2022-08-15T17:11:18.265956Z",
     "iopub.status.busy": "2022-08-15T17:11:18.264806Z",
     "iopub.status.idle": "2022-08-15T17:11:18.274930Z",
     "shell.execute_reply": "2022-08-15T17:11:18.273989Z"
    },
    "papermill": {
     "duration": 0.025897,
     "end_time": "2022-08-15T17:11:18.277417",
     "exception": false,
     "start_time": "2022-08-15T17:11:18.251520",
     "status": "completed"
    },
    "tags": []
   },
   "outputs": [
    {
     "data": {
      "application/javascript": [
       "parent.postMessage({\"jupyterEvent\": \"custom.exercise_interaction\", \"data\": {\"interactionType\": 3, \"questionType\": 4, \"questionId\": \"4.2_ThinkBlueReg\", \"learnToolsVersion\": \"0.3.4\", \"valueTowardsCompletion\": 0.0, \"failureMessage\": \"\", \"exceptionClass\": \"\", \"trace\": \"\", \"outcomeType\": 4}}, \"*\")"
      ],
      "text/plain": [
       "<IPython.core.display.Javascript object>"
      ]
     },
     "metadata": {},
     "output_type": "display_data"
    },
    {
     "data": {
      "text/markdown": [
       "<span style=\"color:#33cc99\">Solution:</span> Since the regression line has a slightly positive slope, this tells us that there is a slightly positive correlation between `'winpercent'` and `'sugarpercent'`. Thus, people have a slight preference for candies containing relatively more sugar."
      ],
      "text/plain": [
       "Solution: Since the regression line has a slightly positive slope, this tells us that there is a slightly positive correlation between `'winpercent'` and `'sugarpercent'`. Thus, people have a slight preference for candies containing relatively more sugar."
      ]
     },
     "metadata": {},
     "output_type": "display_data"
    }
   ],
   "source": [
    "# Check your answer (Run this code cell to receive credit!)\n",
    "step_4.b.solution()"
   ]
  },
  {
   "cell_type": "markdown",
   "id": "7ab199df",
   "metadata": {
    "papermill": {
     "duration": 0.010768,
     "end_time": "2022-08-15T17:11:18.299508",
     "exception": false,
     "start_time": "2022-08-15T17:11:18.288740",
     "status": "completed"
    },
    "tags": []
   },
   "source": [
    "## Step 5: Chocolate!\n",
    "\n",
    "In the code cell below, create a scatter plot to show the relationship between `'pricepercent'` (on the horizontal x-axis) and `'winpercent'` (on the vertical y-axis). Use the `'chocolate'` column to color-code the points.  _Don't add any regression lines just yet -- you'll do that in the next step!_"
   ]
  },
  {
   "cell_type": "code",
   "execution_count": 16,
   "id": "2414cbc3",
   "metadata": {
    "execution": {
     "iopub.execute_input": "2022-08-15T17:11:18.324335Z",
     "iopub.status.busy": "2022-08-15T17:11:18.323774Z",
     "iopub.status.idle": "2022-08-15T17:11:18.601657Z",
     "shell.execute_reply": "2022-08-15T17:11:18.600395Z"
    },
    "papermill": {
     "duration": 0.293807,
     "end_time": "2022-08-15T17:11:18.604447",
     "exception": false,
     "start_time": "2022-08-15T17:11:18.310640",
     "status": "completed"
    },
    "tags": []
   },
   "outputs": [
    {
     "data": {
      "application/javascript": [
       "parent.postMessage({\"jupyterEvent\": \"custom.exercise_interaction\", \"data\": {\"outcomeType\": 1, \"valueTowardsCompletion\": 0.3333333333333333, \"interactionType\": 1, \"questionType\": 2, \"questionId\": \"5_ColorScatter\", \"learnToolsVersion\": \"0.3.4\", \"failureMessage\": \"\", \"exceptionClass\": \"\", \"trace\": \"\"}}, \"*\")"
      ],
      "text/plain": [
       "<IPython.core.display.Javascript object>"
      ]
     },
     "metadata": {},
     "output_type": "display_data"
    },
    {
     "data": {
      "text/markdown": [
       "<span style=\"color:#33cc33\">Correct</span>"
      ],
      "text/plain": [
       "Correct"
      ]
     },
     "metadata": {},
     "output_type": "display_data"
    },
    {
     "data": {
      "image/png": "[encoded data removed]",
      "text/plain": [
       "<Figure size 432x288 with 1 Axes>"
      ]
     },
     "metadata": {
      "needs_background": "light"
     },
     "output_type": "display_data"
    }
   ],
   "source": [
    "# Scatter plot showing the relationship between 'pricepercent', 'winpercent', and 'chocolate'\n",
    "____ # Your code here\n",
    "sns.scatterplot(x=candy_data['pricepercent'], y=candy_data['winpercent'], hue=candy_data['chocolate'])\n",
    "# Check your answer\n",
    "step_5.check()"
   ]
  },
  {
   "cell_type": "code",
   "execution_count": 17,
   "id": "8d5f8e99",
   "metadata": {
    "execution": {
     "iopub.execute_input": "2022-08-15T17:11:18.630658Z",
     "iopub.status.busy": "2022-08-15T17:11:18.630170Z",
     "iopub.status.idle": "2022-08-15T17:11:18.634771Z",
     "shell.execute_reply": "2022-08-15T17:11:18.633977Z"
    },
    "papermill": {
     "duration": 0.020084,
     "end_time": "2022-08-15T17:11:18.636766",
     "exception": false,
     "start_time": "2022-08-15T17:11:18.616682",
     "status": "completed"
    },
    "tags": []
   },
   "outputs": [],
   "source": [
    "# Lines below will give you a hint or solution code\n",
    "#step_5.hint()\n",
    "#step_5.solution_plot()"
   ]
  },
  {
   "cell_type": "markdown",
   "id": "e2ca0259",
   "metadata": {
    "papermill": {
     "duration": 0.012539,
     "end_time": "2022-08-15T17:11:18.661365",
     "exception": false,
     "start_time": "2022-08-15T17:11:18.648826",
     "status": "completed"
    },
    "tags": []
   },
   "source": [
    "Can you see any interesting patterns in the scatter plot?  We'll investigate this plot further  by adding regression lines in the next step!\n",
    "\n",
    "## Step 6: Investigate chocolate\n",
    "\n",
    "#### Part A\n",
    "\n",
    "Create the same scatter plot you created in **Step 5**, but now with two regression lines, corresponding to (1) chocolate candies and (2) candies without chocolate."
   ]
  },
  {
   "cell_type": "code",
   "execution_count": 18,
   "id": "2a47ab0b",
   "metadata": {
    "execution": {
     "iopub.execute_input": "2022-08-15T17:11:18.688056Z",
     "iopub.status.busy": "2022-08-15T17:11:18.687196Z",
     "iopub.status.idle": "2022-08-15T17:11:19.321537Z",
     "shell.execute_reply": "2022-08-15T17:11:19.320016Z"
    },
    "papermill": {
     "duration": 0.651499,
     "end_time": "2022-08-15T17:11:19.324887",
     "exception": false,
     "start_time": "2022-08-15T17:11:18.673388",
     "status": "completed"
    },
    "tags": []
   },
   "outputs": [
    {
     "data": {
      "application/javascript": [
       "parent.postMessage({\"jupyterEvent\": \"custom.exercise_interaction\", \"data\": {\"outcomeType\": 1, \"valueTowardsCompletion\": 0.3333333333333333, \"interactionType\": 1, \"questionType\": 2, \"questionId\": \"6.1_PlotColorReg\", \"learnToolsVersion\": \"0.3.4\", \"failureMessage\": \"\", \"exceptionClass\": \"\", \"trace\": \"\"}}, \"*\")"
      ],
      "text/plain": [
       "<IPython.core.display.Javascript object>"
      ]
     },
     "metadata": {},
     "output_type": "display_data"
    },
    {
     "data": {
      "text/markdown": [
       "<span style=\"color:#33cc33\">Correct</span>"
      ],
      "text/plain": [
       "Correct"
      ]
     },
     "metadata": {},
     "output_type": "display_data"
    },
    {
     "data": {
      "image/png": "[encoded data removed]",
      "text/plain": [
       "<Figure size 416.375x360 with 1 Axes>"
      ]
     },
     "metadata": {
      "needs_background": "light"
     },
     "output_type": "display_data"
    }
   ],
   "source": [
    "# Color-coded scatter plot w/ regression lines\n",
    "____ # Your code here\n",
    "sns.lmplot(x=\"pricepercent\", y=\"winpercent\", hue=\"chocolate\", data=candy_data)\n",
    "# Check your answer\n",
    "step_6.a.check()"
   ]
  },
  {
   "cell_type": "code",
   "execution_count": 19,
   "id": "4886a3a1",
   "metadata": {
    "execution": {
     "iopub.execute_input": "2022-08-15T17:11:19.353981Z",
     "iopub.status.busy": "2022-08-15T17:11:19.352690Z",
     "iopub.status.idle": "2022-08-15T17:11:19.358160Z",
     "shell.execute_reply": "2022-08-15T17:11:19.357161Z"
    },
    "papermill": {
     "duration": 0.022368,
     "end_time": "2022-08-15T17:11:19.360473",
     "exception": false,
     "start_time": "2022-08-15T17:11:19.338105",
     "status": "completed"
    },
    "tags": []
   },
   "outputs": [],
   "source": [
    "# Lines below will give you a hint or solution code\n",
    "#step_6.a.hint()\n",
    "#step_6.a.solution_plot()"
   ]
  },
  {
   "cell_type": "markdown",
   "id": "6a916944",
   "metadata": {
    "papermill": {
     "duration": 0.012285,
     "end_time": "2022-08-15T17:11:19.385706",
     "exception": false,
     "start_time": "2022-08-15T17:11:19.373421",
     "status": "completed"
    },
    "tags": []
   },
   "source": [
    "#### Part B\n",
    "\n",
    "Using the regression lines, what conclusions can you draw about the effects of chocolate and price on candy popularity?"
   ]
  },
  {
   "cell_type": "code",
   "execution_count": 20,
   "id": "f61365f7",
   "metadata": {
    "execution": {
     "iopub.execute_input": "2022-08-15T17:11:19.414169Z",
     "iopub.status.busy": "2022-08-15T17:11:19.412731Z",
     "iopub.status.idle": "2022-08-15T17:11:19.419239Z",
     "shell.execute_reply": "2022-08-15T17:11:19.417856Z"
    },
    "papermill": {
     "duration": 0.023789,
     "end_time": "2022-08-15T17:11:19.422076",
     "exception": false,
     "start_time": "2022-08-15T17:11:19.398287",
     "status": "completed"
    },
    "tags": []
   },
   "outputs": [],
   "source": [
    "#step_6.b.hint()"
   ]
  },
  {
   "cell_type": "code",
   "execution_count": 21,
   "id": "c1dc965f",
   "metadata": {
    "execution": {
     "iopub.execute_input": "2022-08-15T17:11:19.451079Z",
     "iopub.status.busy": "2022-08-15T17:11:19.450542Z",
     "iopub.status.idle": "2022-08-15T17:11:19.458939Z",
     "shell.execute_reply": "2022-08-15T17:11:19.458092Z"
    },
    "papermill": {
     "duration": 0.02567,
     "end_time": "2022-08-15T17:11:19.461339",
     "exception": false,
     "start_time": "2022-08-15T17:11:19.435669",
     "status": "completed"
    },
    "tags": []
   },
   "outputs": [
    {
     "data": {
      "application/javascript": [
       "parent.postMessage({\"jupyterEvent\": \"custom.exercise_interaction\", \"data\": {\"interactionType\": 3, \"questionType\": 4, \"questionId\": \"6.2_ThinkColorReg\", \"learnToolsVersion\": \"0.3.4\", \"valueTowardsCompletion\": 0.0, \"failureMessage\": \"\", \"exceptionClass\": \"\", \"trace\": \"\", \"outcomeType\": 4}}, \"*\")"
      ],
      "text/plain": [
       "<IPython.core.display.Javascript object>"
      ]
     },
     "metadata": {},
     "output_type": "display_data"
    },
    {
     "data": {
      "text/markdown": [
       "<span style=\"color:#33cc99\">Solution:</span> We'll begin with the regression line for chocolate candies. Since this line has a slightly positive slope, we can say that more expensive chocolate candies tend to be more popular (than relatively cheaper chocolate candies).  Likewise, since the regression line for candies without chocolate has a negative slope, we can say that if candies don't contain chocolate, they tend to be more popular when they are cheaper.  One important note, however, is that the dataset is quite small -- so we shouldn't invest too much trust in these patterns!  To inspire more confidence in the results, we should add more candies to the dataset."
      ],
      "text/plain": [
       "Solution: We'll begin with the regression line for chocolate candies. Since this line has a slightly positive slope, we can say that more expensive chocolate candies tend to be more popular (than relatively cheaper chocolate candies).  Likewise, since the regression line for candies without chocolate has a negative slope, we can say that if candies don't contain chocolate, they tend to be more popular when they are cheaper.  One important note, however, is that the dataset is quite small -- so we shouldn't invest too much trust in these patterns!  To inspire more confidence in the results, we should add more candies to the dataset."
      ]
     },
     "metadata": {},
     "output_type": "display_data"
    }
   ],
   "source": [
    "# Check your answer (Run this code cell to receive credit!)\n",
    "step_6.b.solution()"
   ]
  },
  {
   "cell_type": "markdown",
   "id": "207e3cd8",
   "metadata": {
    "papermill": {
     "duration": 0.012687,
     "end_time": "2022-08-15T17:11:19.486974",
     "exception": false,
     "start_time": "2022-08-15T17:11:19.474287",
     "status": "completed"
    },
    "tags": []
   },
   "source": [
    "## Step 7: Everybody loves chocolate.\n",
    "\n",
    "#### Part A\n",
    "\n",
    "Create a categorical scatter plot to highlight the relationship between `'chocolate'` and `'winpercent'`.  Put `'chocolate'` on the (horizontal) x-axis, and `'winpercent'` on the (vertical) y-axis."
   ]
  },
  {
   "cell_type": "code",
   "execution_count": 22,
   "id": "f69fc7e8",
   "metadata": {
    "execution": {
     "iopub.execute_input": "2022-08-15T17:11:19.515510Z",
     "iopub.status.busy": "2022-08-15T17:11:19.514579Z",
     "iopub.status.idle": "2022-08-15T17:11:19.729550Z",
     "shell.execute_reply": "2022-08-15T17:11:19.728491Z"
    },
    "papermill": {
     "duration": 0.23208,
     "end_time": "2022-08-15T17:11:19.732166",
     "exception": false,
     "start_time": "2022-08-15T17:11:19.500086",
     "status": "completed"
    },
    "tags": []
   },
   "outputs": [
    {
     "data": {
      "application/javascript": [
       "parent.postMessage({\"jupyterEvent\": \"custom.exercise_interaction\", \"data\": {\"outcomeType\": 1, \"valueTowardsCompletion\": 0.3333333333333333, \"interactionType\": 1, \"questionType\": 2, \"questionId\": \"7.1_PlotSwarm\", \"learnToolsVersion\": \"0.3.4\", \"failureMessage\": \"\", \"exceptionClass\": \"\", \"trace\": \"\"}}, \"*\")"
      ],
      "text/plain": [
       "<IPython.core.display.Javascript object>"
      ]
     },
     "metadata": {},
     "output_type": "display_data"
    },
    {
     "data": {
      "text/markdown": [
       "<span style=\"color:#33cc33\">Correct</span>"
      ],
      "text/plain": [
       "Correct"
      ]
     },
     "metadata": {},
     "output_type": "display_data"
    },
    {
     "data": {
      "image/png": "[encoded data removed]",
      "text/plain": [
       "<Figure size 432x288 with 1 Axes>"
      ]
     },
     "metadata": {
      "needs_background": "light"
     },
     "output_type": "display_data"
    }
   ],
   "source": [
    "# Scatter plot showing the relationship between 'chocolate' and 'winpercent'\n",
    "____ # Your code here\n",
    "sns.swarmplot(x=candy_data['chocolate'],\n",
    "              y=candy_data['winpercent'])\n",
    "# Check your answer\n",
    "step_7.a.check()"
   ]
  },
  {
   "cell_type": "code",
   "execution_count": 23,
   "id": "8a9031bf",
   "metadata": {
    "execution": {
     "iopub.execute_input": "2022-08-15T17:11:19.761251Z",
     "iopub.status.busy": "2022-08-15T17:11:19.760756Z",
     "iopub.status.idle": "2022-08-15T17:11:19.765477Z",
     "shell.execute_reply": "2022-08-15T17:11:19.764402Z"
    },
    "papermill": {
     "duration": 0.02215,
     "end_time": "2022-08-15T17:11:19.767789",
     "exception": false,
     "start_time": "2022-08-15T17:11:19.745639",
     "status": "completed"
    },
    "tags": []
   },
   "outputs": [],
   "source": [
    "# Lines below will give you a hint or solution code\n",
    "#step_7.a.hint()\n",
    "#step_7.a.solution_plot()"
   ]
  },
  {
   "cell_type": "markdown",
   "id": "4ed59fb9",
   "metadata": {
    "papermill": {
     "duration": 0.013059,
     "end_time": "2022-08-15T17:11:19.794365",
     "exception": false,
     "start_time": "2022-08-15T17:11:19.781306",
     "status": "completed"
    },
    "tags": []
   },
   "source": [
    "#### Part B\n",
    "\n",
    "You decide to dedicate a section of your report to the fact that chocolate candies tend to be more popular than candies without chocolate.  Which plot is more appropriate to tell this story: the plot from **Step 6**, or the plot from **Step 7**?"
   ]
  },
  {
   "cell_type": "code",
   "execution_count": 24,
   "id": "2e4c5d5f",
   "metadata": {
    "execution": {
     "iopub.execute_input": "2022-08-15T17:11:19.823417Z",
     "iopub.status.busy": "2022-08-15T17:11:19.822454Z",
     "iopub.status.idle": "2022-08-15T17:11:19.826883Z",
     "shell.execute_reply": "2022-08-15T17:11:19.826100Z"
    },
    "papermill": {
     "duration": 0.021668,
     "end_time": "2022-08-15T17:11:19.829326",
     "exception": false,
     "start_time": "2022-08-15T17:11:19.807658",
     "status": "completed"
    },
    "tags": []
   },
   "outputs": [],
   "source": [
    "#step_7.b.hint()"
   ]
  },
  {
   "cell_type": "code",
   "execution_count": 25,
   "id": "9c1358a6",
   "metadata": {
    "execution": {
     "iopub.execute_input": "2022-08-15T17:11:19.860129Z",
     "iopub.status.busy": "2022-08-15T17:11:19.859251Z",
     "iopub.status.idle": "2022-08-15T17:11:19.867791Z",
     "shell.execute_reply": "2022-08-15T17:11:19.866818Z"
    },
    "papermill": {
     "duration": 0.026464,
     "end_time": "2022-08-15T17:11:19.870179",
     "exception": false,
     "start_time": "2022-08-15T17:11:19.843715",
     "status": "completed"
    },
    "tags": []
   },
   "outputs": [
    {
     "data": {
      "application/javascript": [
       "parent.postMessage({\"jupyterEvent\": \"custom.exercise_interaction\", \"data\": {\"interactionType\": 3, \"questionType\": 4, \"questionId\": \"7.2_ThinkSwarm\", \"learnToolsVersion\": \"0.3.4\", \"valueTowardsCompletion\": 0.0, \"failureMessage\": \"\", \"exceptionClass\": \"\", \"trace\": \"\", \"outcomeType\": 4}}, \"*\")"
      ],
      "text/plain": [
       "<IPython.core.display.Javascript object>"
      ]
     },
     "metadata": {},
     "output_type": "display_data"
    },
    {
     "data": {
      "text/markdown": [
       "<span style=\"color:#33cc99\">Solution:</span> In this case, the categorical scatter plot from **Step 7** is the more appropriate plot. While both plots tell the desired story, the plot from **Step 6** conveys far more information that could distract from the main point."
      ],
      "text/plain": [
       "Solution: In this case, the categorical scatter plot from **Step 7** is the more appropriate plot. While both plots tell the desired story, the plot from **Step 6** conveys far more information that could distract from the main point."
      ]
     },
     "metadata": {},
     "output_type": "display_data"
    }
   ],
   "source": [
    "# Check your answer (Run this code cell to receive credit!)\n",
    "step_7.b.solution()"
   ]
  },
  {
   "cell_type": "markdown",
   "id": "57c818d8",
   "metadata": {
    "papermill": {
     "duration": 0.013458,
     "end_time": "2022-08-15T17:11:19.897630",
     "exception": false,
     "start_time": "2022-08-15T17:11:19.884172",
     "status": "completed"
    },
    "tags": []
   },
   "source": [
    "## Keep going\n",
    "\n",
    "Explore **[histograms and density plots](https://www.kaggle.com/alexisbcook/distributions)**."
   ]
  },
  {
   "cell_type": "markdown",
   "id": "0848d63e",
   "metadata": {
    "papermill": {
     "duration": 0.013926,
     "end_time": "2022-08-15T17:11:19.925676",
     "exception": false,
     "start_time": "2022-08-15T17:11:19.911750",
     "status": "completed"
    },
    "tags": []
   },
   "source": [
    "---\n",
    "\n",
    "\n",
    "\n",
    "\n",
    "*Have questions or comments? Visit the [course discussion forum](https://www.kaggle.com/learn/data-visualization/discussion) to chat with other learners.*"
   ]
  }
 ],
 "metadata": {
  "kernelspec": {
   "display_name": "Python 3",
   "language": "python",
   "name": "python3"
  },
  "language_info": {
   "codemirror_mode": {
    "name": "ipython",
    "version": 3
   },
   "file_extension": ".py",
   "mimetype": "text/x-python",
   "name": "python",
   "nbconvert_exporter": "python",
   "pygments_lexer": "ipython3",
   "version": "3.7.12"
  },
  "papermill": {
   "default_parameters": {},
   "duration": 15.242003,
   "end_time": "2022-08-15T17:11:21.066524",
   "environment_variables": {},
   "exception": null,
   "input_path": "__notebook__.ipynb",
   "output_path": "__notebook__.ipynb",
   "parameters": {},
   "start_time": "2022-08-15T17:11:05.824521",
   "version": "2.3.4"
  }
 },
 "nbformat": 4,
 "nbformat_minor": 5
}
