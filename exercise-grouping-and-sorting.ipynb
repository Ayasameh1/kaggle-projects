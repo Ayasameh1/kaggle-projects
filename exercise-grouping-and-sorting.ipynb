{
 "cells": [
  {
   "cell_type": "markdown",
   "id": "db7042b2",
   "metadata": {
    "papermill": {
     "duration": 0.00781,
     "end_time": "2022-08-18T11:29:36.947318",
     "exception": false,
     "start_time": "2022-08-18T11:29:36.939508",
     "status": "completed"
    },
    "tags": []
   },
   "source": [
    "**This notebook is an exercise in the [Pandas](https://www.kaggle.com/learn/pandas) course.  You can reference the tutorial at [this link](https://www.kaggle.com/residentmario/grouping-and-sorting).**\n",
    "\n",
    "---\n"
   ]
  },
  {
   "cell_type": "markdown",
   "id": "59fec894",
   "metadata": {
    "papermill": {
     "duration": 0.005758,
     "end_time": "2022-08-18T11:29:36.959376",
     "exception": false,
     "start_time": "2022-08-18T11:29:36.953618",
     "status": "completed"
    },
    "tags": []
   },
   "source": [
    "# Introduction\n",
    "\n",
    "In these exercises we'll apply groupwise analysis to our dataset.\n",
    "\n",
    "Run the code cell below to load the data before running the exercises."
   ]
  },
  {
   "cell_type": "code",
   "execution_count": 1,
   "id": "c82ea077",
   "metadata": {
    "execution": {
     "iopub.execute_input": "2022-08-18T11:29:36.974064Z",
     "iopub.status.busy": "2022-08-18T11:29:36.973305Z",
     "iopub.status.idle": "2022-08-18T11:29:40.012683Z",
     "shell.execute_reply": "2022-08-18T11:29:40.011442Z"
    },
    "papermill": {
     "duration": 3.050278,
     "end_time": "2022-08-18T11:29:40.015699",
     "exception": false,
     "start_time": "2022-08-18T11:29:36.965421",
     "status": "completed"
    },
    "tags": []
   },
   "outputs": [
    {
     "name": "stdout",
     "output_type": "stream",
     "text": [
      "Setup complete.\n"
     ]
    }
   ],
   "source": [
    "import pandas as pd\n",
    "\n",
    "reviews = pd.read_csv(\"../input/wine-reviews/winemag-data-130k-v2.csv\", index_col=0)\n",
    "#pd.set_option(\"display.max_rows\", 5)\n",
    "\n",
    "from learntools.core import binder; binder.bind(globals())\n",
    "from learntools.pandas.grouping_and_sorting import *\n",
    "print(\"Setup complete.\")"
   ]
  },
  {
   "cell_type": "code",
   "execution_count": 2,
   "id": "25ca75ef",
   "metadata": {
    "execution": {
     "iopub.execute_input": "2022-08-18T11:29:40.031007Z",
     "iopub.status.busy": "2022-08-18T11:29:40.030596Z",
     "iopub.status.idle": "2022-08-18T11:29:40.056642Z",
     "shell.execute_reply": "2022-08-18T11:29:40.055537Z"
    },
    "papermill": {
     "duration": 0.036678,
     "end_time": "2022-08-18T11:29:40.059275",
     "exception": false,
     "start_time": "2022-08-18T11:29:40.022597",
     "status": "completed"
    },
    "tags": []
   },
   "outputs": [
    {
     "data": {
      "text/html": [
       "<div>\n",
       "<style scoped>\n",
       "    .dataframe tbody tr th:only-of-type {\n",
       "        vertical-align: middle;\n",
       "    }\n",
       "\n",
       "    .dataframe tbody tr th {\n",
       "        vertical-align: top;\n",
       "    }\n",
       "\n",
       "    .dataframe thead th {\n",
       "        text-align: right;\n",
       "    }\n",
       "</style>\n",
       "<table border=\"1\" class=\"dataframe\">\n",
       "  <thead>\n",
       "    <tr style=\"text-align: right;\">\n",
       "      <th></th>\n",
       "      <th>country</th>\n",
       "      <th>description</th>\n",
       "      <th>designation</th>\n",
       "      <th>points</th>\n",
       "      <th>price</th>\n",
       "      <th>province</th>\n",
       "      <th>region_1</th>\n",
       "      <th>region_2</th>\n",
       "      <th>taster_name</th>\n",
       "      <th>taster_twitter_handle</th>\n",
       "      <th>title</th>\n",
       "      <th>variety</th>\n",
       "      <th>winery</th>\n",
       "    </tr>\n",
       "  </thead>\n",
       "  <tbody>\n",
       "    <tr>\n",
       "      <th>0</th>\n",
       "      <td>Italy</td>\n",
       "      <td>Aromas include tropical fruit, broom, brimston...</td>\n",
       "      <td>Vulkà Bianco</td>\n",
       "      <td>87</td>\n",
       "      <td>NaN</td>\n",
       "      <td>Sicily &amp; Sardinia</td>\n",
       "      <td>Etna</td>\n",
       "      <td>NaN</td>\n",
       "      <td>Kerin O’Keefe</td>\n",
       "      <td>@kerinokeefe</td>\n",
       "      <td>Nicosia 2013 Vulkà Bianco  (Etna)</td>\n",
       "      <td>White Blend</td>\n",
       "      <td>Nicosia</td>\n",
       "    </tr>\n",
       "    <tr>\n",
       "      <th>1</th>\n",
       "      <td>Portugal</td>\n",
       "      <td>This is ripe and fruity, a wine that is smooth...</td>\n",
       "      <td>Avidagos</td>\n",
       "      <td>87</td>\n",
       "      <td>15.0</td>\n",
       "      <td>Douro</td>\n",
       "      <td>NaN</td>\n",
       "      <td>NaN</td>\n",
       "      <td>Roger Voss</td>\n",
       "      <td>@vossroger</td>\n",
       "      <td>Quinta dos Avidagos 2011 Avidagos Red (Douro)</td>\n",
       "      <td>Portuguese Red</td>\n",
       "      <td>Quinta dos Avidagos</td>\n",
       "    </tr>\n",
       "    <tr>\n",
       "      <th>2</th>\n",
       "      <td>US</td>\n",
       "      <td>Tart and snappy, the flavors of lime flesh and...</td>\n",
       "      <td>NaN</td>\n",
       "      <td>87</td>\n",
       "      <td>14.0</td>\n",
       "      <td>Oregon</td>\n",
       "      <td>Willamette Valley</td>\n",
       "      <td>Willamette Valley</td>\n",
       "      <td>Paul Gregutt</td>\n",
       "      <td>@paulgwine</td>\n",
       "      <td>Rainstorm 2013 Pinot Gris (Willamette Valley)</td>\n",
       "      <td>Pinot Gris</td>\n",
       "      <td>Rainstorm</td>\n",
       "    </tr>\n",
       "    <tr>\n",
       "      <th>3</th>\n",
       "      <td>US</td>\n",
       "      <td>Pineapple rind, lemon pith and orange blossom ...</td>\n",
       "      <td>Reserve Late Harvest</td>\n",
       "      <td>87</td>\n",
       "      <td>13.0</td>\n",
       "      <td>Michigan</td>\n",
       "      <td>Lake Michigan Shore</td>\n",
       "      <td>NaN</td>\n",
       "      <td>Alexander Peartree</td>\n",
       "      <td>NaN</td>\n",
       "      <td>St. Julian 2013 Reserve Late Harvest Riesling ...</td>\n",
       "      <td>Riesling</td>\n",
       "      <td>St. Julian</td>\n",
       "    </tr>\n",
       "    <tr>\n",
       "      <th>4</th>\n",
       "      <td>US</td>\n",
       "      <td>Much like the regular bottling from 2012, this...</td>\n",
       "      <td>Vintner's Reserve Wild Child Block</td>\n",
       "      <td>87</td>\n",
       "      <td>65.0</td>\n",
       "      <td>Oregon</td>\n",
       "      <td>Willamette Valley</td>\n",
       "      <td>Willamette Valley</td>\n",
       "      <td>Paul Gregutt</td>\n",
       "      <td>@paulgwine</td>\n",
       "      <td>Sweet Cheeks 2012 Vintner's Reserve Wild Child...</td>\n",
       "      <td>Pinot Noir</td>\n",
       "      <td>Sweet Cheeks</td>\n",
       "    </tr>\n",
       "  </tbody>\n",
       "</table>\n",
       "</div>"
      ],
      "text/plain": [
       "    country                                        description  \\\n",
       "0     Italy  Aromas include tropical fruit, broom, brimston...   \n",
       "1  Portugal  This is ripe and fruity, a wine that is smooth...   \n",
       "2        US  Tart and snappy, the flavors of lime flesh and...   \n",
       "3        US  Pineapple rind, lemon pith and orange blossom ...   \n",
       "4        US  Much like the regular bottling from 2012, this...   \n",
       "\n",
       "                          designation  points  price           province  \\\n",
       "0                        Vulkà Bianco      87    NaN  Sicily & Sardinia   \n",
       "1                            Avidagos      87   15.0              Douro   \n",
       "2                                 NaN      87   14.0             Oregon   \n",
       "3                Reserve Late Harvest      87   13.0           Michigan   \n",
       "4  Vintner's Reserve Wild Child Block      87   65.0             Oregon   \n",
       "\n",
       "              region_1           region_2         taster_name  \\\n",
       "0                 Etna                NaN       Kerin O’Keefe   \n",
       "1                  NaN                NaN          Roger Voss   \n",
       "2    Willamette Valley  Willamette Valley        Paul Gregutt   \n",
       "3  Lake Michigan Shore                NaN  Alexander Peartree   \n",
       "4    Willamette Valley  Willamette Valley        Paul Gregutt   \n",
       "\n",
       "  taster_twitter_handle                                              title  \\\n",
       "0          @kerinokeefe                  Nicosia 2013 Vulkà Bianco  (Etna)   \n",
       "1            @vossroger      Quinta dos Avidagos 2011 Avidagos Red (Douro)   \n",
       "2           @paulgwine       Rainstorm 2013 Pinot Gris (Willamette Valley)   \n",
       "3                   NaN  St. Julian 2013 Reserve Late Harvest Riesling ...   \n",
       "4           @paulgwine   Sweet Cheeks 2012 Vintner's Reserve Wild Child...   \n",
       "\n",
       "          variety               winery  \n",
       "0     White Blend              Nicosia  \n",
       "1  Portuguese Red  Quinta dos Avidagos  \n",
       "2      Pinot Gris            Rainstorm  \n",
       "3        Riesling           St. Julian  \n",
       "4      Pinot Noir         Sweet Cheeks  "
      ]
     },
     "execution_count": 2,
     "metadata": {},
     "output_type": "execute_result"
    }
   ],
   "source": [
    "reviews.head()"
   ]
  },
  {
   "cell_type": "markdown",
   "id": "dc9a4907",
   "metadata": {
    "papermill": {
     "duration": 0.006253,
     "end_time": "2022-08-18T11:29:40.072372",
     "exception": false,
     "start_time": "2022-08-18T11:29:40.066119",
     "status": "completed"
    },
    "tags": []
   },
   "source": [
    "# Exercises"
   ]
  },
  {
   "cell_type": "markdown",
   "id": "c0e6e137",
   "metadata": {
    "papermill": {
     "duration": 0.006201,
     "end_time": "2022-08-18T11:29:40.085066",
     "exception": false,
     "start_time": "2022-08-18T11:29:40.078865",
     "status": "completed"
    },
    "tags": []
   },
   "source": [
    "## 1.\n",
    "Who are the most common wine reviewers in the dataset? Create a `Series` whose index is the `taster_twitter_handle` category from the dataset, and whose values count how many reviews each person wrote."
   ]
  },
  {
   "cell_type": "code",
   "execution_count": 3,
   "id": "b5ded5f4",
   "metadata": {
    "execution": {
     "iopub.execute_input": "2022-08-18T11:29:40.100613Z",
     "iopub.status.busy": "2022-08-18T11:29:40.099823Z",
     "iopub.status.idle": "2022-08-18T11:29:40.121862Z",
     "shell.execute_reply": "2022-08-18T11:29:40.120992Z"
    },
    "papermill": {
     "duration": 0.03232,
     "end_time": "2022-08-18T11:29:40.123862",
     "exception": false,
     "start_time": "2022-08-18T11:29:40.091542",
     "status": "completed"
    },
    "tags": []
   },
   "outputs": [
    {
     "data": {
      "application/javascript": [
       "parent.postMessage({\"jupyterEvent\": \"custom.exercise_interaction\", \"data\": {\"outcomeType\": 1, \"valueTowardsCompletion\": 0.16666666666666666, \"interactionType\": 1, \"questionType\": 1, \"questionId\": \"1_ReviewsWritten\", \"learnToolsVersion\": \"0.3.4\", \"failureMessage\": \"\", \"exceptionClass\": \"\", \"trace\": \"\"}}, \"*\")"
      ],
      "text/plain": [
       "<IPython.core.display.Javascript object>"
      ]
     },
     "metadata": {},
     "output_type": "display_data"
    },
    {
     "data": {
      "text/markdown": [
       "<span style=\"color:#33cc33\">Correct:</span> \n",
       "\n",
       "\n",
       "```python\n",
       "reviews_written = reviews.groupby('taster_twitter_handle').size()\n",
       "```\n",
       "or\n",
       "```python\n",
       "reviews_written = reviews.groupby('taster_twitter_handle').taster_twitter_handle.count()\n",
       "```\n"
      ],
      "text/plain": [
       "Correct: \n",
       "\n",
       "\n",
       "```python\n",
       "reviews_written = reviews.groupby('taster_twitter_handle').size()\n",
       "```\n",
       "or\n",
       "```python\n",
       "reviews_written = reviews.groupby('taster_twitter_handle').taster_twitter_handle.count()\n",
       "```"
      ]
     },
     "metadata": {},
     "output_type": "display_data"
    }
   ],
   "source": [
    "# Your code here\n",
    "reviews_written = reviews.groupby('taster_twitter_handle').points.count()\n",
    "\n",
    "# Check your answer\n",
    "q1.check()"
   ]
  },
  {
   "cell_type": "code",
   "execution_count": 4,
   "id": "866c689c",
   "metadata": {
    "execution": {
     "iopub.execute_input": "2022-08-18T11:29:40.139476Z",
     "iopub.status.busy": "2022-08-18T11:29:40.139085Z",
     "iopub.status.idle": "2022-08-18T11:29:40.142885Z",
     "shell.execute_reply": "2022-08-18T11:29:40.141993Z"
    },
    "papermill": {
     "duration": 0.014139,
     "end_time": "2022-08-18T11:29:40.145002",
     "exception": false,
     "start_time": "2022-08-18T11:29:40.130863",
     "status": "completed"
    },
    "tags": []
   },
   "outputs": [],
   "source": [
    "#q1.hint()\n",
    "#q1.solution()"
   ]
  },
  {
   "cell_type": "markdown",
   "id": "27017487",
   "metadata": {
    "papermill": {
     "duration": 0.006647,
     "end_time": "2022-08-18T11:29:40.158602",
     "exception": false,
     "start_time": "2022-08-18T11:29:40.151955",
     "status": "completed"
    },
    "tags": []
   },
   "source": [
    "## 2.\n",
    "What is the best wine I can buy for a given amount of money? Create a `Series` whose index is wine prices and whose values is the maximum number of points a wine costing that much was given in a review. Sort the values by price, ascending (so that `4.0` dollars is at the top and `3300.0` dollars is at the bottom)."
   ]
  },
  {
   "cell_type": "code",
   "execution_count": 5,
   "id": "8fb9382a",
   "metadata": {
    "execution": {
     "iopub.execute_input": "2022-08-18T11:29:40.174245Z",
     "iopub.status.busy": "2022-08-18T11:29:40.173487Z",
     "iopub.status.idle": "2022-08-18T11:29:40.188500Z",
     "shell.execute_reply": "2022-08-18T11:29:40.186996Z"
    },
    "papermill": {
     "duration": 0.025497,
     "end_time": "2022-08-18T11:29:40.190941",
     "exception": false,
     "start_time": "2022-08-18T11:29:40.165444",
     "status": "completed"
    },
    "tags": []
   },
   "outputs": [
    {
     "data": {
      "application/javascript": [
       "parent.postMessage({\"jupyterEvent\": \"custom.exercise_interaction\", \"data\": {\"outcomeType\": 1, \"valueTowardsCompletion\": 0.16666666666666666, \"interactionType\": 1, \"questionType\": 1, \"questionId\": \"2_BestRatingPerPrice\", \"learnToolsVersion\": \"0.3.4\", \"failureMessage\": \"\", \"exceptionClass\": \"\", \"trace\": \"\"}}, \"*\")"
      ],
      "text/plain": [
       "<IPython.core.display.Javascript object>"
      ]
     },
     "metadata": {},
     "output_type": "display_data"
    },
    {
     "data": {
      "text/markdown": [
       "<span style=\"color:#33cc33\">Correct</span>"
      ],
      "text/plain": [
       "Correct"
      ]
     },
     "metadata": {},
     "output_type": "display_data"
    }
   ],
   "source": [
    "best_rating_per_price = reviews.groupby('price').points.max()\n",
    "\n",
    "# Check your answer\n",
    "q2.check()"
   ]
  },
  {
   "cell_type": "code",
   "execution_count": 6,
   "id": "ef8a6e65",
   "metadata": {
    "execution": {
     "iopub.execute_input": "2022-08-18T11:29:40.206767Z",
     "iopub.status.busy": "2022-08-18T11:29:40.206365Z",
     "iopub.status.idle": "2022-08-18T11:29:40.214419Z",
     "shell.execute_reply": "2022-08-18T11:29:40.213520Z"
    },
    "papermill": {
     "duration": 0.018929,
     "end_time": "2022-08-18T11:29:40.216996",
     "exception": false,
     "start_time": "2022-08-18T11:29:40.198067",
     "status": "completed"
    },
    "tags": []
   },
   "outputs": [
    {
     "data": {
      "application/javascript": [
       "parent.postMessage({\"jupyterEvent\": \"custom.exercise_interaction\", \"data\": {\"interactionType\": 3, \"questionType\": 1, \"questionId\": \"2_BestRatingPerPrice\", \"learnToolsVersion\": \"0.3.4\", \"valueTowardsCompletion\": 0.0, \"failureMessage\": \"\", \"exceptionClass\": \"\", \"trace\": \"\", \"outcomeType\": 4}}, \"*\")"
      ],
      "text/plain": [
       "<IPython.core.display.Javascript object>"
      ]
     },
     "metadata": {},
     "output_type": "display_data"
    },
    {
     "data": {
      "text/markdown": [
       "<span style=\"color:#33cc99\">Solution:</span> \n",
       "```python\n",
       "best_rating_per_price = reviews.groupby('price')['points'].max().sort_index()\n",
       "```"
      ],
      "text/plain": [
       "Solution: \n",
       "```python\n",
       "best_rating_per_price = reviews.groupby('price')['points'].max().sort_index()\n",
       "```"
      ]
     },
     "metadata": {},
     "output_type": "display_data"
    }
   ],
   "source": [
    "#q2.hint()\n",
    "q2.solution()"
   ]
  },
  {
   "cell_type": "markdown",
   "id": "3f18263a",
   "metadata": {
    "papermill": {
     "duration": 0.007087,
     "end_time": "2022-08-18T11:29:40.231386",
     "exception": false,
     "start_time": "2022-08-18T11:29:40.224299",
     "status": "completed"
    },
    "tags": []
   },
   "source": [
    "## 3.\n",
    "What are the minimum and maximum prices for each `variety` of wine? Create a `DataFrame` whose index is the `variety` category from the dataset and whose values are the `min` and `max` values thereof."
   ]
  },
  {
   "cell_type": "code",
   "execution_count": 7,
   "id": "bcd4111c",
   "metadata": {
    "execution": {
     "iopub.execute_input": "2022-08-18T11:29:40.248554Z",
     "iopub.status.busy": "2022-08-18T11:29:40.248173Z",
     "iopub.status.idle": "2022-08-18T11:29:40.272747Z",
     "shell.execute_reply": "2022-08-18T11:29:40.271452Z"
    },
    "papermill": {
     "duration": 0.035478,
     "end_time": "2022-08-18T11:29:40.275020",
     "exception": false,
     "start_time": "2022-08-18T11:29:40.239542",
     "status": "completed"
    },
    "tags": []
   },
   "outputs": [
    {
     "data": {
      "application/javascript": [
       "parent.postMessage({\"jupyterEvent\": \"custom.exercise_interaction\", \"data\": {\"outcomeType\": 1, \"valueTowardsCompletion\": 0.16666666666666666, \"interactionType\": 1, \"questionType\": 1, \"questionId\": \"3_PriceExtremes\", \"learnToolsVersion\": \"0.3.4\", \"failureMessage\": \"\", \"exceptionClass\": \"\", \"trace\": \"\"}}, \"*\")"
      ],
      "text/plain": [
       "<IPython.core.display.Javascript object>"
      ]
     },
     "metadata": {},
     "output_type": "display_data"
    },
    {
     "data": {
      "text/markdown": [
       "<span style=\"color:#33cc33\">Correct</span>"
      ],
      "text/plain": [
       "Correct"
      ]
     },
     "metadata": {},
     "output_type": "display_data"
    }
   ],
   "source": [
    "price_extremes = reviews.groupby(['variety']).price.agg([min,max])\n",
    "\n",
    "# Check your answer\n",
    "q3.check()"
   ]
  },
  {
   "cell_type": "code",
   "execution_count": 8,
   "id": "9a51b6c2",
   "metadata": {
    "execution": {
     "iopub.execute_input": "2022-08-18T11:29:40.292569Z",
     "iopub.status.busy": "2022-08-18T11:29:40.291343Z",
     "iopub.status.idle": "2022-08-18T11:29:40.295682Z",
     "shell.execute_reply": "2022-08-18T11:29:40.294854Z"
    },
    "papermill": {
     "duration": 0.01548,
     "end_time": "2022-08-18T11:29:40.297999",
     "exception": false,
     "start_time": "2022-08-18T11:29:40.282519",
     "status": "completed"
    },
    "tags": []
   },
   "outputs": [],
   "source": [
    "#q3.hint()\n",
    "#q3.solution()"
   ]
  },
  {
   "cell_type": "markdown",
   "id": "dbff6c3e",
   "metadata": {
    "papermill": {
     "duration": 0.007471,
     "end_time": "2022-08-18T11:29:40.313212",
     "exception": false,
     "start_time": "2022-08-18T11:29:40.305741",
     "status": "completed"
    },
    "tags": []
   },
   "source": [
    "## 4.\n",
    "What are the most expensive wine varieties? Create a variable `sorted_varieties` containing a copy of the dataframe from the previous question where varieties are sorted in descending order based on minimum price, then on maximum price (to break ties)."
   ]
  },
  {
   "cell_type": "code",
   "execution_count": 9,
   "id": "ed9bdb0c",
   "metadata": {
    "execution": {
     "iopub.execute_input": "2022-08-18T11:29:40.330298Z",
     "iopub.status.busy": "2022-08-18T11:29:40.329842Z",
     "iopub.status.idle": "2022-08-18T11:29:40.354712Z",
     "shell.execute_reply": "2022-08-18T11:29:40.353574Z"
    },
    "papermill": {
     "duration": 0.036208,
     "end_time": "2022-08-18T11:29:40.356912",
     "exception": false,
     "start_time": "2022-08-18T11:29:40.320704",
     "status": "completed"
    },
    "tags": []
   },
   "outputs": [
    {
     "data": {
      "application/javascript": [
       "parent.postMessage({\"jupyterEvent\": \"custom.exercise_interaction\", \"data\": {\"outcomeType\": 1, \"valueTowardsCompletion\": 0.16666666666666666, \"interactionType\": 1, \"questionType\": 1, \"questionId\": \"4_SortedVarieties\", \"learnToolsVersion\": \"0.3.4\", \"failureMessage\": \"\", \"exceptionClass\": \"\", \"trace\": \"\"}}, \"*\")"
      ],
      "text/plain": [
       "<IPython.core.display.Javascript object>"
      ]
     },
     "metadata": {},
     "output_type": "display_data"
    },
    {
     "data": {
      "text/markdown": [
       "<span style=\"color:#33cc33\">Correct</span>"
      ],
      "text/plain": [
       "Correct"
      ]
     },
     "metadata": {},
     "output_type": "display_data"
    }
   ],
   "source": [
    "price_extremes = reviews.groupby(['variety']).price.agg([min,max])\n",
    "\n",
    "sorted_varieties = price_extremes.sort_values(by = ['min','max'], ascending=False)\n",
    "\n",
    "# Check your answer\n",
    "q4.check()"
   ]
  },
  {
   "cell_type": "code",
   "execution_count": 10,
   "id": "71e82fc5",
   "metadata": {
    "execution": {
     "iopub.execute_input": "2022-08-18T11:29:40.374200Z",
     "iopub.status.busy": "2022-08-18T11:29:40.373586Z",
     "iopub.status.idle": "2022-08-18T11:29:40.377126Z",
     "shell.execute_reply": "2022-08-18T11:29:40.376349Z"
    },
    "papermill": {
     "duration": 0.014728,
     "end_time": "2022-08-18T11:29:40.379266",
     "exception": false,
     "start_time": "2022-08-18T11:29:40.364538",
     "status": "completed"
    },
    "tags": []
   },
   "outputs": [],
   "source": [
    "#q4.hint()\n",
    "#q4.solution()"
   ]
  },
  {
   "cell_type": "markdown",
   "id": "6a8a06e2",
   "metadata": {
    "papermill": {
     "duration": 0.007339,
     "end_time": "2022-08-18T11:29:40.394421",
     "exception": false,
     "start_time": "2022-08-18T11:29:40.387082",
     "status": "completed"
    },
    "tags": []
   },
   "source": []
  },
  {
   "cell_type": "markdown",
   "id": "3f675e9c",
   "metadata": {
    "papermill": {
     "duration": 0.007237,
     "end_time": "2022-08-18T11:29:40.409403",
     "exception": false,
     "start_time": "2022-08-18T11:29:40.402166",
     "status": "completed"
    },
    "tags": []
   },
   "source": [
    "## 5.\n",
    "Create a `Series` whose index is reviewers and whose values is the average review score given out by that reviewer. Hint: you will need the `taster_name` and `points` columns."
   ]
  },
  {
   "cell_type": "code",
   "execution_count": 11,
   "id": "cdbeb02b",
   "metadata": {
    "execution": {
     "iopub.execute_input": "2022-08-18T11:29:40.427393Z",
     "iopub.status.busy": "2022-08-18T11:29:40.426553Z",
     "iopub.status.idle": "2022-08-18T11:29:40.448759Z",
     "shell.execute_reply": "2022-08-18T11:29:40.447410Z"
    },
    "papermill": {
     "duration": 0.03409,
     "end_time": "2022-08-18T11:29:40.451213",
     "exception": false,
     "start_time": "2022-08-18T11:29:40.417123",
     "status": "completed"
    },
    "tags": []
   },
   "outputs": [
    {
     "data": {
      "application/javascript": [
       "parent.postMessage({\"jupyterEvent\": \"custom.exercise_interaction\", \"data\": {\"outcomeType\": 1, \"valueTowardsCompletion\": 0.16666666666666666, \"interactionType\": 1, \"questionType\": 1, \"questionId\": \"5_ReviewerMeanRatings\", \"learnToolsVersion\": \"0.3.4\", \"failureMessage\": \"\", \"exceptionClass\": \"\", \"trace\": \"\"}}, \"*\")"
      ],
      "text/plain": [
       "<IPython.core.display.Javascript object>"
      ]
     },
     "metadata": {},
     "output_type": "display_data"
    },
    {
     "data": {
      "text/markdown": [
       "<span style=\"color:#33cc33\">Correct</span>"
      ],
      "text/plain": [
       "Correct"
      ]
     },
     "metadata": {},
     "output_type": "display_data"
    }
   ],
   "source": [
    "reviewer_mean_ratings = reviews.groupby('taster_name').points.mean()                     \n",
    "\n",
    "# Check your answer\n",
    "q5.check()"
   ]
  },
  {
   "cell_type": "code",
   "execution_count": 12,
   "id": "82541b1e",
   "metadata": {
    "execution": {
     "iopub.execute_input": "2022-08-18T11:29:40.470042Z",
     "iopub.status.busy": "2022-08-18T11:29:40.469260Z",
     "iopub.status.idle": "2022-08-18T11:29:40.473927Z",
     "shell.execute_reply": "2022-08-18T11:29:40.473079Z"
    },
    "papermill": {
     "duration": 0.017014,
     "end_time": "2022-08-18T11:29:40.476274",
     "exception": false,
     "start_time": "2022-08-18T11:29:40.459260",
     "status": "completed"
    },
    "tags": []
   },
   "outputs": [],
   "source": [
    "#q5.hint()\n",
    "#q5.solution()"
   ]
  },
  {
   "cell_type": "markdown",
   "id": "132efe62",
   "metadata": {
    "papermill": {
     "duration": 0.007563,
     "end_time": "2022-08-18T11:29:40.491753",
     "exception": false,
     "start_time": "2022-08-18T11:29:40.484190",
     "status": "completed"
    },
    "tags": []
   },
   "source": [
    "Are there significant differences in the average scores assigned by the various reviewers? Run the cell below to use the `describe()` method to see a summary of the range of values."
   ]
  },
  {
   "cell_type": "code",
   "execution_count": 13,
   "id": "38d4da25",
   "metadata": {
    "execution": {
     "iopub.execute_input": "2022-08-18T11:29:40.509270Z",
     "iopub.status.busy": "2022-08-18T11:29:40.508845Z",
     "iopub.status.idle": "2022-08-18T11:29:40.520873Z",
     "shell.execute_reply": "2022-08-18T11:29:40.519802Z"
    },
    "papermill": {
     "duration": 0.023593,
     "end_time": "2022-08-18T11:29:40.523094",
     "exception": false,
     "start_time": "2022-08-18T11:29:40.499501",
     "status": "completed"
    },
    "tags": []
   },
   "outputs": [
    {
     "data": {
      "text/plain": [
       "count    19.000000\n",
       "mean     88.233026\n",
       "std       1.243610\n",
       "min      85.855422\n",
       "25%      87.323501\n",
       "50%      88.536235\n",
       "75%      88.975256\n",
       "max      90.562551\n",
       "Name: points, dtype: float64"
      ]
     },
     "execution_count": 13,
     "metadata": {},
     "output_type": "execute_result"
    }
   ],
   "source": [
    "reviewer_mean_ratings.describe()"
   ]
  },
  {
   "cell_type": "markdown",
   "id": "ad6b7363",
   "metadata": {
    "papermill": {
     "duration": 0.007749,
     "end_time": "2022-08-18T11:29:40.539239",
     "exception": false,
     "start_time": "2022-08-18T11:29:40.531490",
     "status": "completed"
    },
    "tags": []
   },
   "source": [
    "## 6.\n",
    "What combination of countries and varieties are most common? Create a `Series` whose index is a `MultiIndex`of `{country, variety}` pairs. For example, a pinot noir produced in the US should map to `{\"US\", \"Pinot Noir\"}`. Sort the values in the `Series` in descending order based on wine count."
   ]
  },
  {
   "cell_type": "code",
   "execution_count": 14,
   "id": "daa571fb",
   "metadata": {
    "execution": {
     "iopub.execute_input": "2022-08-18T11:29:40.557272Z",
     "iopub.status.busy": "2022-08-18T11:29:40.556851Z",
     "iopub.status.idle": "2022-08-18T11:29:40.596076Z",
     "shell.execute_reply": "2022-08-18T11:29:40.595299Z"
    },
    "papermill": {
     "duration": 0.050777,
     "end_time": "2022-08-18T11:29:40.598090",
     "exception": false,
     "start_time": "2022-08-18T11:29:40.547313",
     "status": "completed"
    },
    "tags": []
   },
   "outputs": [
    {
     "data": {
      "application/javascript": [
       "parent.postMessage({\"jupyterEvent\": \"custom.exercise_interaction\", \"data\": {\"outcomeType\": 1, \"valueTowardsCompletion\": 0.16666666666666666, \"interactionType\": 1, \"questionType\": 1, \"questionId\": \"6_GroupbyCountryVariety\", \"learnToolsVersion\": \"0.3.4\", \"failureMessage\": \"\", \"exceptionClass\": \"\", \"trace\": \"\"}}, \"*\")"
      ],
      "text/plain": [
       "<IPython.core.display.Javascript object>"
      ]
     },
     "metadata": {},
     "output_type": "display_data"
    },
    {
     "data": {
      "text/markdown": [
       "<span style=\"color:#33cc33\">Correct</span>"
      ],
      "text/plain": [
       "Correct"
      ]
     },
     "metadata": {},
     "output_type": "display_data"
    }
   ],
   "source": [
    "country_variety_counts =  reviews.groupby(['country', 'variety']).variety.count().sort_values(ascending=False)\n",
    "\n",
    "\n",
    "\n",
    "# Check your answer\n",
    "q6.check()"
   ]
  },
  {
   "cell_type": "code",
   "execution_count": 15,
   "id": "3a466a3c",
   "metadata": {
    "execution": {
     "iopub.execute_input": "2022-08-18T11:29:40.616787Z",
     "iopub.status.busy": "2022-08-18T11:29:40.616004Z",
     "iopub.status.idle": "2022-08-18T11:29:40.621039Z",
     "shell.execute_reply": "2022-08-18T11:29:40.619722Z"
    },
    "papermill": {
     "duration": 0.017012,
     "end_time": "2022-08-18T11:29:40.623429",
     "exception": false,
     "start_time": "2022-08-18T11:29:40.606417",
     "status": "completed"
    },
    "tags": []
   },
   "outputs": [],
   "source": [
    "#q6.hint()\n",
    "#q6.solution()"
   ]
  },
  {
   "cell_type": "markdown",
   "id": "92a9f1db",
   "metadata": {
    "papermill": {
     "duration": 0.007936,
     "end_time": "2022-08-18T11:29:40.639737",
     "exception": false,
     "start_time": "2022-08-18T11:29:40.631801",
     "status": "completed"
    },
    "tags": []
   },
   "source": [
    "# Keep going\n",
    "\n",
    "Move on to the [**data types and missing data**](https://www.kaggle.com/residentmario/data-types-and-missing-values)."
   ]
  },
  {
   "cell_type": "markdown",
   "id": "a9931245",
   "metadata": {
    "papermill": {
     "duration": 0.007973,
     "end_time": "2022-08-18T11:29:40.655907",
     "exception": false,
     "start_time": "2022-08-18T11:29:40.647934",
     "status": "completed"
    },
    "tags": []
   },
   "source": [
    "---\n",
    "\n",
    "\n",
    "\n",
    "\n",
    "*Have questions or comments? Visit the [course discussion forum](https://www.kaggle.com/learn/pandas/discussion) to chat with other learners.*"
   ]
  }
 ],
 "metadata": {
  "kernelspec": {
   "display_name": "Python 3",
   "language": "python",
   "name": "python3"
  },
  "language_info": {
   "codemirror_mode": {
    "name": "ipython",
    "version": 3
   },
   "file_extension": ".py",
   "mimetype": "text/x-python",
   "name": "python",
   "nbconvert_exporter": "python",
   "pygments_lexer": "ipython3",
   "version": "3.7.12"
  },
  "papermill": {
   "default_parameters": {},
   "duration": 13.770378,
   "end_time": "2022-08-18T11:29:41.387996",
   "environment_variables": {},
   "exception": null,
   "input_path": "__notebook__.ipynb",
   "output_path": "__notebook__.ipynb",
   "parameters": {},
   "start_time": "2022-08-18T11:29:27.617618",
   "version": "2.3.4"
  }
 },
 "nbformat": 4,
 "nbformat_minor": 5
}
