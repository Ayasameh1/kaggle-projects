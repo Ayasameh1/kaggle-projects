{
 "cells": [
  {
   "cell_type": "markdown",
   "id": "ab1df52d",
   "metadata": {
    "papermill": {
     "duration": 0.006728,
     "end_time": "2022-08-21T13:04:45.463605",
     "exception": false,
     "start_time": "2022-08-21T13:04:45.456877",
     "status": "completed"
    },
    "tags": []
   },
   "source": [
    "**This notebook is an exercise in the [Introduction to Machine Learning](https://www.kaggle.com/learn/intro-to-machine-learning) course.  You can reference the tutorial at [this link](https://www.kaggle.com/dansbecker/your-first-machine-learning-model).**\n",
    "\n",
    "---\n"
   ]
  },
  {
   "cell_type": "markdown",
   "id": "c3ada518",
   "metadata": {
    "papermill": {
     "duration": 0.005295,
     "end_time": "2022-08-21T13:04:45.474712",
     "exception": false,
     "start_time": "2022-08-21T13:04:45.469417",
     "status": "completed"
    },
    "tags": []
   },
   "source": [
    "## Recap\n",
    "So far, you have loaded your data and reviewed it with the following code. Run this cell to set up your coding environment where the previous step left off."
   ]
  },
  {
   "cell_type": "code",
   "execution_count": 1,
   "id": "69d3bab2",
   "metadata": {
    "execution": {
     "iopub.execute_input": "2022-08-21T13:04:45.488498Z",
     "iopub.status.busy": "2022-08-21T13:04:45.487708Z",
     "iopub.status.idle": "2022-08-21T13:04:46.916948Z",
     "shell.execute_reply": "2022-08-21T13:04:46.915691Z"
    },
    "papermill": {
     "duration": 1.439831,
     "end_time": "2022-08-21T13:04:46.920359",
     "exception": false,
     "start_time": "2022-08-21T13:04:45.480528",
     "status": "completed"
    },
    "tags": []
   },
   "outputs": [
    {
     "name": "stdout",
     "output_type": "stream",
     "text": [
      "Setup Complete\n"
     ]
    }
   ],
   "source": [
    "# Code you have previously used to load data\n",
    "import pandas as pd\n",
    "\n",
    "# Path of the file to read\n",
    "iowa_file_path = '../input/home-data-for-ml-course/train.csv'\n",
    "\n",
    "home_data = pd.read_csv(iowa_file_path)\n",
    "\n",
    "# Set up code checking\n",
    "from learntools.core import binder\n",
    "binder.bind(globals())\n",
    "from learntools.machine_learning.ex3 import *\n",
    "\n",
    "print(\"Setup Complete\")"
   ]
  },
  {
   "cell_type": "markdown",
   "id": "365bbd05",
   "metadata": {
    "papermill": {
     "duration": 0.005486,
     "end_time": "2022-08-21T13:04:46.932057",
     "exception": false,
     "start_time": "2022-08-21T13:04:46.926571",
     "status": "completed"
    },
    "tags": []
   },
   "source": [
    "# Exercises\n",
    "\n",
    "## Step 1: Specify Prediction Target\n",
    "Select the target variable, which corresponds to the sales price. Save this to a new variable called `y`. You'll need to print a list of the columns to find the name of the column you need.\n"
   ]
  },
  {
   "cell_type": "code",
   "execution_count": 2,
   "id": "83d87614",
   "metadata": {
    "execution": {
     "iopub.execute_input": "2022-08-21T13:04:46.945189Z",
     "iopub.status.busy": "2022-08-21T13:04:46.944768Z",
     "iopub.status.idle": "2022-08-21T13:04:46.949519Z",
     "shell.execute_reply": "2022-08-21T13:04:46.948592Z"
    },
    "papermill": {
     "duration": 0.013809,
     "end_time": "2022-08-21T13:04:46.951569",
     "exception": false,
     "start_time": "2022-08-21T13:04:46.937760",
     "status": "completed"
    },
    "tags": []
   },
   "outputs": [],
   "source": [
    "# print the list of columns in the dataset to find the name of the prediction target\n"
   ]
  },
  {
   "cell_type": "code",
   "execution_count": 3,
   "id": "99ba66ec",
   "metadata": {
    "execution": {
     "iopub.execute_input": "2022-08-21T13:04:46.964994Z",
     "iopub.status.busy": "2022-08-21T13:04:46.964567Z",
     "iopub.status.idle": "2022-08-21T13:04:46.973821Z",
     "shell.execute_reply": "2022-08-21T13:04:46.972871Z"
    },
    "papermill": {
     "duration": 0.018356,
     "end_time": "2022-08-21T13:04:46.975793",
     "exception": false,
     "start_time": "2022-08-21T13:04:46.957437",
     "status": "completed"
    },
    "tags": []
   },
   "outputs": [
    {
     "data": {
      "text/plain": [
       "Index(['Id', 'MSSubClass', 'MSZoning', 'LotFrontage', 'LotArea', 'Street',\n",
       "       'Alley', 'LotShape', 'LandContour', 'Utilities', 'LotConfig',\n",
       "       'LandSlope', 'Neighborhood', 'Condition1', 'Condition2', 'BldgType',\n",
       "       'HouseStyle', 'OverallQual', 'OverallCond', 'YearBuilt', 'YearRemodAdd',\n",
       "       'RoofStyle', 'RoofMatl', 'Exterior1st', 'Exterior2nd', 'MasVnrType',\n",
       "       'MasVnrArea', 'ExterQual', 'ExterCond', 'Foundation', 'BsmtQual',\n",
       "       'BsmtCond', 'BsmtExposure', 'BsmtFinType1', 'BsmtFinSF1',\n",
       "       'BsmtFinType2', 'BsmtFinSF2', 'BsmtUnfSF', 'TotalBsmtSF', 'Heating',\n",
       "       'HeatingQC', 'CentralAir', 'Electrical', '1stFlrSF', '2ndFlrSF',\n",
       "       'LowQualFinSF', 'GrLivArea', 'BsmtFullBath', 'BsmtHalfBath', 'FullBath',\n",
       "       'HalfBath', 'BedroomAbvGr', 'KitchenAbvGr', 'KitchenQual',\n",
       "       'TotRmsAbvGrd', 'Functional', 'Fireplaces', 'FireplaceQu', 'GarageType',\n",
       "       'GarageYrBlt', 'GarageFinish', 'GarageCars', 'GarageArea', 'GarageQual',\n",
       "       'GarageCond', 'PavedDrive', 'WoodDeckSF', 'OpenPorchSF',\n",
       "       'EnclosedPorch', '3SsnPorch', 'ScreenPorch', 'PoolArea', 'PoolQC',\n",
       "       'Fence', 'MiscFeature', 'MiscVal', 'MoSold', 'YrSold', 'SaleType',\n",
       "       'SaleCondition', 'SalePrice'],\n",
       "      dtype='object')"
      ]
     },
     "execution_count": 3,
     "metadata": {},
     "output_type": "execute_result"
    }
   ],
   "source": [
    "home_data.columns"
   ]
  },
  {
   "cell_type": "code",
   "execution_count": 4,
   "id": "83b6b3b4",
   "metadata": {
    "execution": {
     "iopub.execute_input": "2022-08-21T13:04:46.989949Z",
     "iopub.status.busy": "2022-08-21T13:04:46.989155Z",
     "iopub.status.idle": "2022-08-21T13:04:47.005275Z",
     "shell.execute_reply": "2022-08-21T13:04:47.004074Z"
    },
    "papermill": {
     "duration": 0.02583,
     "end_time": "2022-08-21T13:04:47.007558",
     "exception": false,
     "start_time": "2022-08-21T13:04:46.981728",
     "status": "completed"
    },
    "tags": []
   },
   "outputs": [
    {
     "data": {
      "application/javascript": [
       "parent.postMessage({\"jupyterEvent\": \"custom.exercise_interaction\", \"data\": {\"outcomeType\": 1, \"valueTowardsCompletion\": 0.25, \"interactionType\": 1, \"questionType\": 2, \"questionId\": \"1_SetTarget\", \"learnToolsVersion\": \"0.3.4\", \"failureMessage\": \"\", \"exceptionClass\": \"\", \"trace\": \"\"}}, \"*\")"
      ],
      "text/plain": [
       "<IPython.core.display.Javascript object>"
      ]
     },
     "metadata": {},
     "output_type": "display_data"
    },
    {
     "data": {
      "text/markdown": [
       "<span style=\"color:#33cc33\">Correct</span>"
      ],
      "text/plain": [
       "Correct"
      ]
     },
     "metadata": {},
     "output_type": "display_data"
    }
   ],
   "source": [
    "y = home_data.SalePrice\n",
    "\n",
    "# Check your answer\n",
    "step_1.check()"
   ]
  },
  {
   "cell_type": "code",
   "execution_count": 5,
   "id": "35ba4497",
   "metadata": {
    "execution": {
     "iopub.execute_input": "2022-08-21T13:04:47.021941Z",
     "iopub.status.busy": "2022-08-21T13:04:47.021189Z",
     "iopub.status.idle": "2022-08-21T13:04:47.025361Z",
     "shell.execute_reply": "2022-08-21T13:04:47.024252Z"
    },
    "papermill": {
     "duration": 0.013922,
     "end_time": "2022-08-21T13:04:47.027600",
     "exception": false,
     "start_time": "2022-08-21T13:04:47.013678",
     "status": "completed"
    },
    "tags": []
   },
   "outputs": [],
   "source": [
    "# The lines below will show you a hint or the solution.\n",
    "# step_1.hint() \n",
    "# step_1.solution()"
   ]
  },
  {
   "cell_type": "markdown",
   "id": "bbad8136",
   "metadata": {
    "papermill": {
     "duration": 0.005699,
     "end_time": "2022-08-21T13:04:47.039425",
     "exception": false,
     "start_time": "2022-08-21T13:04:47.033726",
     "status": "completed"
    },
    "tags": []
   },
   "source": [
    "## Step 2: Create X\n",
    "Now you will create a DataFrame called `X` holding the predictive features.\n",
    "\n",
    "Since you want only some columns from the original data, you'll first create a list with the names of the columns you want in `X`.\n",
    "\n",
    "You'll use just the following columns in the list (you can copy and paste the whole list to save some typing, though you'll still need to add quotes):\n",
    "  * LotArea\n",
    "  * YearBuilt\n",
    "  * 1stFlrSF\n",
    "  * 2ndFlrSF\n",
    "  * FullBath\n",
    "  * BedroomAbvGr\n",
    "  * TotRmsAbvGrd\n",
    "\n",
    "After you've created that list of features, use it to create the DataFrame that you'll use to fit the model."
   ]
  },
  {
   "cell_type": "code",
   "execution_count": 6,
   "id": "2f5f1c71",
   "metadata": {
    "execution": {
     "iopub.execute_input": "2022-08-21T13:04:47.053746Z",
     "iopub.status.busy": "2022-08-21T13:04:47.052915Z",
     "iopub.status.idle": "2022-08-21T13:04:47.058189Z",
     "shell.execute_reply": "2022-08-21T13:04:47.057015Z"
    },
    "papermill": {
     "duration": 0.015372,
     "end_time": "2022-08-21T13:04:47.060869",
     "exception": false,
     "start_time": "2022-08-21T13:04:47.045497",
     "status": "completed"
    },
    "tags": []
   },
   "outputs": [],
   "source": [
    "home_features=['LotArea','YearBuilt','1stFlrSF','2ndFlrSF','FullBath','BedroomAbvGr','TotRmsAbvGrd']"
   ]
  },
  {
   "cell_type": "code",
   "execution_count": 7,
   "id": "bf69a04c",
   "metadata": {
    "execution": {
     "iopub.execute_input": "2022-08-21T13:04:47.075845Z",
     "iopub.status.busy": "2022-08-21T13:04:47.074501Z",
     "iopub.status.idle": "2022-08-21T13:04:47.091155Z",
     "shell.execute_reply": "2022-08-21T13:04:47.090135Z"
    },
    "papermill": {
     "duration": 0.026515,
     "end_time": "2022-08-21T13:04:47.093538",
     "exception": false,
     "start_time": "2022-08-21T13:04:47.067023",
     "status": "completed"
    },
    "tags": []
   },
   "outputs": [
    {
     "data": {
      "application/javascript": [
       "parent.postMessage({\"jupyterEvent\": \"custom.exercise_interaction\", \"data\": {\"outcomeType\": 1, \"valueTowardsCompletion\": 0.25, \"interactionType\": 1, \"questionType\": 2, \"questionId\": \"2_SelectPredictionData\", \"learnToolsVersion\": \"0.3.4\", \"failureMessage\": \"\", \"exceptionClass\": \"\", \"trace\": \"\"}}, \"*\")"
      ],
      "text/plain": [
       "<IPython.core.display.Javascript object>"
      ]
     },
     "metadata": {},
     "output_type": "display_data"
    },
    {
     "data": {
      "text/markdown": [
       "<span style=\"color:#33cc33\">Correct</span>"
      ],
      "text/plain": [
       "Correct"
      ]
     },
     "metadata": {},
     "output_type": "display_data"
    }
   ],
   "source": [
    "# Create the list of features below\n",
    "feature_names =['LotArea','YearBuilt','1stFlrSF','2ndFlrSF','FullBath','BedroomAbvGr','TotRmsAbvGrd']\n",
    "\n",
    "# Select data corresponding to features in feature_names\n",
    "X = home_data[feature_names]\n",
    "\n",
    "# Check your answer\n",
    "step_2.check()"
   ]
  },
  {
   "cell_type": "code",
   "execution_count": 8,
   "id": "a1935907",
   "metadata": {
    "execution": {
     "iopub.execute_input": "2022-08-21T13:04:47.107836Z",
     "iopub.status.busy": "2022-08-21T13:04:47.107410Z",
     "iopub.status.idle": "2022-08-21T13:04:47.111952Z",
     "shell.execute_reply": "2022-08-21T13:04:47.110691Z"
    },
    "papermill": {
     "duration": 0.014517,
     "end_time": "2022-08-21T13:04:47.114344",
     "exception": false,
     "start_time": "2022-08-21T13:04:47.099827",
     "status": "completed"
    },
    "tags": []
   },
   "outputs": [],
   "source": [
    "# step_2.hint()\n",
    "# step_2.solution()"
   ]
  },
  {
   "cell_type": "markdown",
   "id": "11906175",
   "metadata": {
    "papermill": {
     "duration": 0.005945,
     "end_time": "2022-08-21T13:04:47.127059",
     "exception": false,
     "start_time": "2022-08-21T13:04:47.121114",
     "status": "completed"
    },
    "tags": []
   },
   "source": [
    "* ## Review Data\n",
    "Before building a model, take a quick look at **X** to verify it looks sensible"
   ]
  },
  {
   "cell_type": "code",
   "execution_count": 9,
   "id": "4fd800fd",
   "metadata": {
    "execution": {
     "iopub.execute_input": "2022-08-21T13:04:47.142503Z",
     "iopub.status.busy": "2022-08-21T13:04:47.141698Z",
     "iopub.status.idle": "2022-08-21T13:04:47.184089Z",
     "shell.execute_reply": "2022-08-21T13:04:47.182895Z"
    },
    "papermill": {
     "duration": 0.052393,
     "end_time": "2022-08-21T13:04:47.186502",
     "exception": false,
     "start_time": "2022-08-21T13:04:47.134109",
     "status": "completed"
    },
    "tags": []
   },
   "outputs": [
    {
     "data": {
      "text/html": [
       "<div>\n",
       "<style scoped>\n",
       "    .dataframe tbody tr th:only-of-type {\n",
       "        vertical-align: middle;\n",
       "    }\n",
       "\n",
       "    .dataframe tbody tr th {\n",
       "        vertical-align: top;\n",
       "    }\n",
       "\n",
       "    .dataframe thead th {\n",
       "        text-align: right;\n",
       "    }\n",
       "</style>\n",
       "<table border=\"1\" class=\"dataframe\">\n",
       "  <thead>\n",
       "    <tr style=\"text-align: right;\">\n",
       "      <th></th>\n",
       "      <th>LotArea</th>\n",
       "      <th>YearBuilt</th>\n",
       "      <th>1stFlrSF</th>\n",
       "      <th>2ndFlrSF</th>\n",
       "      <th>FullBath</th>\n",
       "      <th>BedroomAbvGr</th>\n",
       "      <th>TotRmsAbvGrd</th>\n",
       "    </tr>\n",
       "  </thead>\n",
       "  <tbody>\n",
       "    <tr>\n",
       "      <th>count</th>\n",
       "      <td>1460.000000</td>\n",
       "      <td>1460.000000</td>\n",
       "      <td>1460.000000</td>\n",
       "      <td>1460.000000</td>\n",
       "      <td>1460.000000</td>\n",
       "      <td>1460.000000</td>\n",
       "      <td>1460.000000</td>\n",
       "    </tr>\n",
       "    <tr>\n",
       "      <th>mean</th>\n",
       "      <td>10516.828082</td>\n",
       "      <td>1971.267808</td>\n",
       "      <td>1162.626712</td>\n",
       "      <td>346.992466</td>\n",
       "      <td>1.565068</td>\n",
       "      <td>2.866438</td>\n",
       "      <td>6.517808</td>\n",
       "    </tr>\n",
       "    <tr>\n",
       "      <th>std</th>\n",
       "      <td>9981.264932</td>\n",
       "      <td>30.202904</td>\n",
       "      <td>386.587738</td>\n",
       "      <td>436.528436</td>\n",
       "      <td>0.550916</td>\n",
       "      <td>0.815778</td>\n",
       "      <td>1.625393</td>\n",
       "    </tr>\n",
       "    <tr>\n",
       "      <th>min</th>\n",
       "      <td>1300.000000</td>\n",
       "      <td>1872.000000</td>\n",
       "      <td>334.000000</td>\n",
       "      <td>0.000000</td>\n",
       "      <td>0.000000</td>\n",
       "      <td>0.000000</td>\n",
       "      <td>2.000000</td>\n",
       "    </tr>\n",
       "    <tr>\n",
       "      <th>25%</th>\n",
       "      <td>7553.500000</td>\n",
       "      <td>1954.000000</td>\n",
       "      <td>882.000000</td>\n",
       "      <td>0.000000</td>\n",
       "      <td>1.000000</td>\n",
       "      <td>2.000000</td>\n",
       "      <td>5.000000</td>\n",
       "    </tr>\n",
       "    <tr>\n",
       "      <th>50%</th>\n",
       "      <td>9478.500000</td>\n",
       "      <td>1973.000000</td>\n",
       "      <td>1087.000000</td>\n",
       "      <td>0.000000</td>\n",
       "      <td>2.000000</td>\n",
       "      <td>3.000000</td>\n",
       "      <td>6.000000</td>\n",
       "    </tr>\n",
       "    <tr>\n",
       "      <th>75%</th>\n",
       "      <td>11601.500000</td>\n",
       "      <td>2000.000000</td>\n",
       "      <td>1391.250000</td>\n",
       "      <td>728.000000</td>\n",
       "      <td>2.000000</td>\n",
       "      <td>3.000000</td>\n",
       "      <td>7.000000</td>\n",
       "    </tr>\n",
       "    <tr>\n",
       "      <th>max</th>\n",
       "      <td>215245.000000</td>\n",
       "      <td>2010.000000</td>\n",
       "      <td>4692.000000</td>\n",
       "      <td>2065.000000</td>\n",
       "      <td>3.000000</td>\n",
       "      <td>8.000000</td>\n",
       "      <td>14.000000</td>\n",
       "    </tr>\n",
       "  </tbody>\n",
       "</table>\n",
       "</div>"
      ],
      "text/plain": [
       "             LotArea    YearBuilt     1stFlrSF     2ndFlrSF     FullBath  \\\n",
       "count    1460.000000  1460.000000  1460.000000  1460.000000  1460.000000   \n",
       "mean    10516.828082  1971.267808  1162.626712   346.992466     1.565068   \n",
       "std      9981.264932    30.202904   386.587738   436.528436     0.550916   \n",
       "min      1300.000000  1872.000000   334.000000     0.000000     0.000000   \n",
       "25%      7553.500000  1954.000000   882.000000     0.000000     1.000000   \n",
       "50%      9478.500000  1973.000000  1087.000000     0.000000     2.000000   \n",
       "75%     11601.500000  2000.000000  1391.250000   728.000000     2.000000   \n",
       "max    215245.000000  2010.000000  4692.000000  2065.000000     3.000000   \n",
       "\n",
       "       BedroomAbvGr  TotRmsAbvGrd  \n",
       "count   1460.000000   1460.000000  \n",
       "mean       2.866438      6.517808  \n",
       "std        0.815778      1.625393  \n",
       "min        0.000000      2.000000  \n",
       "25%        2.000000      5.000000  \n",
       "50%        3.000000      6.000000  \n",
       "75%        3.000000      7.000000  \n",
       "max        8.000000     14.000000  "
      ]
     },
     "execution_count": 9,
     "metadata": {},
     "output_type": "execute_result"
    }
   ],
   "source": [
    "# Review data\n",
    "# print description or statistics from X\n",
    "#print(_)\n",
    "X.describe()\n",
    "#X.head()\n",
    "# print the top few lines\n",
    "#print(_)"
   ]
  },
  {
   "cell_type": "markdown",
   "id": "effae111",
   "metadata": {
    "papermill": {
     "duration": 0.006143,
     "end_time": "2022-08-21T13:04:47.199131",
     "exception": false,
     "start_time": "2022-08-21T13:04:47.192988",
     "status": "completed"
    },
    "tags": []
   },
   "source": [
    "## Step 3: Specify and Fit Model\n",
    "Create a `DecisionTreeRegressor` and save it iowa_model. Ensure you've done the relevant import from sklearn to run this command.\n",
    "\n",
    "Then fit the model you just created using the data in `X` and `y` that you saved above."
   ]
  },
  {
   "cell_type": "code",
   "execution_count": 10,
   "id": "5aca94fa",
   "metadata": {
    "execution": {
     "iopub.execute_input": "2022-08-21T13:04:47.214147Z",
     "iopub.status.busy": "2022-08-21T13:04:47.213377Z",
     "iopub.status.idle": "2022-08-21T13:04:47.234546Z",
     "shell.execute_reply": "2022-08-21T13:04:47.233565Z"
    },
    "papermill": {
     "duration": 0.031434,
     "end_time": "2022-08-21T13:04:47.236908",
     "exception": false,
     "start_time": "2022-08-21T13:04:47.205474",
     "status": "completed"
    },
    "tags": []
   },
   "outputs": [
    {
     "data": {
      "application/javascript": [
       "parent.postMessage({\"jupyterEvent\": \"custom.exercise_interaction\", \"data\": {\"outcomeType\": 1, \"valueTowardsCompletion\": 0.25, \"interactionType\": 1, \"questionType\": 2, \"questionId\": \"3_CreateModel\", \"learnToolsVersion\": \"0.3.4\", \"failureMessage\": \"\", \"exceptionClass\": \"\", \"trace\": \"\"}}, \"*\")"
      ],
      "text/plain": [
       "<IPython.core.display.Javascript object>"
      ]
     },
     "metadata": {},
     "output_type": "display_data"
    },
    {
     "data": {
      "text/markdown": [
       "<span style=\"color:#33cc33\">Correct</span>"
      ],
      "text/plain": [
       "Correct"
      ]
     },
     "metadata": {},
     "output_type": "display_data"
    }
   ],
   "source": [
    "# from _ import _\n",
    "from sklearn.tree import DecisionTreeRegressor\n",
    "#specify the model. \n",
    "#For model reproducibility, set a numeric value for random_state when specifying the model\n",
    "iowa_model = DecisionTreeRegressor(random_state=1)\n",
    "\n",
    "# Fit the model\n",
    "iowa_model.fit(X, y)\n",
    "\n",
    "# Check your answer\n",
    "step_3.check()"
   ]
  },
  {
   "cell_type": "code",
   "execution_count": 11,
   "id": "c0924118",
   "metadata": {
    "execution": {
     "iopub.execute_input": "2022-08-21T13:04:47.252027Z",
     "iopub.status.busy": "2022-08-21T13:04:47.251615Z",
     "iopub.status.idle": "2022-08-21T13:04:47.255759Z",
     "shell.execute_reply": "2022-08-21T13:04:47.254604Z"
    },
    "papermill": {
     "duration": 0.014572,
     "end_time": "2022-08-21T13:04:47.258078",
     "exception": false,
     "start_time": "2022-08-21T13:04:47.243506",
     "status": "completed"
    },
    "tags": []
   },
   "outputs": [],
   "source": [
    "# step_3.hint()\n",
    "# step_3.solution()"
   ]
  },
  {
   "cell_type": "markdown",
   "id": "00499f71",
   "metadata": {
    "papermill": {
     "duration": 0.006465,
     "end_time": "2022-08-21T13:04:47.271181",
     "exception": false,
     "start_time": "2022-08-21T13:04:47.264716",
     "status": "completed"
    },
    "tags": []
   },
   "source": [
    "## Step 4: Make Predictions\n",
    "Make predictions with the model's `predict` command using `X` as the data. Save the results to a variable called `predictions`."
   ]
  },
  {
   "cell_type": "code",
   "execution_count": 12,
   "id": "6b7c1ac2",
   "metadata": {
    "execution": {
     "iopub.execute_input": "2022-08-21T13:04:47.286721Z",
     "iopub.status.busy": "2022-08-21T13:04:47.285972Z",
     "iopub.status.idle": "2022-08-21T13:04:47.300015Z",
     "shell.execute_reply": "2022-08-21T13:04:47.299116Z"
    },
    "papermill": {
     "duration": 0.024465,
     "end_time": "2022-08-21T13:04:47.302280",
     "exception": false,
     "start_time": "2022-08-21T13:04:47.277815",
     "status": "completed"
    },
    "tags": []
   },
   "outputs": [
    {
     "name": "stdout",
     "output_type": "stream",
     "text": [
      "[208500. 181500. 223500. ... 266500. 142125. 147500.]\n"
     ]
    },
    {
     "data": {
      "application/javascript": [
       "parent.postMessage({\"jupyterEvent\": \"custom.exercise_interaction\", \"data\": {\"outcomeType\": 1, \"valueTowardsCompletion\": 0.25, \"interactionType\": 1, \"questionType\": 2, \"questionId\": \"4_MakePredictions\", \"learnToolsVersion\": \"0.3.4\", \"failureMessage\": \"\", \"exceptionClass\": \"\", \"trace\": \"\"}}, \"*\")"
      ],
      "text/plain": [
       "<IPython.core.display.Javascript object>"
      ]
     },
     "metadata": {},
     "output_type": "display_data"
    },
    {
     "data": {
      "text/markdown": [
       "<span style=\"color:#33cc33\">Correct</span>"
      ],
      "text/plain": [
       "Correct"
      ]
     },
     "metadata": {},
     "output_type": "display_data"
    }
   ],
   "source": [
    "#X.head()\n",
    "predictions = iowa_model.predict(X)\n",
    "print (predictions)\n",
    "step_4.check()"
   ]
  },
  {
   "cell_type": "code",
   "execution_count": 13,
   "id": "4a8660f5",
   "metadata": {
    "execution": {
     "iopub.execute_input": "2022-08-21T13:04:47.319130Z",
     "iopub.status.busy": "2022-08-21T13:04:47.318299Z",
     "iopub.status.idle": "2022-08-21T13:04:47.323087Z",
     "shell.execute_reply": "2022-08-21T13:04:47.322165Z"
    },
    "papermill": {
     "duration": 0.016158,
     "end_time": "2022-08-21T13:04:47.325491",
     "exception": false,
     "start_time": "2022-08-21T13:04:47.309333",
     "status": "completed"
    },
    "tags": []
   },
   "outputs": [],
   "source": [
    "# step_4.hint()\n",
    "# step_4.solution()"
   ]
  },
  {
   "cell_type": "markdown",
   "id": "badd5541",
   "metadata": {
    "papermill": {
     "duration": 0.006691,
     "end_time": "2022-08-21T13:04:47.339298",
     "exception": false,
     "start_time": "2022-08-21T13:04:47.332607",
     "status": "completed"
    },
    "tags": []
   },
   "source": [
    "## Think About Your Results\n",
    "\n",
    "Use the `head` method to compare the top few predictions to the actual home values (in `y`) for those same homes. Anything surprising?\n"
   ]
  },
  {
   "cell_type": "code",
   "execution_count": 14,
   "id": "921d2ae1",
   "metadata": {
    "execution": {
     "iopub.execute_input": "2022-08-21T13:04:47.355655Z",
     "iopub.status.busy": "2022-08-21T13:04:47.354862Z",
     "iopub.status.idle": "2022-08-21T13:04:47.359875Z",
     "shell.execute_reply": "2022-08-21T13:04:47.358906Z"
    },
    "papermill": {
     "duration": 0.01621,
     "end_time": "2022-08-21T13:04:47.362507",
     "exception": false,
     "start_time": "2022-08-21T13:04:47.346297",
     "status": "completed"
    },
    "tags": []
   },
   "outputs": [],
   "source": [
    "# You can write code in this cell\n"
   ]
  },
  {
   "cell_type": "markdown",
   "id": "7ec1755a",
   "metadata": {
    "papermill": {
     "duration": 0.006693,
     "end_time": "2022-08-21T13:04:47.376321",
     "exception": false,
     "start_time": "2022-08-21T13:04:47.369628",
     "status": "completed"
    },
    "tags": []
   },
   "source": [
    "It's natural to ask how accurate the model's predictions will be and how you can improve that. That will be you're next step.\n",
    "\n",
    "# Keep Going\n",
    "\n",
    "You are ready for **[Model Validation](https://www.kaggle.com/dansbecker/model-validation).**\n"
   ]
  },
  {
   "cell_type": "markdown",
   "id": "b35af955",
   "metadata": {
    "papermill": {
     "duration": 0.006815,
     "end_time": "2022-08-21T13:04:47.390088",
     "exception": false,
     "start_time": "2022-08-21T13:04:47.383273",
     "status": "completed"
    },
    "tags": []
   },
   "source": [
    "---\n",
    "\n",
    "\n",
    "\n",
    "\n",
    "*Have questions or comments? Visit the [course discussion forum](https://www.kaggle.com/learn/intro-to-machine-learning/discussion) to chat with other learners.*"
   ]
  }
 ],
 "metadata": {
  "kernelspec": {
   "display_name": "Python 3",
   "language": "python",
   "name": "python3"
  },
  "language_info": {
   "codemirror_mode": {
    "name": "ipython",
    "version": 3
   },
   "file_extension": ".py",
   "mimetype": "text/x-python",
   "name": "python",
   "nbconvert_exporter": "python",
   "pygments_lexer": "ipython3",
   "version": "3.7.12"
  },
  "papermill": {
   "default_parameters": {},
   "duration": 12.201826,
   "end_time": "2022-08-21T13:04:48.118880",
   "environment_variables": {},
   "exception": null,
   "input_path": "__notebook__.ipynb",
   "output_path": "__notebook__.ipynb",
   "parameters": {},
   "start_time": "2022-08-21T13:04:35.917054",
   "version": "2.3.4"
  }
 },
 "nbformat": 4,
 "nbformat_minor": 5
}
