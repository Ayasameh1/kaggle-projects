{
 "cells": [
  {
   "cell_type": "markdown",
   "id": "0c2942dd",
   "metadata": {
    "papermill": {
     "duration": 0.006864,
     "end_time": "2022-08-18T11:30:22.889831",
     "exception": false,
     "start_time": "2022-08-18T11:30:22.882967",
     "status": "completed"
    },
    "tags": []
   },
   "source": [
    "**This notebook is an exercise in the [Pandas](https://www.kaggle.com/learn/pandas) course.  You can reference the tutorial at [this link](https://www.kaggle.com/residentmario/renaming-and-combining).**\n",
    "\n",
    "---\n"
   ]
  },
  {
   "cell_type": "markdown",
   "id": "69b2d5b7",
   "metadata": {
    "papermill": {
     "duration": 0.004997,
     "end_time": "2022-08-18T11:30:22.900584",
     "exception": false,
     "start_time": "2022-08-18T11:30:22.895587",
     "status": "completed"
    },
    "tags": []
   },
   "source": [
    "# Introduction\n",
    "\n",
    "Run the following cell to load your data and some utility functions."
   ]
  },
  {
   "cell_type": "code",
   "execution_count": 1,
   "id": "e1cdbd98",
   "metadata": {
    "execution": {
     "iopub.execute_input": "2022-08-18T11:30:22.914098Z",
     "iopub.status.busy": "2022-08-18T11:30:22.913401Z",
     "iopub.status.idle": "2022-08-18T11:30:27.519652Z",
     "shell.execute_reply": "2022-08-18T11:30:27.518396Z"
    },
    "papermill": {
     "duration": 4.616892,
     "end_time": "2022-08-18T11:30:27.522792",
     "exception": false,
     "start_time": "2022-08-18T11:30:22.905900",
     "status": "completed"
    },
    "tags": []
   },
   "outputs": [
    {
     "name": "stdout",
     "output_type": "stream",
     "text": [
      "Setup complete.\n"
     ]
    }
   ],
   "source": [
    "import pandas as pd\n",
    "\n",
    "reviews = pd.read_csv(\"../input/wine-reviews/winemag-data-130k-v2.csv\", index_col=0)\n",
    "\n",
    "from learntools.core import binder; binder.bind(globals())\n",
    "from learntools.pandas.renaming_and_combining import *\n",
    "print(\"Setup complete.\")"
   ]
  },
  {
   "cell_type": "markdown",
   "id": "cb3a015c",
   "metadata": {
    "papermill": {
     "duration": 0.005375,
     "end_time": "2022-08-18T11:30:27.534131",
     "exception": false,
     "start_time": "2022-08-18T11:30:27.528756",
     "status": "completed"
    },
    "tags": []
   },
   "source": [
    "# Exercises\n",
    "\n",
    "View the first several lines of your data by running the cell below:"
   ]
  },
  {
   "cell_type": "code",
   "execution_count": 2,
   "id": "c06c0939",
   "metadata": {
    "execution": {
     "iopub.execute_input": "2022-08-18T11:30:27.547184Z",
     "iopub.status.busy": "2022-08-18T11:30:27.546733Z",
     "iopub.status.idle": "2022-08-18T11:30:27.573216Z",
     "shell.execute_reply": "2022-08-18T11:30:27.571787Z"
    },
    "papermill": {
     "duration": 0.036114,
     "end_time": "2022-08-18T11:30:27.575874",
     "exception": false,
     "start_time": "2022-08-18T11:30:27.539760",
     "status": "completed"
    },
    "tags": []
   },
   "outputs": [
    {
     "data": {
      "text/html": [
       "<div>\n",
       "<style scoped>\n",
       "    .dataframe tbody tr th:only-of-type {\n",
       "        vertical-align: middle;\n",
       "    }\n",
       "\n",
       "    .dataframe tbody tr th {\n",
       "        vertical-align: top;\n",
       "    }\n",
       "\n",
       "    .dataframe thead th {\n",
       "        text-align: right;\n",
       "    }\n",
       "</style>\n",
       "<table border=\"1\" class=\"dataframe\">\n",
       "  <thead>\n",
       "    <tr style=\"text-align: right;\">\n",
       "      <th></th>\n",
       "      <th>country</th>\n",
       "      <th>description</th>\n",
       "      <th>designation</th>\n",
       "      <th>points</th>\n",
       "      <th>price</th>\n",
       "      <th>province</th>\n",
       "      <th>region_1</th>\n",
       "      <th>region_2</th>\n",
       "      <th>taster_name</th>\n",
       "      <th>taster_twitter_handle</th>\n",
       "      <th>title</th>\n",
       "      <th>variety</th>\n",
       "      <th>winery</th>\n",
       "    </tr>\n",
       "  </thead>\n",
       "  <tbody>\n",
       "    <tr>\n",
       "      <th>0</th>\n",
       "      <td>Italy</td>\n",
       "      <td>Aromas include tropical fruit, broom, brimston...</td>\n",
       "      <td>Vulkà Bianco</td>\n",
       "      <td>87</td>\n",
       "      <td>NaN</td>\n",
       "      <td>Sicily &amp; Sardinia</td>\n",
       "      <td>Etna</td>\n",
       "      <td>NaN</td>\n",
       "      <td>Kerin O’Keefe</td>\n",
       "      <td>@kerinokeefe</td>\n",
       "      <td>Nicosia 2013 Vulkà Bianco  (Etna)</td>\n",
       "      <td>White Blend</td>\n",
       "      <td>Nicosia</td>\n",
       "    </tr>\n",
       "    <tr>\n",
       "      <th>1</th>\n",
       "      <td>Portugal</td>\n",
       "      <td>This is ripe and fruity, a wine that is smooth...</td>\n",
       "      <td>Avidagos</td>\n",
       "      <td>87</td>\n",
       "      <td>15.0</td>\n",
       "      <td>Douro</td>\n",
       "      <td>NaN</td>\n",
       "      <td>NaN</td>\n",
       "      <td>Roger Voss</td>\n",
       "      <td>@vossroger</td>\n",
       "      <td>Quinta dos Avidagos 2011 Avidagos Red (Douro)</td>\n",
       "      <td>Portuguese Red</td>\n",
       "      <td>Quinta dos Avidagos</td>\n",
       "    </tr>\n",
       "    <tr>\n",
       "      <th>2</th>\n",
       "      <td>US</td>\n",
       "      <td>Tart and snappy, the flavors of lime flesh and...</td>\n",
       "      <td>NaN</td>\n",
       "      <td>87</td>\n",
       "      <td>14.0</td>\n",
       "      <td>Oregon</td>\n",
       "      <td>Willamette Valley</td>\n",
       "      <td>Willamette Valley</td>\n",
       "      <td>Paul Gregutt</td>\n",
       "      <td>@paulgwine</td>\n",
       "      <td>Rainstorm 2013 Pinot Gris (Willamette Valley)</td>\n",
       "      <td>Pinot Gris</td>\n",
       "      <td>Rainstorm</td>\n",
       "    </tr>\n",
       "    <tr>\n",
       "      <th>3</th>\n",
       "      <td>US</td>\n",
       "      <td>Pineapple rind, lemon pith and orange blossom ...</td>\n",
       "      <td>Reserve Late Harvest</td>\n",
       "      <td>87</td>\n",
       "      <td>13.0</td>\n",
       "      <td>Michigan</td>\n",
       "      <td>Lake Michigan Shore</td>\n",
       "      <td>NaN</td>\n",
       "      <td>Alexander Peartree</td>\n",
       "      <td>NaN</td>\n",
       "      <td>St. Julian 2013 Reserve Late Harvest Riesling ...</td>\n",
       "      <td>Riesling</td>\n",
       "      <td>St. Julian</td>\n",
       "    </tr>\n",
       "    <tr>\n",
       "      <th>4</th>\n",
       "      <td>US</td>\n",
       "      <td>Much like the regular bottling from 2012, this...</td>\n",
       "      <td>Vintner's Reserve Wild Child Block</td>\n",
       "      <td>87</td>\n",
       "      <td>65.0</td>\n",
       "      <td>Oregon</td>\n",
       "      <td>Willamette Valley</td>\n",
       "      <td>Willamette Valley</td>\n",
       "      <td>Paul Gregutt</td>\n",
       "      <td>@paulgwine</td>\n",
       "      <td>Sweet Cheeks 2012 Vintner's Reserve Wild Child...</td>\n",
       "      <td>Pinot Noir</td>\n",
       "      <td>Sweet Cheeks</td>\n",
       "    </tr>\n",
       "  </tbody>\n",
       "</table>\n",
       "</div>"
      ],
      "text/plain": [
       "    country                                        description  \\\n",
       "0     Italy  Aromas include tropical fruit, broom, brimston...   \n",
       "1  Portugal  This is ripe and fruity, a wine that is smooth...   \n",
       "2        US  Tart and snappy, the flavors of lime flesh and...   \n",
       "3        US  Pineapple rind, lemon pith and orange blossom ...   \n",
       "4        US  Much like the regular bottling from 2012, this...   \n",
       "\n",
       "                          designation  points  price           province  \\\n",
       "0                        Vulkà Bianco      87    NaN  Sicily & Sardinia   \n",
       "1                            Avidagos      87   15.0              Douro   \n",
       "2                                 NaN      87   14.0             Oregon   \n",
       "3                Reserve Late Harvest      87   13.0           Michigan   \n",
       "4  Vintner's Reserve Wild Child Block      87   65.0             Oregon   \n",
       "\n",
       "              region_1           region_2         taster_name  \\\n",
       "0                 Etna                NaN       Kerin O’Keefe   \n",
       "1                  NaN                NaN          Roger Voss   \n",
       "2    Willamette Valley  Willamette Valley        Paul Gregutt   \n",
       "3  Lake Michigan Shore                NaN  Alexander Peartree   \n",
       "4    Willamette Valley  Willamette Valley        Paul Gregutt   \n",
       "\n",
       "  taster_twitter_handle                                              title  \\\n",
       "0          @kerinokeefe                  Nicosia 2013 Vulkà Bianco  (Etna)   \n",
       "1            @vossroger      Quinta dos Avidagos 2011 Avidagos Red (Douro)   \n",
       "2           @paulgwine       Rainstorm 2013 Pinot Gris (Willamette Valley)   \n",
       "3                   NaN  St. Julian 2013 Reserve Late Harvest Riesling ...   \n",
       "4           @paulgwine   Sweet Cheeks 2012 Vintner's Reserve Wild Child...   \n",
       "\n",
       "          variety               winery  \n",
       "0     White Blend              Nicosia  \n",
       "1  Portuguese Red  Quinta dos Avidagos  \n",
       "2      Pinot Gris            Rainstorm  \n",
       "3        Riesling           St. Julian  \n",
       "4      Pinot Noir         Sweet Cheeks  "
      ]
     },
     "execution_count": 2,
     "metadata": {},
     "output_type": "execute_result"
    }
   ],
   "source": [
    "reviews.head()"
   ]
  },
  {
   "cell_type": "markdown",
   "id": "1421fd29",
   "metadata": {
    "papermill": {
     "duration": 0.005525,
     "end_time": "2022-08-18T11:30:27.587439",
     "exception": false,
     "start_time": "2022-08-18T11:30:27.581914",
     "status": "completed"
    },
    "tags": []
   },
   "source": [
    "## 1.\n",
    "`region_1` and `region_2` are pretty uninformative names for locale columns in the dataset. Create a copy of `reviews` with these columns renamed to `region` and `locale`, respectively."
   ]
  },
  {
   "cell_type": "code",
   "execution_count": 3,
   "id": "0b190bc1",
   "metadata": {
    "execution": {
     "iopub.execute_input": "2022-08-18T11:30:27.601142Z",
     "iopub.status.busy": "2022-08-18T11:30:27.600117Z",
     "iopub.status.idle": "2022-08-18T11:30:27.641505Z",
     "shell.execute_reply": "2022-08-18T11:30:27.639914Z"
    },
    "papermill": {
     "duration": 0.051357,
     "end_time": "2022-08-18T11:30:27.644505",
     "exception": false,
     "start_time": "2022-08-18T11:30:27.593148",
     "status": "completed"
    },
    "tags": []
   },
   "outputs": [
    {
     "data": {
      "application/javascript": [
       "parent.postMessage({\"jupyterEvent\": \"custom.exercise_interaction\", \"data\": {\"outcomeType\": 1, \"valueTowardsCompletion\": 0.25, \"interactionType\": 1, \"questionType\": 1, \"questionId\": \"1_RenameCols\", \"learnToolsVersion\": \"0.3.4\", \"failureMessage\": \"\", \"exceptionClass\": \"\", \"trace\": \"\"}}, \"*\")"
      ],
      "text/plain": [
       "<IPython.core.display.Javascript object>"
      ]
     },
     "metadata": {},
     "output_type": "display_data"
    },
    {
     "data": {
      "text/markdown": [
       "<span style=\"color:#33cc33\">Correct</span>"
      ],
      "text/plain": [
       "Correct"
      ]
     },
     "metadata": {},
     "output_type": "display_data"
    }
   ],
   "source": [
    "# Your code here\n",
    "renamed = reviews.rename(columns={'region_1': 'region','region_2': 'locale'})\n",
    "\n",
    "# Check your answer\n",
    "q1.check()"
   ]
  },
  {
   "cell_type": "code",
   "execution_count": 4,
   "id": "f740954e",
   "metadata": {
    "execution": {
     "iopub.execute_input": "2022-08-18T11:30:27.659878Z",
     "iopub.status.busy": "2022-08-18T11:30:27.659462Z",
     "iopub.status.idle": "2022-08-18T11:30:27.664318Z",
     "shell.execute_reply": "2022-08-18T11:30:27.663396Z"
    },
    "papermill": {
     "duration": 0.015706,
     "end_time": "2022-08-18T11:30:27.666784",
     "exception": false,
     "start_time": "2022-08-18T11:30:27.651078",
     "status": "completed"
    },
    "tags": []
   },
   "outputs": [],
   "source": [
    "#q1.hint()\n",
    "#q1.solution()"
   ]
  },
  {
   "cell_type": "markdown",
   "id": "c260282b",
   "metadata": {
    "papermill": {
     "duration": 0.005871,
     "end_time": "2022-08-18T11:30:27.678995",
     "exception": false,
     "start_time": "2022-08-18T11:30:27.673124",
     "status": "completed"
    },
    "tags": []
   },
   "source": [
    "## 2.\n",
    "Set the index name in the dataset to `wines`."
   ]
  },
  {
   "cell_type": "code",
   "execution_count": 5,
   "id": "fbd34e8e",
   "metadata": {
    "execution": {
     "iopub.execute_input": "2022-08-18T11:30:27.693550Z",
     "iopub.status.busy": "2022-08-18T11:30:27.693003Z",
     "iopub.status.idle": "2022-08-18T11:30:27.735970Z",
     "shell.execute_reply": "2022-08-18T11:30:27.734868Z"
    },
    "papermill": {
     "duration": 0.053075,
     "end_time": "2022-08-18T11:30:27.738412",
     "exception": false,
     "start_time": "2022-08-18T11:30:27.685337",
     "status": "completed"
    },
    "tags": []
   },
   "outputs": [
    {
     "data": {
      "application/javascript": [
       "parent.postMessage({\"jupyterEvent\": \"custom.exercise_interaction\", \"data\": {\"outcomeType\": 1, \"valueTowardsCompletion\": 0.25, \"interactionType\": 1, \"questionType\": 1, \"questionId\": \"2_RenameIndex\", \"learnToolsVersion\": \"0.3.4\", \"failureMessage\": \"\", \"exceptionClass\": \"\", \"trace\": \"\"}}, \"*\")"
      ],
      "text/plain": [
       "<IPython.core.display.Javascript object>"
      ]
     },
     "metadata": {},
     "output_type": "display_data"
    },
    {
     "data": {
      "text/markdown": [
       "<span style=\"color:#33cc33\">Correct</span>"
      ],
      "text/plain": [
       "Correct"
      ]
     },
     "metadata": {},
     "output_type": "display_data"
    }
   ],
   "source": [
    "#reindexed =reviews.rename(index='wines')\n",
    "reindexed=reviews.rename_axis(\"wines\", axis='rows')\n",
    "# Check your answer\n",
    "q2.check()"
   ]
  },
  {
   "cell_type": "code",
   "execution_count": 6,
   "id": "9b66eff2",
   "metadata": {
    "execution": {
     "iopub.execute_input": "2022-08-18T11:30:27.755120Z",
     "iopub.status.busy": "2022-08-18T11:30:27.754052Z",
     "iopub.status.idle": "2022-08-18T11:30:27.759849Z",
     "shell.execute_reply": "2022-08-18T11:30:27.758731Z"
    },
    "papermill": {
     "duration": 0.017306,
     "end_time": "2022-08-18T11:30:27.763024",
     "exception": false,
     "start_time": "2022-08-18T11:30:27.745718",
     "status": "completed"
    },
    "tags": []
   },
   "outputs": [],
   "source": [
    "#q2.hint()\n",
    "#q2.solution()"
   ]
  },
  {
   "cell_type": "markdown",
   "id": "e03bad10",
   "metadata": {
    "papermill": {
     "duration": 0.006052,
     "end_time": "2022-08-18T11:30:27.775671",
     "exception": false,
     "start_time": "2022-08-18T11:30:27.769619",
     "status": "completed"
    },
    "tags": []
   },
   "source": [
    "## 3.\n",
    "The [Things on Reddit](https://www.kaggle.com/residentmario/things-on-reddit/data) dataset includes product links from a selection of top-ranked forums (\"subreddits\") on reddit.com. Run the cell below to load a dataframe of products mentioned on the */r/gaming* subreddit and another dataframe for products mentioned on the *r//movies* subreddit."
   ]
  },
  {
   "cell_type": "code",
   "execution_count": 7,
   "id": "798cc170",
   "metadata": {
    "execution": {
     "iopub.execute_input": "2022-08-18T11:30:27.791045Z",
     "iopub.status.busy": "2022-08-18T11:30:27.790025Z",
     "iopub.status.idle": "2022-08-18T11:30:27.807676Z",
     "shell.execute_reply": "2022-08-18T11:30:27.806753Z"
    },
    "papermill": {
     "duration": 0.02885,
     "end_time": "2022-08-18T11:30:27.810774",
     "exception": false,
     "start_time": "2022-08-18T11:30:27.781924",
     "status": "completed"
    },
    "tags": []
   },
   "outputs": [],
   "source": [
    "gaming_products = pd.read_csv(\"../input/things-on-reddit/top-things/top-things/reddits/g/gaming.csv\")\n",
    "gaming_products['subreddit'] = \"r/gaming\"\n",
    "movie_products = pd.read_csv(\"../input/things-on-reddit/top-things/top-things/reddits/m/movies.csv\")\n",
    "movie_products['subreddit'] = \"r/movies\""
   ]
  },
  {
   "cell_type": "markdown",
   "id": "08ddce96",
   "metadata": {
    "papermill": {
     "duration": 0.005971,
     "end_time": "2022-08-18T11:30:27.824571",
     "exception": false,
     "start_time": "2022-08-18T11:30:27.818600",
     "status": "completed"
    },
    "tags": []
   },
   "source": [
    "Create a `DataFrame` of products mentioned on *either* subreddit."
   ]
  },
  {
   "cell_type": "code",
   "execution_count": 8,
   "id": "dc5be1aa",
   "metadata": {
    "execution": {
     "iopub.execute_input": "2022-08-18T11:30:27.839696Z",
     "iopub.status.busy": "2022-08-18T11:30:27.838984Z",
     "iopub.status.idle": "2022-08-18T11:30:27.854858Z",
     "shell.execute_reply": "2022-08-18T11:30:27.853936Z"
    },
    "papermill": {
     "duration": 0.026269,
     "end_time": "2022-08-18T11:30:27.857207",
     "exception": false,
     "start_time": "2022-08-18T11:30:27.830938",
     "status": "completed"
    },
    "tags": []
   },
   "outputs": [
    {
     "data": {
      "application/javascript": [
       "parent.postMessage({\"jupyterEvent\": \"custom.exercise_interaction\", \"data\": {\"outcomeType\": 1, \"valueTowardsCompletion\": 0.25, \"interactionType\": 1, \"questionType\": 2, \"questionId\": \"3_ConcatReddit\", \"learnToolsVersion\": \"0.3.4\", \"failureMessage\": \"\", \"exceptionClass\": \"\", \"trace\": \"\"}}, \"*\")"
      ],
      "text/plain": [
       "<IPython.core.display.Javascript object>"
      ]
     },
     "metadata": {},
     "output_type": "display_data"
    },
    {
     "data": {
      "text/markdown": [
       "<span style=\"color:#33cc33\">Correct</span>"
      ],
      "text/plain": [
       "Correct"
      ]
     },
     "metadata": {},
     "output_type": "display_data"
    }
   ],
   "source": [
    "combined_products = pd.concat([gaming_products, movie_products])\n",
    "\n",
    "# Check your answer\n",
    "q3.check()"
   ]
  },
  {
   "cell_type": "code",
   "execution_count": 9,
   "id": "9e53ab3b",
   "metadata": {
    "execution": {
     "iopub.execute_input": "2022-08-18T11:30:27.872830Z",
     "iopub.status.busy": "2022-08-18T11:30:27.872337Z",
     "iopub.status.idle": "2022-08-18T11:30:27.877891Z",
     "shell.execute_reply": "2022-08-18T11:30:27.876833Z"
    },
    "papermill": {
     "duration": 0.016214,
     "end_time": "2022-08-18T11:30:27.880202",
     "exception": false,
     "start_time": "2022-08-18T11:30:27.863988",
     "status": "completed"
    },
    "tags": []
   },
   "outputs": [],
   "source": [
    "#q3.hint()\n",
    "#q3.solution()"
   ]
  },
  {
   "cell_type": "markdown",
   "id": "1a755eff",
   "metadata": {
    "papermill": {
     "duration": 0.006445,
     "end_time": "2022-08-18T11:30:27.893415",
     "exception": false,
     "start_time": "2022-08-18T11:30:27.886970",
     "status": "completed"
    },
    "tags": []
   },
   "source": [
    "## 4.\n",
    "The [Powerlifting Database](https://www.kaggle.com/open-powerlifting/powerlifting-database) dataset on Kaggle includes one CSV table for powerlifting meets and a separate one for powerlifting competitors. Run the cell below to load these datasets into dataframes:"
   ]
  },
  {
   "cell_type": "code",
   "execution_count": 10,
   "id": "153e74d0",
   "metadata": {
    "execution": {
     "iopub.execute_input": "2022-08-18T11:30:27.909873Z",
     "iopub.status.busy": "2022-08-18T11:30:27.908739Z",
     "iopub.status.idle": "2022-08-18T11:30:28.873276Z",
     "shell.execute_reply": "2022-08-18T11:30:28.871781Z"
    },
    "papermill": {
     "duration": 0.976495,
     "end_time": "2022-08-18T11:30:28.876769",
     "exception": false,
     "start_time": "2022-08-18T11:30:27.900274",
     "status": "completed"
    },
    "tags": []
   },
   "outputs": [],
   "source": [
    "powerlifting_meets = pd.read_csv(\"../input/powerlifting-database/meets.csv\")\n",
    "powerlifting_competitors = pd.read_csv(\"../input/powerlifting-database/openpowerlifting.csv\")"
   ]
  },
  {
   "cell_type": "markdown",
   "id": "a6aa445b",
   "metadata": {
    "papermill": {
     "duration": 0.006508,
     "end_time": "2022-08-18T11:30:28.890506",
     "exception": false,
     "start_time": "2022-08-18T11:30:28.883998",
     "status": "completed"
    },
    "tags": []
   },
   "source": [
    "Both tables include references to a `MeetID`, a unique key for each meet (competition) included in the database. Using this, generate a dataset combining the two tables into one."
   ]
  },
  {
   "cell_type": "code",
   "execution_count": 11,
   "id": "4c75a04b",
   "metadata": {
    "execution": {
     "iopub.execute_input": "2022-08-18T11:30:28.907014Z",
     "iopub.status.busy": "2022-08-18T11:30:28.906287Z",
     "iopub.status.idle": "2022-08-18T11:30:30.070688Z",
     "shell.execute_reply": "2022-08-18T11:30:30.069450Z"
    },
    "papermill": {
     "duration": 1.17569,
     "end_time": "2022-08-18T11:30:30.073410",
     "exception": false,
     "start_time": "2022-08-18T11:30:28.897720",
     "status": "completed"
    },
    "tags": []
   },
   "outputs": [
    {
     "data": {
      "application/javascript": [
       "parent.postMessage({\"jupyterEvent\": \"custom.exercise_interaction\", \"data\": {\"outcomeType\": 1, \"valueTowardsCompletion\": 0.25, \"interactionType\": 1, \"questionType\": 2, \"questionId\": \"4_JoinLifting\", \"learnToolsVersion\": \"0.3.4\", \"failureMessage\": \"\", \"exceptionClass\": \"\", \"trace\": \"\"}}, \"*\")"
      ],
      "text/plain": [
       "<IPython.core.display.Javascript object>"
      ]
     },
     "metadata": {},
     "output_type": "display_data"
    },
    {
     "data": {
      "text/markdown": [
       "<span style=\"color:#33cc33\">Correct</span>"
      ],
      "text/plain": [
       "Correct"
      ]
     },
     "metadata": {},
     "output_type": "display_data"
    }
   ],
   "source": [
    "#left = powerlifting_meets.set_index(['MeetID'])\n",
    "#right = powerlifting_competitors.set_index(['MeetID'])\n",
    "#powerlifting_combined = left.join(right, lsuffix='mee', rsuffix='_com')\n",
    "left=powerlifting_competitors.set_index(['MeetID'])\n",
    "right= powerlifting_meets.set_index(['MeetID'])\n",
    "powerlifting_combined = left.join(right, lsuffix='com', rsuffix='_mee')\n",
    "# Check your answer\n",
    "q4.check()"
   ]
  },
  {
   "cell_type": "code",
   "execution_count": 12,
   "id": "8dde2589",
   "metadata": {
    "execution": {
     "iopub.execute_input": "2022-08-18T11:30:30.089465Z",
     "iopub.status.busy": "2022-08-18T11:30:30.089017Z",
     "iopub.status.idle": "2022-08-18T11:30:30.094812Z",
     "shell.execute_reply": "2022-08-18T11:30:30.093199Z"
    },
    "papermill": {
     "duration": 0.017339,
     "end_time": "2022-08-18T11:30:30.097958",
     "exception": false,
     "start_time": "2022-08-18T11:30:30.080619",
     "status": "completed"
    },
    "tags": []
   },
   "outputs": [],
   "source": [
    "#q4.hint()\n",
    "#q4.solution()"
   ]
  },
  {
   "cell_type": "markdown",
   "id": "20b25c52",
   "metadata": {
    "papermill": {
     "duration": 0.006748,
     "end_time": "2022-08-18T11:30:30.111948",
     "exception": false,
     "start_time": "2022-08-18T11:30:30.105200",
     "status": "completed"
    },
    "tags": []
   },
   "source": [
    "# Congratulations!\n",
    "\n",
    "You've finished the Pandas micro-course.  Many data scientists feel efficiency with Pandas is the most useful and practical skill they have, because it allows you to progress quickly in any project you have.\n",
    "\n",
    "If you'd like to apply your new skills to examining geospatial data, you're encouraged to check out our **[Geospatial Analysis](https://www.kaggle.com/learn/geospatial-analysis)** micro-course.\n",
    "\n",
    "You can also take advantage of your Pandas skills by entering a **[Kaggle Competition](https://www.kaggle.com/competitions)** or by answering a question you find interesting using **[Kaggle Datasets](https://www.kaggle.com/datasets)**."
   ]
  },
  {
   "cell_type": "markdown",
   "id": "e13b69c9",
   "metadata": {
    "papermill": {
     "duration": 0.006564,
     "end_time": "2022-08-18T11:30:30.125528",
     "exception": false,
     "start_time": "2022-08-18T11:30:30.118964",
     "status": "completed"
    },
    "tags": []
   },
   "source": [
    "---\n",
    "\n",
    "\n",
    "\n",
    "\n",
    "*Have questions or comments? Visit the [course discussion forum](https://www.kaggle.com/learn/pandas/discussion) to chat with other learners.*"
   ]
  }
 ],
 "metadata": {
  "kernelspec": {
   "display_name": "Python 3",
   "language": "python",
   "name": "python3"
  },
  "language_info": {
   "codemirror_mode": {
    "name": "ipython",
    "version": 3
   },
   "file_extension": ".py",
   "mimetype": "text/x-python",
   "name": "python",
   "nbconvert_exporter": "python",
   "pygments_lexer": "ipython3",
   "version": "3.7.12"
  },
  "papermill": {
   "default_parameters": {},
   "duration": 18.210209,
   "end_time": "2022-08-18T11:30:31.259053",
   "environment_variables": {},
   "exception": null,
   "input_path": "__notebook__.ipynb",
   "output_path": "__notebook__.ipynb",
   "parameters": {},
   "start_time": "2022-08-18T11:30:13.048844",
   "version": "2.3.4"
  }
 },
 "nbformat": 4,
 "nbformat_minor": 5
}
