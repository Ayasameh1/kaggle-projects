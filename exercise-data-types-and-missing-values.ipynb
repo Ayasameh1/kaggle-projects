{
 "cells": [
  {
   "cell_type": "markdown",
   "id": "c29f9424",
   "metadata": {
    "papermill": {
     "duration": 0.005994,
     "end_time": "2022-08-18T11:30:04.535390",
     "exception": false,
     "start_time": "2022-08-18T11:30:04.529396",
     "status": "completed"
    },
    "tags": []
   },
   "source": [
    "**This notebook is an exercise in the [Pandas](https://www.kaggle.com/learn/pandas) course.  You can reference the tutorial at [this link](https://www.kaggle.com/residentmario/data-types-and-missing-values).**\n",
    "\n",
    "---\n"
   ]
  },
  {
   "cell_type": "markdown",
   "id": "15540a4a",
   "metadata": {
    "papermill": {
     "duration": 0.004505,
     "end_time": "2022-08-18T11:30:04.545031",
     "exception": false,
     "start_time": "2022-08-18T11:30:04.540526",
     "status": "completed"
    },
    "tags": []
   },
   "source": [
    "# Introduction\n",
    "\n",
    "Run the following cell to load your data and some utility functions."
   ]
  },
  {
   "cell_type": "code",
   "execution_count": 1,
   "id": "3306883a",
   "metadata": {
    "execution": {
     "iopub.execute_input": "2022-08-18T11:30:04.557259Z",
     "iopub.status.busy": "2022-08-18T11:30:04.556381Z",
     "iopub.status.idle": "2022-08-18T11:30:07.601547Z",
     "shell.execute_reply": "2022-08-18T11:30:07.600169Z"
    },
    "papermill": {
     "duration": 3.055227,
     "end_time": "2022-08-18T11:30:07.605112",
     "exception": false,
     "start_time": "2022-08-18T11:30:04.549885",
     "status": "completed"
    },
    "tags": []
   },
   "outputs": [
    {
     "name": "stdout",
     "output_type": "stream",
     "text": [
      "Setup complete.\n"
     ]
    }
   ],
   "source": [
    "import pandas as pd\n",
    "\n",
    "reviews = pd.read_csv(\"../input/wine-reviews/winemag-data-130k-v2.csv\", index_col=0)\n",
    "\n",
    "from learntools.core import binder; binder.bind(globals())\n",
    "from learntools.pandas.data_types_and_missing_data import *\n",
    "print(\"Setup complete.\")"
   ]
  },
  {
   "cell_type": "code",
   "execution_count": 2,
   "id": "cebd15b8",
   "metadata": {
    "execution": {
     "iopub.execute_input": "2022-08-18T11:30:07.618391Z",
     "iopub.status.busy": "2022-08-18T11:30:07.617936Z",
     "iopub.status.idle": "2022-08-18T11:30:07.646426Z",
     "shell.execute_reply": "2022-08-18T11:30:07.645330Z"
    },
    "papermill": {
     "duration": 0.038429,
     "end_time": "2022-08-18T11:30:07.649178",
     "exception": false,
     "start_time": "2022-08-18T11:30:07.610749",
     "status": "completed"
    },
    "tags": []
   },
   "outputs": [
    {
     "data": {
      "text/html": [
       "<div>\n",
       "<style scoped>\n",
       "    .dataframe tbody tr th:only-of-type {\n",
       "        vertical-align: middle;\n",
       "    }\n",
       "\n",
       "    .dataframe tbody tr th {\n",
       "        vertical-align: top;\n",
       "    }\n",
       "\n",
       "    .dataframe thead th {\n",
       "        text-align: right;\n",
       "    }\n",
       "</style>\n",
       "<table border=\"1\" class=\"dataframe\">\n",
       "  <thead>\n",
       "    <tr style=\"text-align: right;\">\n",
       "      <th></th>\n",
       "      <th>country</th>\n",
       "      <th>description</th>\n",
       "      <th>designation</th>\n",
       "      <th>points</th>\n",
       "      <th>price</th>\n",
       "      <th>province</th>\n",
       "      <th>region_1</th>\n",
       "      <th>region_2</th>\n",
       "      <th>taster_name</th>\n",
       "      <th>taster_twitter_handle</th>\n",
       "      <th>title</th>\n",
       "      <th>variety</th>\n",
       "      <th>winery</th>\n",
       "    </tr>\n",
       "  </thead>\n",
       "  <tbody>\n",
       "    <tr>\n",
       "      <th>0</th>\n",
       "      <td>Italy</td>\n",
       "      <td>Aromas include tropical fruit, broom, brimston...</td>\n",
       "      <td>Vulkà Bianco</td>\n",
       "      <td>87</td>\n",
       "      <td>NaN</td>\n",
       "      <td>Sicily &amp; Sardinia</td>\n",
       "      <td>Etna</td>\n",
       "      <td>NaN</td>\n",
       "      <td>Kerin O’Keefe</td>\n",
       "      <td>@kerinokeefe</td>\n",
       "      <td>Nicosia 2013 Vulkà Bianco  (Etna)</td>\n",
       "      <td>White Blend</td>\n",
       "      <td>Nicosia</td>\n",
       "    </tr>\n",
       "    <tr>\n",
       "      <th>1</th>\n",
       "      <td>Portugal</td>\n",
       "      <td>This is ripe and fruity, a wine that is smooth...</td>\n",
       "      <td>Avidagos</td>\n",
       "      <td>87</td>\n",
       "      <td>15.0</td>\n",
       "      <td>Douro</td>\n",
       "      <td>NaN</td>\n",
       "      <td>NaN</td>\n",
       "      <td>Roger Voss</td>\n",
       "      <td>@vossroger</td>\n",
       "      <td>Quinta dos Avidagos 2011 Avidagos Red (Douro)</td>\n",
       "      <td>Portuguese Red</td>\n",
       "      <td>Quinta dos Avidagos</td>\n",
       "    </tr>\n",
       "    <tr>\n",
       "      <th>2</th>\n",
       "      <td>US</td>\n",
       "      <td>Tart and snappy, the flavors of lime flesh and...</td>\n",
       "      <td>NaN</td>\n",
       "      <td>87</td>\n",
       "      <td>14.0</td>\n",
       "      <td>Oregon</td>\n",
       "      <td>Willamette Valley</td>\n",
       "      <td>Willamette Valley</td>\n",
       "      <td>Paul Gregutt</td>\n",
       "      <td>@paulgwine</td>\n",
       "      <td>Rainstorm 2013 Pinot Gris (Willamette Valley)</td>\n",
       "      <td>Pinot Gris</td>\n",
       "      <td>Rainstorm</td>\n",
       "    </tr>\n",
       "    <tr>\n",
       "      <th>3</th>\n",
       "      <td>US</td>\n",
       "      <td>Pineapple rind, lemon pith and orange blossom ...</td>\n",
       "      <td>Reserve Late Harvest</td>\n",
       "      <td>87</td>\n",
       "      <td>13.0</td>\n",
       "      <td>Michigan</td>\n",
       "      <td>Lake Michigan Shore</td>\n",
       "      <td>NaN</td>\n",
       "      <td>Alexander Peartree</td>\n",
       "      <td>NaN</td>\n",
       "      <td>St. Julian 2013 Reserve Late Harvest Riesling ...</td>\n",
       "      <td>Riesling</td>\n",
       "      <td>St. Julian</td>\n",
       "    </tr>\n",
       "    <tr>\n",
       "      <th>4</th>\n",
       "      <td>US</td>\n",
       "      <td>Much like the regular bottling from 2012, this...</td>\n",
       "      <td>Vintner's Reserve Wild Child Block</td>\n",
       "      <td>87</td>\n",
       "      <td>65.0</td>\n",
       "      <td>Oregon</td>\n",
       "      <td>Willamette Valley</td>\n",
       "      <td>Willamette Valley</td>\n",
       "      <td>Paul Gregutt</td>\n",
       "      <td>@paulgwine</td>\n",
       "      <td>Sweet Cheeks 2012 Vintner's Reserve Wild Child...</td>\n",
       "      <td>Pinot Noir</td>\n",
       "      <td>Sweet Cheeks</td>\n",
       "    </tr>\n",
       "  </tbody>\n",
       "</table>\n",
       "</div>"
      ],
      "text/plain": [
       "    country                                        description  \\\n",
       "0     Italy  Aromas include tropical fruit, broom, brimston...   \n",
       "1  Portugal  This is ripe and fruity, a wine that is smooth...   \n",
       "2        US  Tart and snappy, the flavors of lime flesh and...   \n",
       "3        US  Pineapple rind, lemon pith and orange blossom ...   \n",
       "4        US  Much like the regular bottling from 2012, this...   \n",
       "\n",
       "                          designation  points  price           province  \\\n",
       "0                        Vulkà Bianco      87    NaN  Sicily & Sardinia   \n",
       "1                            Avidagos      87   15.0              Douro   \n",
       "2                                 NaN      87   14.0             Oregon   \n",
       "3                Reserve Late Harvest      87   13.0           Michigan   \n",
       "4  Vintner's Reserve Wild Child Block      87   65.0             Oregon   \n",
       "\n",
       "              region_1           region_2         taster_name  \\\n",
       "0                 Etna                NaN       Kerin O’Keefe   \n",
       "1                  NaN                NaN          Roger Voss   \n",
       "2    Willamette Valley  Willamette Valley        Paul Gregutt   \n",
       "3  Lake Michigan Shore                NaN  Alexander Peartree   \n",
       "4    Willamette Valley  Willamette Valley        Paul Gregutt   \n",
       "\n",
       "  taster_twitter_handle                                              title  \\\n",
       "0          @kerinokeefe                  Nicosia 2013 Vulkà Bianco  (Etna)   \n",
       "1            @vossroger      Quinta dos Avidagos 2011 Avidagos Red (Douro)   \n",
       "2           @paulgwine       Rainstorm 2013 Pinot Gris (Willamette Valley)   \n",
       "3                   NaN  St. Julian 2013 Reserve Late Harvest Riesling ...   \n",
       "4           @paulgwine   Sweet Cheeks 2012 Vintner's Reserve Wild Child...   \n",
       "\n",
       "          variety               winery  \n",
       "0     White Blend              Nicosia  \n",
       "1  Portuguese Red  Quinta dos Avidagos  \n",
       "2      Pinot Gris            Rainstorm  \n",
       "3        Riesling           St. Julian  \n",
       "4      Pinot Noir         Sweet Cheeks  "
      ]
     },
     "execution_count": 2,
     "metadata": {},
     "output_type": "execute_result"
    }
   ],
   "source": [
    "reviews.head()"
   ]
  },
  {
   "cell_type": "markdown",
   "id": "6e4a4b26",
   "metadata": {
    "papermill": {
     "duration": 0.006666,
     "end_time": "2022-08-18T11:30:07.661125",
     "exception": false,
     "start_time": "2022-08-18T11:30:07.654459",
     "status": "completed"
    },
    "tags": []
   },
   "source": [
    "# Exercises"
   ]
  },
  {
   "cell_type": "markdown",
   "id": "a69b6285",
   "metadata": {
    "papermill": {
     "duration": 0.005172,
     "end_time": "2022-08-18T11:30:07.671834",
     "exception": false,
     "start_time": "2022-08-18T11:30:07.666662",
     "status": "completed"
    },
    "tags": []
   },
   "source": [
    "## 1. \n",
    "What is the data type of the `points` column in the dataset?"
   ]
  },
  {
   "cell_type": "code",
   "execution_count": 3,
   "id": "46beb45b",
   "metadata": {
    "execution": {
     "iopub.execute_input": "2022-08-18T11:30:07.684885Z",
     "iopub.status.busy": "2022-08-18T11:30:07.684478Z",
     "iopub.status.idle": "2022-08-18T11:30:07.695869Z",
     "shell.execute_reply": "2022-08-18T11:30:07.694620Z"
    },
    "papermill": {
     "duration": 0.020897,
     "end_time": "2022-08-18T11:30:07.698546",
     "exception": false,
     "start_time": "2022-08-18T11:30:07.677649",
     "status": "completed"
    },
    "tags": []
   },
   "outputs": [
    {
     "data": {
      "application/javascript": [
       "parent.postMessage({\"jupyterEvent\": \"custom.exercise_interaction\", \"data\": {\"outcomeType\": 1, \"valueTowardsCompletion\": 0.25, \"interactionType\": 1, \"questionType\": 1, \"questionId\": \"1_PointsDtype\", \"learnToolsVersion\": \"0.3.4\", \"failureMessage\": \"\", \"exceptionClass\": \"\", \"trace\": \"\"}}, \"*\")"
      ],
      "text/plain": [
       "<IPython.core.display.Javascript object>"
      ]
     },
     "metadata": {},
     "output_type": "display_data"
    },
    {
     "data": {
      "text/markdown": [
       "<span style=\"color:#33cc33\">Correct</span>"
      ],
      "text/plain": [
       "Correct"
      ]
     },
     "metadata": {},
     "output_type": "display_data"
    }
   ],
   "source": [
    "# Your code here\n",
    "dtype = reviews.points.dtype\n",
    "\n",
    "# Check your answer\n",
    "q1.check()"
   ]
  },
  {
   "cell_type": "code",
   "execution_count": 4,
   "id": "01e589ec",
   "metadata": {
    "execution": {
     "iopub.execute_input": "2022-08-18T11:30:07.711595Z",
     "iopub.status.busy": "2022-08-18T11:30:07.711188Z",
     "iopub.status.idle": "2022-08-18T11:30:07.715774Z",
     "shell.execute_reply": "2022-08-18T11:30:07.714607Z"
    },
    "papermill": {
     "duration": 0.013929,
     "end_time": "2022-08-18T11:30:07.718179",
     "exception": false,
     "start_time": "2022-08-18T11:30:07.704250",
     "status": "completed"
    },
    "tags": []
   },
   "outputs": [],
   "source": [
    "#q1.hint()\n",
    "#q1.solution()"
   ]
  },
  {
   "cell_type": "markdown",
   "id": "4fccc619",
   "metadata": {
    "papermill": {
     "duration": 0.005214,
     "end_time": "2022-08-18T11:30:07.729002",
     "exception": false,
     "start_time": "2022-08-18T11:30:07.723788",
     "status": "completed"
    },
    "tags": []
   },
   "source": [
    "## 2. \n",
    "Create a Series from entries in the `points` column, but convert the entries to strings. Hint: strings are `str` in native Python."
   ]
  },
  {
   "cell_type": "code",
   "execution_count": 5,
   "id": "668357c7",
   "metadata": {
    "execution": {
     "iopub.execute_input": "2022-08-18T11:30:07.742159Z",
     "iopub.status.busy": "2022-08-18T11:30:07.741193Z",
     "iopub.status.idle": "2022-08-18T11:30:07.827916Z",
     "shell.execute_reply": "2022-08-18T11:30:07.826846Z"
    },
    "papermill": {
     "duration": 0.095975,
     "end_time": "2022-08-18T11:30:07.830456",
     "exception": false,
     "start_time": "2022-08-18T11:30:07.734481",
     "status": "completed"
    },
    "tags": []
   },
   "outputs": [
    {
     "data": {
      "application/javascript": [
       "parent.postMessage({\"jupyterEvent\": \"custom.exercise_interaction\", \"data\": {\"outcomeType\": 1, \"valueTowardsCompletion\": 0.25, \"interactionType\": 1, \"questionType\": 1, \"questionId\": \"2_StrPoints\", \"learnToolsVersion\": \"0.3.4\", \"failureMessage\": \"\", \"exceptionClass\": \"\", \"trace\": \"\"}}, \"*\")"
      ],
      "text/plain": [
       "<IPython.core.display.Javascript object>"
      ]
     },
     "metadata": {},
     "output_type": "display_data"
    },
    {
     "data": {
      "text/markdown": [
       "<span style=\"color:#33cc33\">Correct</span>"
      ],
      "text/plain": [
       "Correct"
      ]
     },
     "metadata": {},
     "output_type": "display_data"
    }
   ],
   "source": [
    "point_strings = reviews.points.astype('str')\n",
    "\n",
    "\n",
    "# Check your answer\n",
    "q2.check()"
   ]
  },
  {
   "cell_type": "code",
   "execution_count": 6,
   "id": "c1f91cd3",
   "metadata": {
    "execution": {
     "iopub.execute_input": "2022-08-18T11:30:07.843599Z",
     "iopub.status.busy": "2022-08-18T11:30:07.843051Z",
     "iopub.status.idle": "2022-08-18T11:30:07.847657Z",
     "shell.execute_reply": "2022-08-18T11:30:07.846536Z"
    },
    "papermill": {
     "duration": 0.013872,
     "end_time": "2022-08-18T11:30:07.849920",
     "exception": false,
     "start_time": "2022-08-18T11:30:07.836048",
     "status": "completed"
    },
    "tags": []
   },
   "outputs": [],
   "source": [
    "#q2.hint()\n",
    "#q2.solution()"
   ]
  },
  {
   "cell_type": "markdown",
   "id": "e1cc07c5",
   "metadata": {
    "papermill": {
     "duration": 0.005952,
     "end_time": "2022-08-18T11:30:07.861881",
     "exception": false,
     "start_time": "2022-08-18T11:30:07.855929",
     "status": "completed"
    },
    "tags": []
   },
   "source": [
    "## 3.\n",
    "Sometimes the price column is null. How many reviews in the dataset are missing a price?"
   ]
  },
  {
   "cell_type": "code",
   "execution_count": 7,
   "id": "f49998ec",
   "metadata": {
    "execution": {
     "iopub.execute_input": "2022-08-18T11:30:07.874961Z",
     "iopub.status.busy": "2022-08-18T11:30:07.874565Z",
     "iopub.status.idle": "2022-08-18T11:30:07.885097Z",
     "shell.execute_reply": "2022-08-18T11:30:07.884246Z"
    },
    "papermill": {
     "duration": 0.019718,
     "end_time": "2022-08-18T11:30:07.887369",
     "exception": false,
     "start_time": "2022-08-18T11:30:07.867651",
     "status": "completed"
    },
    "tags": []
   },
   "outputs": [
    {
     "data": {
      "application/javascript": [
       "parent.postMessage({\"jupyterEvent\": \"custom.exercise_interaction\", \"data\": {\"outcomeType\": 1, \"valueTowardsCompletion\": 0.25, \"interactionType\": 1, \"questionType\": 1, \"questionId\": \"3_CountMissingPrices\", \"learnToolsVersion\": \"0.3.4\", \"failureMessage\": \"\", \"exceptionClass\": \"\", \"trace\": \"\"}}, \"*\")"
      ],
      "text/plain": [
       "<IPython.core.display.Javascript object>"
      ]
     },
     "metadata": {},
     "output_type": "display_data"
    },
    {
     "data": {
      "text/markdown": [
       "<span style=\"color:#33cc33\">Correct</span>"
      ],
      "text/plain": [
       "Correct"
      ]
     },
     "metadata": {},
     "output_type": "display_data"
    }
   ],
   "source": [
    "n_missing_prices = reviews['price'].isna().sum()\n",
    "\n",
    "\n",
    "# Check your answer\n",
    "q3.check()"
   ]
  },
  {
   "cell_type": "code",
   "execution_count": 8,
   "id": "99fd22c5",
   "metadata": {
    "execution": {
     "iopub.execute_input": "2022-08-18T11:30:07.901074Z",
     "iopub.status.busy": "2022-08-18T11:30:07.900674Z",
     "iopub.status.idle": "2022-08-18T11:30:07.905629Z",
     "shell.execute_reply": "2022-08-18T11:30:07.904319Z"
    },
    "papermill": {
     "duration": 0.014798,
     "end_time": "2022-08-18T11:30:07.908219",
     "exception": false,
     "start_time": "2022-08-18T11:30:07.893421",
     "status": "completed"
    },
    "tags": []
   },
   "outputs": [],
   "source": [
    "#q3.hint()\n",
    "#q3.solution()"
   ]
  },
  {
   "cell_type": "markdown",
   "id": "c5bc7690",
   "metadata": {
    "papermill": {
     "duration": 0.005564,
     "end_time": "2022-08-18T11:30:07.919718",
     "exception": false,
     "start_time": "2022-08-18T11:30:07.914154",
     "status": "completed"
    },
    "tags": []
   },
   "source": [
    "## 4.\n",
    "What are the most common wine-producing regions? Create a Series counting the number of times each value occurs in the `region_1` field. This field is often missing data, so replace missing values with `Unknown`. Sort in descending order.  Your output should look something like this:\n",
    "\n",
    "```\n",
    "Unknown                    21247\n",
    "Napa Valley                 4480\n",
    "                           ...  \n",
    "Bardolino Superiore            1\n",
    "Primitivo del Tarantino        1\n",
    "Name: region_1, Length: 1230, dtype: int64\n",
    "```"
   ]
  },
  {
   "cell_type": "code",
   "execution_count": null,
   "id": "d89b7728",
   "metadata": {
    "papermill": {
     "duration": 0.005395,
     "end_time": "2022-08-18T11:30:07.930923",
     "exception": false,
     "start_time": "2022-08-18T11:30:07.925528",
     "status": "completed"
    },
    "tags": []
   },
   "outputs": [],
   "source": []
  },
  {
   "cell_type": "code",
   "execution_count": 9,
   "id": "ac56b1ff",
   "metadata": {
    "execution": {
     "iopub.execute_input": "2022-08-18T11:30:07.945149Z",
     "iopub.status.busy": "2022-08-18T11:30:07.944723Z",
     "iopub.status.idle": "2022-08-18T11:30:07.986270Z",
     "shell.execute_reply": "2022-08-18T11:30:07.985388Z"
    },
    "papermill": {
     "duration": 0.050961,
     "end_time": "2022-08-18T11:30:07.988460",
     "exception": false,
     "start_time": "2022-08-18T11:30:07.937499",
     "status": "completed"
    },
    "tags": []
   },
   "outputs": [
    {
     "data": {
      "application/javascript": [
       "parent.postMessage({\"jupyterEvent\": \"custom.exercise_interaction\", \"data\": {\"outcomeType\": 1, \"valueTowardsCompletion\": 0.25, \"interactionType\": 1, \"questionType\": 2, \"questionId\": \"4_ReviewsPerRegion\", \"learnToolsVersion\": \"0.3.4\", \"failureMessage\": \"\", \"exceptionClass\": \"\", \"trace\": \"\"}}, \"*\")"
      ],
      "text/plain": [
       "<IPython.core.display.Javascript object>"
      ]
     },
     "metadata": {},
     "output_type": "display_data"
    },
    {
     "data": {
      "text/markdown": [
       "<span style=\"color:#33cc33\">Correct</span>"
      ],
      "text/plain": [
       "Correct"
      ]
     },
     "metadata": {},
     "output_type": "display_data"
    }
   ],
   "source": [
    "a= reviews.region_1.fillna(\"Unknown\")\n",
    "#reviews['region_1'].value_counts() \n",
    "#reviews_per_region.sort_values(by='region_1', ascending=False)      \n",
    "reviews_per_region=a.value_counts() .sort_values( ascending=False)\n",
    "\n",
    "# Check your answer\n",
    "q4.check()"
   ]
  },
  {
   "cell_type": "code",
   "execution_count": 10,
   "id": "39402f8e",
   "metadata": {
    "execution": {
     "iopub.execute_input": "2022-08-18T11:30:08.003382Z",
     "iopub.status.busy": "2022-08-18T11:30:08.002296Z",
     "iopub.status.idle": "2022-08-18T11:30:08.011532Z",
     "shell.execute_reply": "2022-08-18T11:30:08.010574Z"
    },
    "papermill": {
     "duration": 0.019047,
     "end_time": "2022-08-18T11:30:08.013877",
     "exception": false,
     "start_time": "2022-08-18T11:30:07.994830",
     "status": "completed"
    },
    "tags": []
   },
   "outputs": [
    {
     "data": {
      "application/javascript": [
       "parent.postMessage({\"jupyterEvent\": \"custom.exercise_interaction\", \"data\": {\"interactionType\": 2, \"questionType\": 2, \"questionId\": \"4_ReviewsPerRegion\", \"learnToolsVersion\": \"0.3.4\", \"valueTowardsCompletion\": 0.0, \"failureMessage\": \"\", \"exceptionClass\": \"\", \"trace\": \"\", \"outcomeType\": 4}}, \"*\")"
      ],
      "text/plain": [
       "<IPython.core.display.Javascript object>"
      ]
     },
     "metadata": {},
     "output_type": "display_data"
    },
    {
     "data": {
      "text/markdown": [
       "<span style=\"color:#3366cc\">Hint:</span> Use `fillna()`, `value_counts()`, and `sort_values()`."
      ],
      "text/plain": [
       "Hint: Use `fillna()`, `value_counts()`, and `sort_values()`."
      ]
     },
     "metadata": {},
     "output_type": "display_data"
    }
   ],
   "source": [
    "q4.hint()\n",
    "#q4.solution()"
   ]
  },
  {
   "cell_type": "markdown",
   "id": "c32374e2",
   "metadata": {
    "papermill": {
     "duration": 0.006383,
     "end_time": "2022-08-18T11:30:08.026828",
     "exception": false,
     "start_time": "2022-08-18T11:30:08.020445",
     "status": "completed"
    },
    "tags": []
   },
   "source": [
    "# Keep going\n",
    "\n",
    "Move on to **[renaming and combining](https://www.kaggle.com/residentmario/renaming-and-combining)**."
   ]
  },
  {
   "cell_type": "markdown",
   "id": "4cb48d6a",
   "metadata": {
    "papermill": {
     "duration": 0.006027,
     "end_time": "2022-08-18T11:30:08.039292",
     "exception": false,
     "start_time": "2022-08-18T11:30:08.033265",
     "status": "completed"
    },
    "tags": []
   },
   "source": [
    "---\n",
    "\n",
    "\n",
    "\n",
    "\n",
    "*Have questions or comments? Visit the [course discussion forum](https://www.kaggle.com/learn/pandas/discussion) to chat with other learners.*"
   ]
  }
 ],
 "metadata": {
  "kernelspec": {
   "display_name": "Python 3",
   "language": "python",
   "name": "python3"
  },
  "language_info": {
   "codemirror_mode": {
    "name": "ipython",
    "version": 3
   },
   "file_extension": ".py",
   "mimetype": "text/x-python",
   "name": "python",
   "nbconvert_exporter": "python",
   "pygments_lexer": "ipython3",
   "version": "3.7.12"
  },
  "papermill": {
   "default_parameters": {},
   "duration": 13.973462,
   "end_time": "2022-08-18T11:30:08.768031",
   "environment_variables": {},
   "exception": null,
   "input_path": "__notebook__.ipynb",
   "output_path": "__notebook__.ipynb",
   "parameters": {},
   "start_time": "2022-08-18T11:29:54.794569",
   "version": "2.3.4"
  }
 },
 "nbformat": 4,
 "nbformat_minor": 5
}
