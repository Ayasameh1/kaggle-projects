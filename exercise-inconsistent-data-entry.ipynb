{
 "cells": [
  {
   "cell_type": "markdown",
   "id": "46039449",
   "metadata": {
    "papermill": {
     "duration": 0.00641,
     "end_time": "2022-08-15T17:07:15.866976",
     "exception": false,
     "start_time": "2022-08-15T17:07:15.860566",
     "status": "completed"
    },
    "tags": []
   },
   "source": [
    "**This notebook is an exercise in the [Data Cleaning](https://www.kaggle.com/learn/data-cleaning) course.  You can reference the tutorial at [this link](https://www.kaggle.com/alexisbcook/inconsistent-data-entry).**\n",
    "\n",
    "---\n"
   ]
  },
  {
   "cell_type": "markdown",
   "id": "82f67669",
   "metadata": {
    "papermill": {
     "duration": 0.004662,
     "end_time": "2022-08-15T17:07:15.876851",
     "exception": false,
     "start_time": "2022-08-15T17:07:15.872189",
     "status": "completed"
    },
    "tags": []
   },
   "source": [
    "In this exercise, you'll apply what you learned in the **Inconsistent data entry** tutorial.\n",
    "\n",
    "# Setup\n",
    "\n",
    "The questions below will give you feedback on your work. Run the following cell to set up the feedback system."
   ]
  },
  {
   "cell_type": "code",
   "execution_count": 1,
   "id": "30335af8",
   "metadata": {
    "execution": {
     "iopub.execute_input": "2022-08-15T17:07:15.889592Z",
     "iopub.status.busy": "2022-08-15T17:07:15.888622Z",
     "iopub.status.idle": "2022-08-15T17:07:15.991557Z",
     "shell.execute_reply": "2022-08-15T17:07:15.990375Z"
    },
    "papermill": {
     "duration": 0.112355,
     "end_time": "2022-08-15T17:07:15.994198",
     "exception": false,
     "start_time": "2022-08-15T17:07:15.881843",
     "status": "completed"
    },
    "tags": []
   },
   "outputs": [
    {
     "name": "stdout",
     "output_type": "stream",
     "text": [
      "Setup Complete\n"
     ]
    }
   ],
   "source": [
    "from learntools.core import binder\n",
    "binder.bind(globals())\n",
    "from learntools.data_cleaning.ex5 import *\n",
    "print(\"Setup Complete\")"
   ]
  },
  {
   "cell_type": "markdown",
   "id": "130ed664",
   "metadata": {
    "papermill": {
     "duration": 0.004934,
     "end_time": "2022-08-15T17:07:16.004283",
     "exception": false,
     "start_time": "2022-08-15T17:07:15.999349",
     "status": "completed"
    },
    "tags": []
   },
   "source": [
    "# Get our environment set up\n",
    "\n",
    "The first thing we'll need to do is load in the libraries and dataset we'll be using.  We use the same dataset from the tutorial."
   ]
  },
  {
   "cell_type": "code",
   "execution_count": 2,
   "id": "3532cb7e",
   "metadata": {
    "execution": {
     "iopub.execute_input": "2022-08-15T17:07:16.016046Z",
     "iopub.status.busy": "2022-08-15T17:07:16.015631Z",
     "iopub.status.idle": "2022-08-15T17:07:16.032826Z",
     "shell.execute_reply": "2022-08-15T17:07:16.031758Z"
    },
    "papermill": {
     "duration": 0.025952,
     "end_time": "2022-08-15T17:07:16.035257",
     "exception": false,
     "start_time": "2022-08-15T17:07:16.009305",
     "status": "completed"
    },
    "tags": []
   },
   "outputs": [],
   "source": [
    "# modules we'll use\n",
    "import pandas as pd\n",
    "import numpy as np\n",
    "\n",
    "# helpful modules\n",
    "import fuzzywuzzy\n",
    "from fuzzywuzzy import process\n",
    "import chardet\n",
    "\n",
    "# read in all our data\n",
    "professors = pd.read_csv(\"../input/pakistan-intellectual-capital/pakistan_intellectual_capital.csv\")\n",
    "\n",
    "# set seed for reproducibility\n",
    "np.random.seed(0)"
   ]
  },
  {
   "cell_type": "markdown",
   "id": "43cce0b1",
   "metadata": {
    "papermill": {
     "duration": 0.004851,
     "end_time": "2022-08-15T17:07:16.045149",
     "exception": false,
     "start_time": "2022-08-15T17:07:16.040298",
     "status": "completed"
    },
    "tags": []
   },
   "source": [
    "Next, we'll redo all of the work that we did in the tutorial."
   ]
  },
  {
   "cell_type": "code",
   "execution_count": 3,
   "id": "f57c8b9c",
   "metadata": {
    "execution": {
     "iopub.execute_input": "2022-08-15T17:07:16.056757Z",
     "iopub.status.busy": "2022-08-15T17:07:16.056367Z",
     "iopub.status.idle": "2022-08-15T17:07:16.074231Z",
     "shell.execute_reply": "2022-08-15T17:07:16.072833Z"
    },
    "papermill": {
     "duration": 0.027234,
     "end_time": "2022-08-15T17:07:16.077279",
     "exception": false,
     "start_time": "2022-08-15T17:07:16.050045",
     "status": "completed"
    },
    "tags": []
   },
   "outputs": [
    {
     "name": "stdout",
     "output_type": "stream",
     "text": [
      "All done!\n"
     ]
    }
   ],
   "source": [
    "# convert to lower case\n",
    "professors['Country'] = professors['Country'].str.lower()\n",
    "# remove trailing white spaces\n",
    "professors['Country'] = professors['Country'].str.strip()\n",
    "\n",
    "# get the top 10 closest matches to \"south korea\"\n",
    "countries = professors['Country'].unique()\n",
    "matches = fuzzywuzzy.process.extract(\"south korea\", countries, limit=10, scorer=fuzzywuzzy.fuzz.token_sort_ratio)\n",
    "\n",
    "def replace_matches_in_column(df, column, string_to_match, min_ratio = 47):\n",
    "    # get a list of unique strings\n",
    "    strings = df[column].unique()\n",
    "    \n",
    "    # get the top 10 closest matches to our input string\n",
    "    matches = fuzzywuzzy.process.extract(string_to_match, strings, \n",
    "                                         limit=10, scorer=fuzzywuzzy.fuzz.token_sort_ratio)\n",
    "\n",
    "    # only get matches with a ratio > 90\n",
    "    close_matches = [matches[0] for matches in matches if matches[1] >= min_ratio]\n",
    "\n",
    "    # get the rows of all the close matches in our dataframe\n",
    "    rows_with_matches = df[column].isin(close_matches)\n",
    "\n",
    "    # replace all rows with close matches with the input matches \n",
    "    df.loc[rows_with_matches, column] = string_to_match\n",
    "    \n",
    "    # let us know the function's done\n",
    "    print(\"All done!\")\n",
    "    \n",
    "replace_matches_in_column(df=professors, column='Country', string_to_match=\"south korea\")\n",
    "countries = professors['Country'].unique()"
   ]
  },
  {
   "cell_type": "markdown",
   "id": "e1abd0df",
   "metadata": {
    "papermill": {
     "duration": 0.004994,
     "end_time": "2022-08-15T17:07:16.087722",
     "exception": false,
     "start_time": "2022-08-15T17:07:16.082728",
     "status": "completed"
    },
    "tags": []
   },
   "source": [
    "# 1) Examine another column\n",
    "\n",
    "Write code below to take a look at all the unique values in the \"Graduated from\" column."
   ]
  },
  {
   "cell_type": "code",
   "execution_count": 4,
   "id": "0260de13",
   "metadata": {
    "execution": {
     "iopub.execute_input": "2022-08-15T17:07:16.100038Z",
     "iopub.status.busy": "2022-08-15T17:07:16.099271Z",
     "iopub.status.idle": "2022-08-15T17:07:16.104966Z",
     "shell.execute_reply": "2022-08-15T17:07:16.104043Z"
    },
    "papermill": {
     "duration": 0.014429,
     "end_time": "2022-08-15T17:07:16.107219",
     "exception": false,
     "start_time": "2022-08-15T17:07:16.092790",
     "status": "completed"
    },
    "tags": []
   },
   "outputs": [],
   "source": [
    "countries = professors['Graduated from'].unique()"
   ]
  },
  {
   "cell_type": "markdown",
   "id": "b05f15e5",
   "metadata": {
    "papermill": {
     "duration": 0.00484,
     "end_time": "2022-08-15T17:07:16.117269",
     "exception": false,
     "start_time": "2022-08-15T17:07:16.112429",
     "status": "completed"
    },
    "tags": []
   },
   "source": [
    "Do you notice any inconsistencies in the data?  Can any of the inconsistencies in the data be fixed by removing white spaces at the beginning and end of cells?\n",
    "\n",
    "Once you have answered these questions, run the code cell below to get credit for your work."
   ]
  },
  {
   "cell_type": "code",
   "execution_count": 5,
   "id": "f30dc51e",
   "metadata": {
    "execution": {
     "iopub.execute_input": "2022-08-15T17:07:16.129426Z",
     "iopub.status.busy": "2022-08-15T17:07:16.128646Z",
     "iopub.status.idle": "2022-08-15T17:07:16.139692Z",
     "shell.execute_reply": "2022-08-15T17:07:16.138794Z"
    },
    "papermill": {
     "duration": 0.019652,
     "end_time": "2022-08-15T17:07:16.141892",
     "exception": false,
     "start_time": "2022-08-15T17:07:16.122240",
     "status": "completed"
    },
    "tags": []
   },
   "outputs": [
    {
     "data": {
      "application/javascript": [
       "parent.postMessage({\"jupyterEvent\": \"custom.exercise_interaction\", \"data\": {\"outcomeType\": 1, \"valueTowardsCompletion\": 0.3333333333333333, \"interactionType\": 1, \"questionType\": 4, \"questionId\": \"1_ExamineProvince\", \"learnToolsVersion\": \"0.3.4\", \"failureMessage\": \"\", \"exceptionClass\": \"\", \"trace\": \"\"}}, \"*\")"
      ],
      "text/plain": [
       "<IPython.core.display.Javascript object>"
      ]
     },
     "metadata": {},
     "output_type": "display_data"
    },
    {
     "data": {
      "text/markdown": [
       "<span style=\"color:#33cc33\">Correct:</span> \n",
       "\n",
       "There are inconsistencies that can be fixed by removing white spaces at the beginning and end of cells.  For instance, \"University of Central Florida\" and \" University of Central Florida\" both appear in the column."
      ],
      "text/plain": [
       "Correct: \n",
       "\n",
       "There are inconsistencies that can be fixed by removing white spaces at the beginning and end of cells.  For instance, \"University of Central Florida\" and \" University of Central Florida\" both appear in the column."
      ]
     },
     "metadata": {},
     "output_type": "display_data"
    }
   ],
   "source": [
    "# Check your answer (Run this code cell to receive credit!)\n",
    "q1.check()"
   ]
  },
  {
   "cell_type": "code",
   "execution_count": 6,
   "id": "27d9ccdd",
   "metadata": {
    "execution": {
     "iopub.execute_input": "2022-08-15T17:07:16.154596Z",
     "iopub.status.busy": "2022-08-15T17:07:16.153890Z",
     "iopub.status.idle": "2022-08-15T17:07:16.158278Z",
     "shell.execute_reply": "2022-08-15T17:07:16.157501Z"
    },
    "papermill": {
     "duration": 0.013095,
     "end_time": "2022-08-15T17:07:16.160443",
     "exception": false,
     "start_time": "2022-08-15T17:07:16.147348",
     "status": "completed"
    },
    "tags": []
   },
   "outputs": [],
   "source": [
    "# Line below will give you a hint\n",
    "#q1.hint()"
   ]
  },
  {
   "cell_type": "markdown",
   "id": "bbc1032c",
   "metadata": {
    "papermill": {
     "duration": 0.005986,
     "end_time": "2022-08-15T17:07:16.171725",
     "exception": false,
     "start_time": "2022-08-15T17:07:16.165739",
     "status": "completed"
    },
    "tags": []
   },
   "source": [
    "# 2) Do some text pre-processing\n",
    "\n",
    "Convert every entry in the \"Graduated from\" column in the `professors` DataFrame to remove white spaces at the beginning and end of cells."
   ]
  },
  {
   "cell_type": "code",
   "execution_count": 7,
   "id": "ceb4baee",
   "metadata": {
    "execution": {
     "iopub.execute_input": "2022-08-15T17:07:16.184471Z",
     "iopub.status.busy": "2022-08-15T17:07:16.183717Z",
     "iopub.status.idle": "2022-08-15T17:07:16.197482Z",
     "shell.execute_reply": "2022-08-15T17:07:16.196688Z"
    },
    "papermill": {
     "duration": 0.022835,
     "end_time": "2022-08-15T17:07:16.199761",
     "exception": false,
     "start_time": "2022-08-15T17:07:16.176926",
     "status": "completed"
    },
    "tags": []
   },
   "outputs": [
    {
     "data": {
      "application/javascript": [
       "parent.postMessage({\"jupyterEvent\": \"custom.exercise_interaction\", \"data\": {\"outcomeType\": 1, \"valueTowardsCompletion\": 0.3333333333333333, \"interactionType\": 1, \"questionType\": 1, \"questionId\": \"2_TextProcessing\", \"learnToolsVersion\": \"0.3.4\", \"failureMessage\": \"\", \"exceptionClass\": \"\", \"trace\": \"\"}}, \"*\")"
      ],
      "text/plain": [
       "<IPython.core.display.Javascript object>"
      ]
     },
     "metadata": {},
     "output_type": "display_data"
    },
    {
     "data": {
      "text/markdown": [
       "<span style=\"color:#33cc33\">Correct</span>"
      ],
      "text/plain": [
       "Correct"
      ]
     },
     "metadata": {},
     "output_type": "display_data"
    }
   ],
   "source": [
    "professors['Graduated from'] = professors['Graduated from'].str.strip()\n",
    "____\n",
    "\n",
    "# Check your answer\n",
    "q2.check()"
   ]
  },
  {
   "cell_type": "code",
   "execution_count": 8,
   "id": "a3ed7988",
   "metadata": {
    "execution": {
     "iopub.execute_input": "2022-08-15T17:07:16.212779Z",
     "iopub.status.busy": "2022-08-15T17:07:16.212072Z",
     "iopub.status.idle": "2022-08-15T17:07:16.216569Z",
     "shell.execute_reply": "2022-08-15T17:07:16.215783Z"
    },
    "papermill": {
     "duration": 0.013426,
     "end_time": "2022-08-15T17:07:16.218746",
     "exception": false,
     "start_time": "2022-08-15T17:07:16.205320",
     "status": "completed"
    },
    "tags": []
   },
   "outputs": [],
   "source": [
    "# Lines below will give you a hint or solution code\n",
    "#q2.hint()\n",
    "#q2.solution()"
   ]
  },
  {
   "cell_type": "markdown",
   "id": "681dfa4c",
   "metadata": {
    "papermill": {
     "duration": 0.005221,
     "end_time": "2022-08-15T17:07:16.229482",
     "exception": false,
     "start_time": "2022-08-15T17:07:16.224261",
     "status": "completed"
    },
    "tags": []
   },
   "source": [
    "# 3) Continue working with countries\n",
    "\n",
    "In the tutorial, we focused on cleaning up inconsistencies in the \"Country\" column.  Run the code cell below to view the list of unique values that we ended with."
   ]
  },
  {
   "cell_type": "code",
   "execution_count": 9,
   "id": "d3f34fb1",
   "metadata": {
    "execution": {
     "iopub.execute_input": "2022-08-15T17:07:16.243502Z",
     "iopub.status.busy": "2022-08-15T17:07:16.242733Z",
     "iopub.status.idle": "2022-08-15T17:07:16.250967Z",
     "shell.execute_reply": "2022-08-15T17:07:16.249901Z"
    },
    "papermill": {
     "duration": 0.017399,
     "end_time": "2022-08-15T17:07:16.253172",
     "exception": false,
     "start_time": "2022-08-15T17:07:16.235773",
     "status": "completed"
    },
    "tags": []
   },
   "outputs": [
    {
     "data": {
      "text/plain": [
       "array(['australia', 'austria', 'canada', 'china', 'finland', 'france',\n",
       "       'germany', 'greece', 'hongkong', 'ireland', 'italy', 'japan',\n",
       "       'macau', 'malaysia', 'mauritius', 'netherland', 'new zealand',\n",
       "       'norway', 'pakistan', 'portugal', 'russian federation',\n",
       "       'saudi arabia', 'scotland', 'singapore', 'south korea', 'spain',\n",
       "       'sweden', 'thailand', 'turkey', 'uk', 'urbana', 'usa', 'usofa'],\n",
       "      dtype=object)"
      ]
     },
     "execution_count": 9,
     "metadata": {},
     "output_type": "execute_result"
    }
   ],
   "source": [
    "# get all the unique values in the 'City' column\n",
    "countries = professors['Country'].unique()\n",
    "\n",
    "# sort them alphabetically and then take a closer look\n",
    "countries.sort()\n",
    "countries"
   ]
  },
  {
   "cell_type": "markdown",
   "id": "d16cf2ec",
   "metadata": {
    "papermill": {
     "duration": 0.005269,
     "end_time": "2022-08-15T17:07:16.264076",
     "exception": false,
     "start_time": "2022-08-15T17:07:16.258807",
     "status": "completed"
    },
    "tags": []
   },
   "source": [
    "Take another look at the \"Country\" column and see if there's any more data cleaning we need to do.\n",
    "\n",
    "It looks like 'usa' and 'usofa' should be the same country.  Correct the \"Country\" column in the dataframe to replace 'usofa' with 'usa'.\n",
    "\n",
    "**Use the most recent version of the DataFrame (with the whitespaces at the beginning and end of cells removed) from question 2.**"
   ]
  },
  {
   "cell_type": "code",
   "execution_count": 10,
   "id": "fea146d4",
   "metadata": {
    "execution": {
     "iopub.execute_input": "2022-08-15T17:07:16.277073Z",
     "iopub.status.busy": "2022-08-15T17:07:16.276386Z",
     "iopub.status.idle": "2022-08-15T17:07:16.291618Z",
     "shell.execute_reply": "2022-08-15T17:07:16.290457Z"
    },
    "papermill": {
     "duration": 0.024477,
     "end_time": "2022-08-15T17:07:16.293961",
     "exception": false,
     "start_time": "2022-08-15T17:07:16.269484",
     "status": "completed"
    },
    "tags": []
   },
   "outputs": [
    {
     "name": "stdout",
     "output_type": "stream",
     "text": [
      "All done!\n"
     ]
    },
    {
     "data": {
      "application/javascript": [
       "parent.postMessage({\"jupyterEvent\": \"custom.exercise_interaction\", \"data\": {\"outcomeType\": 1, \"valueTowardsCompletion\": 0.3333333333333333, \"interactionType\": 1, \"questionType\": 1, \"questionId\": \"3_WorkingWithCities\", \"learnToolsVersion\": \"0.3.4\", \"failureMessage\": \"\", \"exceptionClass\": \"\", \"trace\": \"\"}}, \"*\")"
      ],
      "text/plain": [
       "<IPython.core.display.Javascript object>"
      ]
     },
     "metadata": {},
     "output_type": "display_data"
    },
    {
     "data": {
      "text/markdown": [
       "<span style=\"color:#33cc33\">Correct</span>"
      ],
      "text/plain": [
       "Correct"
      ]
     },
     "metadata": {},
     "output_type": "display_data"
    }
   ],
   "source": [
    "\n",
    "#matches = fuzzywuzzy.process.extract(\"usa\", countries,  limit=10, scorer=fuzzywuzzy.fuzz.token_sort_ratio)\n",
    "#replace_matches_in_column(df=professors, column='Country', string_to_match= \"usa\" ,min_ratio=70)\n",
    "# get all the unique values in the 'Country' column\n",
    "\n",
    "# get all the unique values in the 'Country' column\n",
    "#countries = professors['Country'].unique()\n",
    "\n",
    "matches = fuzzywuzzy.process.extract(\"usa\", countries, limit=10, scorer=fuzzywuzzy.fuzz.token_sort_ratio)\n",
    "replace_matches_in_column(df=professors, column='Country', string_to_match=\"usa\", min_ratio=70)\n",
    "\n",
    "q3.check()"
   ]
  },
  {
   "cell_type": "code",
   "execution_count": 11,
   "id": "76c9d9ee",
   "metadata": {
    "execution": {
     "iopub.execute_input": "2022-08-15T17:07:16.307743Z",
     "iopub.status.busy": "2022-08-15T17:07:16.307049Z",
     "iopub.status.idle": "2022-08-15T17:07:16.320167Z",
     "shell.execute_reply": "2022-08-15T17:07:16.319312Z"
    },
    "papermill": {
     "duration": 0.022476,
     "end_time": "2022-08-15T17:07:16.322345",
     "exception": false,
     "start_time": "2022-08-15T17:07:16.299869",
     "status": "completed"
    },
    "tags": []
   },
   "outputs": [
    {
     "data": {
      "application/javascript": [
       "parent.postMessage({\"jupyterEvent\": \"custom.exercise_interaction\", \"data\": {\"interactionType\": 2, \"questionType\": 1, \"questionId\": \"3_WorkingWithCities\", \"learnToolsVersion\": \"0.3.4\", \"valueTowardsCompletion\": 0.0, \"failureMessage\": \"\", \"exceptionClass\": \"\", \"trace\": \"\", \"outcomeType\": 4}}, \"*\")"
      ],
      "text/plain": [
       "<IPython.core.display.Javascript object>"
      ]
     },
     "metadata": {},
     "output_type": "display_data"
    },
    {
     "data": {
      "text/markdown": [
       "<span style=\"color:#3366cc\">Hint:</span> Use the `replace_matches_in_column()` function defined above."
      ],
      "text/plain": [
       "Hint: Use the `replace_matches_in_column()` function defined above."
      ]
     },
     "metadata": {},
     "output_type": "display_data"
    },
    {
     "data": {
      "application/javascript": [
       "parent.postMessage({\"jupyterEvent\": \"custom.exercise_interaction\", \"data\": {\"interactionType\": 3, \"questionType\": 1, \"questionId\": \"3_WorkingWithCities\", \"learnToolsVersion\": \"0.3.4\", \"valueTowardsCompletion\": 0.0, \"failureMessage\": \"\", \"exceptionClass\": \"\", \"trace\": \"\", \"outcomeType\": 4}}, \"*\")"
      ],
      "text/plain": [
       "<IPython.core.display.Javascript object>"
      ]
     },
     "metadata": {},
     "output_type": "display_data"
    },
    {
     "data": {
      "text/markdown": [
       "<span style=\"color:#33cc99\">Solution:</span> \n",
       "```python\n",
       "matches = fuzzywuzzy.process.extract(\"usa\", countries, limit=10, scorer=fuzzywuzzy.fuzz.token_sort_ratio)\n",
       "replace_matches_in_column(df=professors, column='Country', string_to_match=\"usa\", min_ratio=70)\n",
       "\n",
       "```"
      ],
      "text/plain": [
       "Solution: \n",
       "```python\n",
       "matches = fuzzywuzzy.process.extract(\"usa\", countries, limit=10, scorer=fuzzywuzzy.fuzz.token_sort_ratio)\n",
       "replace_matches_in_column(df=professors, column='Country', string_to_match=\"usa\", min_ratio=70)\n",
       "\n",
       "```"
      ]
     },
     "metadata": {},
     "output_type": "display_data"
    }
   ],
   "source": [
    "# Lines below will give you a hint or solution code\n",
    "q3.hint()\n",
    "q3.solution()"
   ]
  },
  {
   "cell_type": "markdown",
   "id": "80e42461",
   "metadata": {
    "papermill": {
     "duration": 0.006384,
     "end_time": "2022-08-15T17:07:16.335125",
     "exception": false,
     "start_time": "2022-08-15T17:07:16.328741",
     "status": "completed"
    },
    "tags": []
   },
   "source": [
    "# Congratulations!\n",
    "\n",
    "Congratulations for completing the **Data Cleaning** course on Kaggle Learn!\n",
    "\n",
    "To practice your new skills, you're encouraged to download and investigate some of [Kaggle's Datasets](https://www.kaggle.com/datasets)."
   ]
  },
  {
   "cell_type": "markdown",
   "id": "fcc8cd83",
   "metadata": {
    "papermill": {
     "duration": 0.006022,
     "end_time": "2022-08-15T17:07:16.347402",
     "exception": false,
     "start_time": "2022-08-15T17:07:16.341380",
     "status": "completed"
    },
    "tags": []
   },
   "source": [
    "---\n",
    "\n",
    "\n",
    "\n",
    "\n",
    "*Have questions or comments? Visit the [course discussion forum](https://www.kaggle.com/learn/data-cleaning/discussion) to chat with other learners.*"
   ]
  }
 ],
 "metadata": {
  "kernelspec": {
   "display_name": "Python 3",
   "language": "python",
   "name": "python3"
  },
  "language_info": {
   "codemirror_mode": {
    "name": "ipython",
    "version": 3
   },
   "file_extension": ".py",
   "mimetype": "text/x-python",
   "name": "python",
   "nbconvert_exporter": "python",
   "pygments_lexer": "ipython3",
   "version": "3.7.12"
  },
  "papermill": {
   "default_parameters": {},
   "duration": 9.628994,
   "end_time": "2022-08-15T17:07:16.973974",
   "environment_variables": {},
   "exception": null,
   "input_path": "__notebook__.ipynb",
   "output_path": "__notebook__.ipynb",
   "parameters": {},
   "start_time": "2022-08-15T17:07:07.344980",
   "version": "2.3.4"
  }
 },
 "nbformat": 4,
 "nbformat_minor": 5
}
